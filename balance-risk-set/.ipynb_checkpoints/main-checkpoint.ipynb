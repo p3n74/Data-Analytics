{
 "cells": [
  {
   "cell_type": "markdown",
   "id": "intro",
   "metadata": {},
   "source": [
    "# Risk Set Matching Simulation and Analysis\n",
    "\n",
    "This notebook runs a full simulation study that includes:\n",
    "\n",
    "- Simulating patient data with covariates\n",
    "- Assigning treatment and treatment times\n",
    "- Generating survival (event) times using a specified baseline hazard and treatment effect\n",
    "- Creating binary variables to enforce balance constraints\n",
    "- Matching treated patients to controls using integer programming (risk set matching with Mahalanobis distance)\n",
    "- Checking covariate balance\n",
    "- Visualizing covariate distributions using boxplots\n",
    "- Performing outcome analysis with a Cox proportional hazards model\n",
    "- Running a sensitivity analysis\n",
    "\n",
    "Adjustable parameters include `baseline_hazard`, `treatment_effect`, and `censoring_time`.\n",
    "\n",
    "The explanations below help you understand what each section of the code is doing."
   ]
  },
  {
   "cell_type": "markdown",
   "id": "libraries_explanation",
   "metadata": {},
   "source": [
    "## 1. Load Libraries and Set Seed\n",
    "\n",
    "We start by loading the necessary R libraries. These libraries support data manipulation (`dplyr`), survival analysis (`survival`), optimization (`ROI` and `ROI.plugin.glpk`), plotting (`ggplot2`), parallel processing (`parallel`), balance checking (`cobalt`), and sensitivity analysis (`sensitivitymw`). We also set a random seed for reproducibility."
   ]
  },
  {
   "cell_type": "code",
   "execution_count": 18,
   "id": "load_libraries",
   "metadata": {
    "vscode": {
     "languageId": "r"
    }
   },
   "outputs": [],
   "source": [
    "# Load necessary libraries\n",
    "library(dplyr)\n",
    "library(survival)\n",
    "library(ROI)\n",
    "library(ROI.plugin.glpk)\n",
    "library(ggplot2)\n",
    "library(parallel)\n",
    "library(cobalt)\n",
    "library(sensitivitymw)\n",
    "library(tidyr)  # for reshaping data for boxplots\n",
    "\n",
    "# Set seed for reproducibility\n",
    "set.seed(6969)"
   ]
  },
  {
   "cell_type": "markdown",
   "id": "simulation_parameters_explanation",
   "metadata": {},
   "source": [
    "## 2. Simulation Parameters\n",
    "\n",
    "Here we define key parameters for the simulation:\n",
    "\n",
    "- `n_patients`: The total number of patients simulated.\n",
    "- `n_treated_pairs`: The number of treated patients (and hence matched pairs).\n",
    "- `n_covariates`: The number of covariates used in the simulation (three measured at baseline and three at treatment time).\n",
    "- `num_cores`: The number of cores used for parallel processing during matching."
   ]
  },
  {
   "cell_type": "code",
   "execution_count": 19,
   "id": "simulation_parameters",
   "metadata": {
    "vscode": {
     "languageId": "r"
    }
   },
   "outputs": [],
   "source": [
    "### Simulation Parameters\n",
    "n_patients <- 800          # Total number of patients\n",
    "n_treated_pairs <- 200     # Number of matched pairs (i.e., 200 treated patients)\n",
    "n_covariates <- 6          # Number of covariates (3 at baseline and 3 at treatment time)\n",
    "num_cores <- 4             # Number of cores for parallel processing"
   ]
  },
  {
   "cell_type": "markdown",
   "id": "generate_covariates_explanation",
   "metadata": {},
   "source": [
    "## 3. Generate Covariate Data\n",
    "\n",
    "The function `generate_covariates()` simulates six covariate values per patient. Three represent baseline measures (e.g., pain, urgency, frequency) and three represent changes from baseline to treatment time. These values are later used to both simulate the event times and for matching."
   ]
  },
  {
   "cell_type": "code",
   "execution_count": 20,
   "id": "generate_covariates_code",
   "metadata": {
    "vscode": {
     "languageId": "r"
    }
   },
   "outputs": [],
   "source": [
    "### Function to generate covariate values\n",
    "generate_covariates <- function(n) {\n",
    "  # Generate continuous covariates for Pain, Urgency, Frequency at baseline\n",
    "  baseline_pain <- rnorm(n, mean = 5, sd = 2)\n",
    "  baseline_urgency <- rnorm(n, mean = 5, sd = 2)\n",
    "  baseline_frequency <- rnorm(n, mean = 5, sd = 2)\n",
    "  \n",
    "  # Generate change in covariates until treatment time\n",
    "  delta_pain <- rnorm(n, mean = 0, sd = 1)\n",
    "  delta_urgency <- rnorm(n, mean = 0, sd = 1)\n",
    "  delta_frequency <- rnorm(n, mean = 0, sd = 1)\n",
    "  \n",
    "  # Covariates at treatment time\n",
    "  treatment_pain <- baseline_pain + delta_pain\n",
    "  treatment_urgency <- baseline_urgency + delta_urgency\n",
    "  treatment_frequency <- baseline_frequency + delta_frequency\n",
    "  \n",
    "  # Combine into a data frame\n",
    "  covariates <- data.frame(\n",
    "    baseline_pain,\n",
    "    baseline_urgency,\n",
    "    baseline_frequency,\n",
    "    treatment_pain,\n",
    "    treatment_urgency,\n",
    "    treatment_frequency\n",
    "  )\n",
    "  \n",
    "  return(covariates)\n",
    "}"
   ]
  },
  {
   "cell_type": "markdown",
   "id": "simulate_patient_data_explanation",
   "metadata": {},
   "source": [
    "## 4. Simulate Patient Data\n",
    "\n",
    "We create a data frame for patients and then add the simulated covariates from the previous function."
   ]
  },
  {
   "cell_type": "code",
   "execution_count": 21,
   "id": "simulate_patient_data",
   "metadata": {
    "vscode": {
     "languageId": "r"
    }
   },
   "outputs": [],
   "source": [
    "### Simulate Patient Data\n",
    "patients <- data.frame(ID = 1:n_patients)\n",
    "patients <- cbind(patients, generate_covariates(n_patients))"
   ]
  },
  {
   "cell_type": "markdown",
   "id": "simulate_treatment_assignment_explanation",
   "metadata": {},
   "source": [
    "## 5. Simulate Treatment Assignment\n",
    "\n",
    "Patients are randomly assigned to eventually receive the treatment. For treated patients, a treatment time is randomly selected. Controls (never treated) are assigned an infinite treatment time so that they can be eligible as controls in the risk set matching."
   ]
  },
  {
   "cell_type": "code",
   "execution_count": 22,
   "id": "simulate_treatment_assignment",
   "metadata": {
    "vscode": {
     "languageId": "r"
    }
   },
   "outputs": [],
   "source": [
    "### Simulate Treatment Assignment\n",
    "# Patients who eventually receive treatment\n",
    "treated_patients <- sample(patients$ID, size = n_treated_pairs)\n",
    "patients$eventually_treated <- ifelse(patients$ID %in% treated_patients, 1, 0)\n",
    "\n",
    "# Assume that treated patients receive treatment at random times\n",
    "patients$treatment_time <- NA\n",
    "patients$treatment_time[patients$eventually_treated == 1] <- sample(1:24, size = n_treated_pairs, replace = TRUE)\n",
    "patients$treatment_time[patients$eventually_treated == 0] <- Inf  # Never treated"
   ]
  },
  {
   "cell_type": "markdown",
   "id": "frailty_linear_predictor_explanation",
   "metadata": {},
   "source": [
    "## 6. Generate Unobserved Frailty and Build the Linear Predictor\n",
    "\n",
    "We simulate an unobserved frailty term (a random effect) and build a linear predictor that combines the covariates, the frailty, and the treatment effect. This linear predictor is used to modulate the hazard rate when simulating event times. The `treatment_effect` parameter is adjustable and, here, a negative value indicates a protective effect."
   ]
  },
  {
   "cell_type": "code",
   "execution_count": 23,
   "id": "frailty_linear_predictor",
   "metadata": {
    "vscode": {
     "languageId": "r"
    }
   },
   "outputs": [],
   "source": [
    "### Generate Unobserved Frailty and Build the Linear Predictor\n",
    "patients$unobserved <- rnorm(n_patients, mean = 0, sd = 1)\n",
    "\n",
    "# Adjustable treatment effect (negative indicates protective effect)\n",
    "treatment_effect <- -10.5\n",
    "\n",
    "patients$lin_pred <- with(patients,\n",
    "                          0.5 * baseline_pain +\n",
    "                          0.5 * baseline_urgency +\n",
    "                          0.5 * baseline_frequency +\n",
    "                          0.5 * treatment_pain +\n",
    "                          0.5 * treatment_urgency +\n",
    "                          0.5 * treatment_frequency +\n",
    "                          unobserved +\n",
    "                          treatment_effect * eventually_treated)"
   ]
  },
  {
   "cell_type": "markdown",
   "id": "simulate_event_times_explanation",
   "metadata": {},
   "source": [
    "## 7. Simulate Event Times and Censoring\n",
    "\n",
    "Event times are simulated from an exponential distribution where the rate depends on a baseline hazard and the exponentiated linear predictor. We then define a censoring time so that any event time beyond this cutoff is censored."
   ]
  },
  {
   "cell_type": "code",
   "execution_count": 24,
   "id": "simulate_event_times",
   "metadata": {
    "vscode": {
     "languageId": "r"
    }
   },
   "outputs": [],
   "source": [
    "### Simulate Event Times and Censoring\n",
    "# Adjustable baseline hazard\n",
    "baseline_hazard <- 0.002\n",
    "patients$event_time <- rexp(n_patients, rate = baseline_hazard * exp(patients$lin_pred))\n",
    "\n",
    "# Adjustable censoring time\n",
    "censoring_time <- 10\n",
    "patients$time <- pmin(patients$event_time, censoring_time)\n",
    "patients$event <- as.numeric(patients$event_time <= censoring_time)"
   ]
  },
  {
   "cell_type": "markdown",
   "id": "binary_variables_explanation",
   "metadata": {},
   "source": [
    "## 8. Create Binary Variables for Covariate Balance\n",
    "\n",
    "To help enforce balance between treated and control groups during matching, we compute quantiles (1/3 and 2/3) for each covariate and then create binary indicators that flag whether a patient's value exceeds these quantiles. These binary variables are later used as constraints in the matching algorithm."
   ]
  },
  {
   "cell_type": "code",
   "execution_count": 25,
   "id": "binary_variables",
   "metadata": {
    "vscode": {
     "languageId": "r"
    }
   },
   "outputs": [],
   "source": [
    "### Create Binary Variables for Covariate Balance\n",
    "\n",
    "covariate_names <- c(\"baseline_pain\", \"baseline_urgency\", \"baseline_frequency\",\n",
    "                     \"treatment_pain\", \"treatment_urgency\", \"treatment_frequency\")\n",
    "\n",
    "# Calculate quantiles for each covariate\n",
    "quantiles <- lapply(patients[, covariate_names], function(x) quantile(x, probs = c(1/3, 2/3)))\n",
    "\n",
    "# Function to create binary variables\n",
    "create_binary_variables <- function(x, q) {\n",
    "  binary_vars <- matrix(0, nrow = length(x), ncol = 2)\n",
    "  binary_vars[, 1] <- as.numeric(x > q[1])\n",
    "  binary_vars[, 2] <- as.numeric(x > q[2])\n",
    "  return(binary_vars)\n",
    "}\n",
    "\n",
    "# Generate binary variables for each covariate\n",
    "binary_vars_list <- list()\n",
    "for (i in seq_along(covariate_names)) {\n",
    "  covariate_name <- covariate_names[i]\n",
    "  x <- patients[[covariate_name]]\n",
    "  q <- quantiles[[i]]\n",
    "  \n",
    "  if (length(q) == 2 && !is.null(x)) {\n",
    "    binary_vars <- create_binary_variables(x, q)\n",
    "    colnames(binary_vars) <- paste0(c(\"B1_\", \"B2_\"), covariate_name)\n",
    "    binary_vars_list[[i]] <- binary_vars\n",
    "  } else {\n",
    "    stop(paste(\"Error in processing covariate:\", covariate_name))\n",
    "  }\n",
    "}\n",
    "\n",
    "binary_covariates <- do.call(cbind, binary_vars_list)\n",
    "patients <- cbind(patients, binary_covariates)"
   ]
  },
  {
   "cell_type": "markdown",
   "id": "matching_explanation",
   "metadata": {},
   "source": [
    "## 9. Matching via Integer Programming (Risk Set Matching)\n",
    "\n",
    "This section implements risk set matching. For each treated patient, we:\n",
    "\n",
    "- Identify potential controls who are still untreated at the time of treatment.\n",
    "- Calculate the Mahalanobis distance between the treated patient and potential controls based on the covariates.\n",
    "- Enforce balance constraints using the binary covariates created earlier.\n",
    "\n",
    "The matching is solved as an integer programming (IP) problem using the `ROI` package with the `glpk` solver. Matching for all treated patients is done in parallel to speed up the process."
   ]
  },
  {
   "cell_type": "code",
   "execution_count": 26,
   "id": "matching_code",
   "metadata": {
    "vscode": {
     "languageId": "r"
    }
   },
   "outputs": [
    {
     "data": {
      "text/html": [
       "<ol>\n",
       "\t<li><style>\n",
       ".list-inline {list-style: none; margin:0; padding: 0}\n",
       ".list-inline>li {display: inline-block}\n",
       ".list-inline>li:not(:last-child)::after {content: \"\\00b7\"; padding: 0 .5ex}\n",
       "</style>\n",
       "<ol class=list-inline><li>'ROI.plugin.glpk'</li><li>'ROI'</li><li>'dplyr'</li><li>'stats'</li><li>'graphics'</li><li>'grDevices'</li><li>'utils'</li><li>'datasets'</li><li>'methods'</li><li>'base'</li></ol>\n",
       "</li>\n",
       "\t<li><style>\n",
       ".list-inline {list-style: none; margin:0; padding: 0}\n",
       ".list-inline>li {display: inline-block}\n",
       ".list-inline>li:not(:last-child)::after {content: \"\\00b7\"; padding: 0 .5ex}\n",
       "</style>\n",
       "<ol class=list-inline><li>'ROI.plugin.glpk'</li><li>'ROI'</li><li>'dplyr'</li><li>'stats'</li><li>'graphics'</li><li>'grDevices'</li><li>'utils'</li><li>'datasets'</li><li>'methods'</li><li>'base'</li></ol>\n",
       "</li>\n",
       "\t<li><style>\n",
       ".list-inline {list-style: none; margin:0; padding: 0}\n",
       ".list-inline>li {display: inline-block}\n",
       ".list-inline>li:not(:last-child)::after {content: \"\\00b7\"; padding: 0 .5ex}\n",
       "</style>\n",
       "<ol class=list-inline><li>'ROI.plugin.glpk'</li><li>'ROI'</li><li>'dplyr'</li><li>'stats'</li><li>'graphics'</li><li>'grDevices'</li><li>'utils'</li><li>'datasets'</li><li>'methods'</li><li>'base'</li></ol>\n",
       "</li>\n",
       "\t<li><style>\n",
       ".list-inline {list-style: none; margin:0; padding: 0}\n",
       ".list-inline>li {display: inline-block}\n",
       ".list-inline>li:not(:last-child)::after {content: \"\\00b7\"; padding: 0 .5ex}\n",
       "</style>\n",
       "<ol class=list-inline><li>'ROI.plugin.glpk'</li><li>'ROI'</li><li>'dplyr'</li><li>'stats'</li><li>'graphics'</li><li>'grDevices'</li><li>'utils'</li><li>'datasets'</li><li>'methods'</li><li>'base'</li></ol>\n",
       "</li>\n",
       "</ol>\n"
      ],
      "text/latex": [
       "\\begin{enumerate}\n",
       "\\item \\begin{enumerate*}\n",
       "\\item 'ROI.plugin.glpk'\n",
       "\\item 'ROI'\n",
       "\\item 'dplyr'\n",
       "\\item 'stats'\n",
       "\\item 'graphics'\n",
       "\\item 'grDevices'\n",
       "\\item 'utils'\n",
       "\\item 'datasets'\n",
       "\\item 'methods'\n",
       "\\item 'base'\n",
       "\\end{enumerate*}\n",
       "\n",
       "\\item \\begin{enumerate*}\n",
       "\\item 'ROI.plugin.glpk'\n",
       "\\item 'ROI'\n",
       "\\item 'dplyr'\n",
       "\\item 'stats'\n",
       "\\item 'graphics'\n",
       "\\item 'grDevices'\n",
       "\\item 'utils'\n",
       "\\item 'datasets'\n",
       "\\item 'methods'\n",
       "\\item 'base'\n",
       "\\end{enumerate*}\n",
       "\n",
       "\\item \\begin{enumerate*}\n",
       "\\item 'ROI.plugin.glpk'\n",
       "\\item 'ROI'\n",
       "\\item 'dplyr'\n",
       "\\item 'stats'\n",
       "\\item 'graphics'\n",
       "\\item 'grDevices'\n",
       "\\item 'utils'\n",
       "\\item 'datasets'\n",
       "\\item 'methods'\n",
       "\\item 'base'\n",
       "\\end{enumerate*}\n",
       "\n",
       "\\item \\begin{enumerate*}\n",
       "\\item 'ROI.plugin.glpk'\n",
       "\\item 'ROI'\n",
       "\\item 'dplyr'\n",
       "\\item 'stats'\n",
       "\\item 'graphics'\n",
       "\\item 'grDevices'\n",
       "\\item 'utils'\n",
       "\\item 'datasets'\n",
       "\\item 'methods'\n",
       "\\item 'base'\n",
       "\\end{enumerate*}\n",
       "\n",
       "\\end{enumerate}\n"
      ],
      "text/markdown": [
       "1. 1. 'ROI.plugin.glpk'\n",
       "2. 'ROI'\n",
       "3. 'dplyr'\n",
       "4. 'stats'\n",
       "5. 'graphics'\n",
       "6. 'grDevices'\n",
       "7. 'utils'\n",
       "8. 'datasets'\n",
       "9. 'methods'\n",
       "10. 'base'\n",
       "\n",
       "\n",
       "\n",
       "2. 1. 'ROI.plugin.glpk'\n",
       "2. 'ROI'\n",
       "3. 'dplyr'\n",
       "4. 'stats'\n",
       "5. 'graphics'\n",
       "6. 'grDevices'\n",
       "7. 'utils'\n",
       "8. 'datasets'\n",
       "9. 'methods'\n",
       "10. 'base'\n",
       "\n",
       "\n",
       "\n",
       "3. 1. 'ROI.plugin.glpk'\n",
       "2. 'ROI'\n",
       "3. 'dplyr'\n",
       "4. 'stats'\n",
       "5. 'graphics'\n",
       "6. 'grDevices'\n",
       "7. 'utils'\n",
       "8. 'datasets'\n",
       "9. 'methods'\n",
       "10. 'base'\n",
       "\n",
       "\n",
       "\n",
       "4. 1. 'ROI.plugin.glpk'\n",
       "2. 'ROI'\n",
       "3. 'dplyr'\n",
       "4. 'stats'\n",
       "5. 'graphics'\n",
       "6. 'grDevices'\n",
       "7. 'utils'\n",
       "8. 'datasets'\n",
       "9. 'methods'\n",
       "10. 'base'\n",
       "\n",
       "\n",
       "\n",
       "\n",
       "\n"
      ],
      "text/plain": [
       "[[1]]\n",
       " [1] \"ROI.plugin.glpk\" \"ROI\"             \"dplyr\"           \"stats\"          \n",
       " [5] \"graphics\"        \"grDevices\"       \"utils\"           \"datasets\"       \n",
       " [9] \"methods\"         \"base\"           \n",
       "\n",
       "[[2]]\n",
       " [1] \"ROI.plugin.glpk\" \"ROI\"             \"dplyr\"           \"stats\"          \n",
       " [5] \"graphics\"        \"grDevices\"       \"utils\"           \"datasets\"       \n",
       " [9] \"methods\"         \"base\"           \n",
       "\n",
       "[[3]]\n",
       " [1] \"ROI.plugin.glpk\" \"ROI\"             \"dplyr\"           \"stats\"          \n",
       " [5] \"graphics\"        \"grDevices\"       \"utils\"           \"datasets\"       \n",
       " [9] \"methods\"         \"base\"           \n",
       "\n",
       "[[4]]\n",
       " [1] \"ROI.plugin.glpk\" \"ROI\"             \"dplyr\"           \"stats\"          \n",
       " [5] \"graphics\"        \"grDevices\"       \"utils\"           \"datasets\"       \n",
       " [9] \"methods\"         \"base\"           \n"
      ]
     },
     "metadata": {},
     "output_type": "display_data"
    }
   ],
   "source": [
    "### Formulate and Solve the Integer Programming Problem (Risk Set Matching)\n",
    "\n",
    "# Initialize Matched Pairs List\n",
    "matched_pairs <- list()\n",
    "\n",
    "# Create a data frame with treated patient information\n",
    "treated_info <- patients %>%\n",
    "  filter(eventually_treated == 1) %>%\n",
    "  select(ID, treatment_time)\n",
    "\n",
    "# Set up parallel processing\n",
    "cl <- makeCluster(num_cores)\n",
    "clusterExport(cl, varlist = c(\"patients\", \"treated_info\", \"covariate_names\", \"binary_covariates\"), envir = environment())\n",
    "clusterEvalQ(cl, {\n",
    "  library(dplyr)\n",
    "  library(ROI)\n",
    "  library(ROI.plugin.glpk)\n",
    "})\n",
    "\n",
    "match_treated_patient <- function(i) {\n",
    "  library(dplyr)\n",
    "  library(ROI)\n",
    "  library(ROI.plugin.glpk)\n",
    "  \n",
    "  # Get treated patient information\n",
    "  treated_patient <- treated_info[i, ]\n",
    "  p <- treated_patient$ID\n",
    "  Tp <- treated_patient$treatment_time\n",
    "  \n",
    "  # Identify potential controls: patients not yet treated at time Tp\n",
    "  potential_controls <- patients %>%\n",
    "    filter((eventually_treated == 0) | (treatment_time > Tp)) %>%\n",
    "    filter(ID != p)\n",
    "  \n",
    "  if (nrow(potential_controls) == 0) {\n",
    "    return(NULL)\n",
    "  }\n",
    "  \n",
    "  # Compute Mahalanobis distance\n",
    "  X_p <- as.numeric(patients[patients$ID == p, covariate_names])\n",
    "  X_q <- as.matrix(potential_controls[, covariate_names])\n",
    "  cov_matrix <- cov(patients[, covariate_names])\n",
    "  inv_cov_matrix <- solve(cov_matrix)\n",
    "  diff <- X_q - matrix(X_p, nrow = nrow(X_q), ncol = length(X_p), byrow = TRUE)\n",
    "  d_e <- sqrt(rowSums((diff %*% inv_cov_matrix) * diff))\n",
    "  \n",
    "  # Scale distances\n",
    "  d_e <- d_e / max(d_e + 1e-8)\n",
    "  \n",
    "  # Prepare binary variables for balance constraints\n",
    "  Bpk_names <- colnames(binary_covariates)\n",
    "  Bpk <- as.numeric(patients[patients$ID == p, Bpk_names])\n",
    "  Bek <- as.matrix(potential_controls[, Bpk_names])\n",
    "  K <- length(Bpk)\n",
    "  \n",
    "  # Number of variables:\n",
    "  N_controls <- nrow(potential_controls)\n",
    "  num_variables <- N_controls + 2 * K\n",
    "  \n",
    "  # Objective function: minimize total distance + penalties for imbalance\n",
    "  Lambda_k <- rep(max(d_e) + 1, K)\n",
    "  obj <- c(d_e, Lambda_k, Lambda_k)\n",
    "  \n",
    "  # Variable types\n",
    "  var_types <- c(rep(\"B\", N_controls), rep(\"C\", 2 * K))\n",
    "  \n",
    "  # Constraints\n",
    "  # 1. Matching Constraint: exactly one control is matched\n",
    "  mat_matching <- matrix(0, nrow = 1, ncol = num_variables)\n",
    "  mat_matching[1, 1:N_controls] <- 1\n",
    "  dir_matching <- \"==\"\n",
    "  rhs_matching <- 1\n",
    "  \n",
    "  # 2. Balance Constraints\n",
    "  mat_balance <- matrix(0, nrow = 2 * K, ncol = num_variables)\n",
    "  rhs_balance <- numeric(2 * K)\n",
    "  dir_balance <- rep(\"==\", 2 * K)\n",
    "  \n",
    "  for (k in 1:K) {\n",
    "    Bpk_k <- Bpk[k]\n",
    "    Bek_k <- Bek[, k]\n",
    "    \n",
    "    # Positive Gap Constraint\n",
    "    mat_balance[k, 1:N_controls] <- Bek_k\n",
    "    mat_balance[k, N_controls + k] <- 1\n",
    "    rhs_balance[k] <- Bpk_k\n",
    "    \n",
    "    # Negative Gap Constraint\n",
    "    mat_balance[K + k, 1:N_controls] <- -Bek_k\n",
    "    mat_balance[K + k, N_controls + K + k] <- 1\n",
    "    rhs_balance[K + k] <- -Bpk_k\n",
    "  }\n",
    "  \n",
    "  # Variable Bounds\n",
    "  lb <- rep(0, num_variables)\n",
    "  ub <- c(rep(1, N_controls), rep(Inf, 2 * K))\n",
    "  \n",
    "  # Combine constraints\n",
    "  mat <- rbind(mat_matching, mat_balance)\n",
    "  dir <- c(dir_matching, dir_balance)\n",
    "  rhs <- c(rhs_matching, rhs_balance)\n",
    "  \n",
    "  # Define the optimization problem\n",
    "  opt_problem <- OP(objective = obj,\n",
    "                    constraints = L_constraint(L = mat, dir = dir, rhs = rhs),\n",
    "                    types = var_types,\n",
    "                    bounds = V_bound(li = 1:num_variables, ui = 1:num_variables, lb = lb, ub = ub),\n",
    "                    maximum = FALSE)\n",
    "  \n",
    "  # Solve the Integer Program\n",
    "  result <- ROI_solve(opt_problem, solver = \"glpk\")\n",
    "  \n",
    "  if (result$status$code == 0) {\n",
    "    solution <- result$solution\n",
    "    matched_control_index <- which(solution[1:N_controls] == 1)\n",
    "    if (length(matched_control_index) == 1) {\n",
    "      matched_control <- potential_controls[matched_control_index, ]\n",
    "      matched_pair <- data.frame(\n",
    "        TreatedID = p,\n",
    "        ControlID = matched_control$ID\n",
    "      )\n",
    "      return(matched_pair)\n",
    "    } else {\n",
    "      return(NULL)\n",
    "    }\n",
    "  } else {\n",
    "    return(NULL)\n",
    "  }\n",
    "}\n",
    "\n",
    "# Export variables and functions to the cluster\n",
    "clusterExport(cl, varlist = c(\"patients\", \"treated_info\", \"covariate_names\",\n",
    "                              \"binary_covariates\", \"match_treated_patient\"), envir = environment())\n",
    "\n",
    "# Perform matching in parallel\n",
    "matched_pairs_list <- parLapply(cl, 1:n_treated_pairs, match_treated_patient)\n",
    "\n",
    "# Stop cluster\n",
    "stopCluster(cl)\n",
    "\n",
    "# Combine matched pairs and remove any NULL entries\n",
    "matched_pairs <- do.call(rbind, matched_pairs_list)\n",
    "matched_pairs <- matched_pairs[complete.cases(matched_pairs), ]\n",
    "matched_pairs$pair_id <- 1:nrow(matched_pairs)"
   ]
  },
  {
   "cell_type": "markdown",
   "id": "retrieve_matched_data_explanation",
   "metadata": {},
   "source": [
    "## 10. Retrieve Matched Data and Create Treatment Indicator\n",
    "\n",
    "We now retrieve the matched patients from the overall data frame, assign a treatment indicator (1 for treated, 0 for control), and merge in the pair IDs. This combined dataset (`matched_data`) is used in later analysis."
   ]
  },
  {
   "cell_type": "code",
   "execution_count": 27,
   "id": "retrieve_matched_data",
   "metadata": {
    "vscode": {
     "languageId": "r"
    }
   },
   "outputs": [],
   "source": [
    "### Retrieve Matched Data and Create Treatment Indicator\n",
    "matched_data_treated <- patients[patients$ID %in% matched_pairs$TreatedID, ]\n",
    "matched_data_control <- patients[patients$ID %in% matched_pairs$ControlID, ]\n",
    "\n",
    "matched_data_treated$treatment <- 1\n",
    "matched_data_control$treatment <- 0\n",
    "\n",
    "# Merge pair IDs\n",
    "matched_data_treated <- merge(matched_data_treated,\n",
    "                              matched_pairs[, c(\"TreatedID\", \"pair_id\")],\n",
    "                              by.x = \"ID\", by.y = \"TreatedID\", all.x = TRUE)\n",
    "matched_data_control <- merge(matched_data_control,\n",
    "                              matched_pairs[, c(\"ControlID\", \"pair_id\")],\n",
    "                              by.x = \"ID\", by.y = \"ControlID\", all.x = TRUE)\n",
    "\n",
    "matched_data <- rbind(matched_data_treated, matched_data_control)\n",
    "matched_data <- matched_data[order(matched_data$pair_id, matched_data$treatment), ]"
   ]
  },
  {
   "cell_type": "markdown",
   "id": "balance_explanation",
   "metadata": {},
   "source": [
    "## 11. Check Covariate Balance\n",
    "\n",
    "Before moving to outcome analysis, we verify that the matching process has balanced the covariates between the treated and control groups. The `cobalt` package is used to generate a balance table."
   ]
  },
  {
   "cell_type": "code",
   "execution_count": 28,
   "id": "balance_check",
   "metadata": {
    "vscode": {
     "languageId": "r"
    }
   },
   "outputs": [
    {
     "name": "stderr",
     "output_type": "stream",
     "text": [
      "Warning message:\n",
      "\"Not enough control units in subclasses 1, 2, 3, 4, 5, 6, 7, 8, 9, 10, 11, 12, 13, 14, 15, 16, 17, 18, 19, 20, 21, 22, 23, 24, 25, 26, 27, 28, 29, 30, 31, 32, 33, 34, 35, 36, 37, 38, 39, 40, 41, 42, 43, 44, 45, 46, 47, 48, 49, 50, 51, 52, 53, 54, 55, 56, 57, 58, 59, 60, 61, 62, 63, 64, 65, 66, 67, 68, 69, 70, 71, 72, 73, 74, 75, 76, 77, 78, 79, 80, 81, 82, 83, 84, 85, 86, 87, 88, 89, 90, 91, 92, 93, 94, 95, 96, 97, 98, 99, 100, 101, 102, 103, 104, 105, 106, 107, 108, 109, 110, 111, 112, 113, 114, 115, 116, 117, 118, 119, 120, 121, 122, 123, 124, 125, 126, 127, 128, 129, 130, 131, 132, 133, 134, 135, 136, 137, 138, 139, 140, 141, 142, 143, 144, 145, 146, 147, 148, 149, 150, 151, 152, 153, 154, 155, 156, 157, 158, 159, 160, 161, 162, 163, 164, 165, 166, 167, 168, 169, 170, 171, 172, 173, 174, and 175.\"\n",
      "Warning message:\n",
      "\"Not enough treated units in subclasses 1, 2, 3, 4, 5, 6, 7, 8, 9, 10, 11, 12, 13, 14, 15, 16, 17, 18, 19, 20, 21, 22, 23, 24, 25, 26, 27, 28, 29, 30, 31, 32, 33, 34, 35, 36, 37, 38, 39, 40, 41, 42, 43, 44, 45, 46, 47, 48, 49, 50, 51, 52, 53, 54, 55, 56, 57, 58, 59, 60, 61, 62, 63, 64, 65, 66, 67, 68, 69, 70, 71, 72, 73, 74, 75, 76, 77, 78, 79, 80, 81, 82, 83, 84, 85, 86, 87, 88, 89, 90, 91, 92, 93, 94, 95, 96, 97, 98, 99, 100, 101, 102, 103, 104, 105, 106, 107, 108, 109, 110, 111, 112, 113, 114, 115, 116, 117, 118, 119, 120, 121, 122, 123, 124, 125, 126, 127, 128, 129, 130, 131, 132, 133, 134, 135, 136, 137, 138, 139, 140, 141, 142, 143, 144, 145, 146, 147, 148, 149, 150, 151, 152, 153, 154, 155, 156, 157, 158, 159, 160, 161, 162, 163, 164, 165, 166, 167, 168, 169, 170, 171, 172, 173, 174, and 175.\"\n"
     ]
    },
    {
     "name": "stdout",
     "output_type": "stream",
     "text": [
      "\u001b[4mBalance measures across subclasses\u001b[24m\n",
      "                       Type Diff.Adj\n",
      "baseline_pain       Contin.   0.0238\n",
      "baseline_urgency    Contin.   0.0166\n",
      "baseline_frequency  Contin.   0.0119\n",
      "treatment_pain      Contin.   0.0005\n",
      "treatment_urgency   Contin.   0.0365\n",
      "treatment_frequency Contin.   0.0025\n",
      "\n",
      "\u001b[4mSample sizes by subclass\u001b[24m\n",
      "        1 2 3 4 5 6 7 8 9 10 11 12 13 14 15 16 17 18 19 20 21 22 23 24 25 26 27\n",
      "Control 1 1 1 1 1 1 1 1 1  1  1  1  1  1  1  1  1  1  1  1  1  1  1  1  1  1  1\n",
      "Treated 1 1 1 1 1 1 1 1 1  1  1  1  1  1  1  1  1  1  1  1  1  1  1  1  1  1  1\n",
      "Total   2 2 2 2 2 2 2 2 2  2  2  2  2  2  2  2  2  2  2  2  2  2  2  2  2  2  2\n",
      "        28 29 30 31 32 33 34 35 36 37 38 39 40 41 42 43 44 45 46 47 48 49 50 51\n",
      "Control  1  1  1  1  1  1  1  1  1  1  1  1  1  1  1  1  1  1  1  1  1  1  1  1\n",
      "Treated  1  1  1  1  1  1  1  1  1  1  1  1  1  1  1  1  1  1  1  1  1  1  1  1\n",
      "Total    2  2  2  2  2  2  2  2  2  2  2  2  2  2  2  2  2  2  2  2  2  2  2  2\n",
      "        52 53 54 55 56 57 58 59 60 61 62 63 64 65 66 67 68 69 70 71 72 73 74 75\n",
      "Control  1  1  1  1  1  1  1  1  1  1  1  1  1  1  1  1  1  1  1  1  1  1  1  1\n",
      "Treated  1  1  1  1  1  1  1  1  1  1  1  1  1  1  1  1  1  1  1  1  1  1  1  1\n",
      "Total    2  2  2  2  2  2  2  2  2  2  2  2  2  2  2  2  2  2  2  2  2  2  2  2\n",
      "        76 77 78 79 80 81 82 83 84 85 86 87 88 89 90 91 92 93 94 95 96 97 98 99\n",
      "Control  1  1  1  1  1  1  1  1  1  1  1  1  1  1  1  1  1  1  1  1  1  1  1  1\n",
      "Treated  1  1  1  1  1  1  1  1  1  1  1  1  1  1  1  1  1  1  1  1  1  1  1  1\n",
      "Total    2  2  2  2  2  2  2  2  2  2  2  2  2  2  2  2  2  2  2  2  2  2  2  2\n",
      "        100 101 102 103 104 105 106 107 108 109 110 111 112 113 114 115 116 117\n",
      "Control   1   1   1   1   1   1   1   1   1   1   1   1   1   1   1   1   1   1\n",
      "Treated   1   1   1   1   1   1   1   1   1   1   1   1   1   1   1   1   1   1\n",
      "Total     2   2   2   2   2   2   2   2   2   2   2   2   2   2   2   2   2   2\n",
      "        118 119 120 121 122 123 124 125 126 127 128 129 130 131 132 133 134 135\n",
      "Control   1   1   1   1   1   1   1   1   1   1   1   1   1   1   1   1   1   1\n",
      "Treated   1   1   1   1   1   1   1   1   1   1   1   1   1   1   1   1   1   1\n",
      "Total     2   2   2   2   2   2   2   2   2   2   2   2   2   2   2   2   2   2\n",
      "        136 137 138 139 140 141 142 143 144 145 146 147 148 149 150 151 152 153\n",
      "Control   1   1   1   1   1   1   1   1   1   1   1   1   1   1   1   1   1   1\n",
      "Treated   1   1   1   1   1   1   1   1   1   1   1   1   1   1   1   1   1   1\n",
      "Total     2   2   2   2   2   2   2   2   2   2   2   2   2   2   2   2   2   2\n",
      "        154 155 156 157 158 159 160 161 162 163 164 165 166 167 168 169 170 171\n",
      "Control   1   1   1   1   1   1   1   1   1   1   1   1   1   1   1   1   1   1\n",
      "Treated   1   1   1   1   1   1   1   1   1   1   1   1   1   1   1   1   1   1\n",
      "Total     2   2   2   2   2   2   2   2   2   2   2   2   2   2   2   2   2   2\n",
      "        172 173 174 175 All\n",
      "Control   1   1   1   1 175\n",
      "Treated   1   1   1   1 175\n",
      "Total     2   2   2   2 350\n"
     ]
    }
   ],
   "source": [
    "### Check Covariate Balance\n",
    "balance <- bal.tab(treatment ~ baseline_pain + baseline_urgency + baseline_frequency +\n",
    "                     treatment_pain + treatment_urgency + treatment_frequency,\n",
    "                   data = matched_data,\n",
    "                   estimand = \"ATT\",\n",
    "                   subclass = matched_data$pair_id)\n",
    "print(balance)"
   ]
  },
  {
   "cell_type": "markdown",
   "id": "boxplots_explanation",
   "metadata": {},
   "source": [
    "## 12. Boxplots of Covariate Distributions by Treatment Group\n",
    "\n",
    "To visually inspect the balance between the treated and control groups, we create boxplots for each of the six covariates. These boxplots help us verify that the matching process has resulted in similar distributions of these covariates across the two groups."
   ]
  },
  {
   "cell_type": "code",
   "execution_count": 29,
   "id": "boxplots_code",
   "metadata": {
    "vscode": {
     "languageId": "r"
    }
   },
   "outputs": [
    {
     "data": {
      "image/png": "[encoded data removed]",
      "text/plain": [
       "plot without title"
      ]
     },
     "metadata": {
      "image/png": {
       "height": 420,
       "width": 420
      }
     },
     "output_type": "display_data"
    }
   ],
   "source": [
    "### Create Boxplots\n",
    "# Reshape the matched_data for plotting\n",
    "matched_long <- matched_data %>%\n",
    "  select(treatment, baseline_pain, baseline_urgency, baseline_frequency, \n",
    "         treatment_pain, treatment_urgency, treatment_frequency) %>%\n",
    "  pivot_longer(cols = -treatment, names_to = \"covariate\", values_to = \"value\")\n",
    "\n",
    "ggplot(matched_long, aes(x = factor(treatment), y = value, fill = factor(treatment))) +\n",
    "  geom_boxplot() +\n",
    "  facet_wrap(~ covariate, scales = \"free\") +\n",
    "  labs(\n",
    "    x = \"Treatment Group\",\n",
    "    y = \"Covariate Value\",\n",
    "    fill = \"Treatment\",\n",
    "    title = \"Boxplots of Covariate Distributions by Treatment Group\"\n",
    "  ) +\n",
    "  scale_x_discrete(labels = c(\"0\" = \"Control\", \"1\" = \"Treated\")) +\n",
    "  theme_minimal()"
   ]
  },
  {
   "cell_type": "markdown",
   "id": "cox_model_explanation",
   "metadata": {},
   "source": [
    "## 13. Outcome Analysis Using Cox Proportional Hazards Model\n",
    "\n",
    "We now analyze the effect of treatment on survival using a Cox proportional hazards model. The model uses the matched data to estimate the hazard ratio comparing treated and control groups."
   ]
  },
  {
   "cell_type": "code",
   "execution_count": 30,
   "id": "cox_model_code",
   "metadata": {
    "vscode": {
     "languageId": "r"
    }
   },
   "outputs": [
    {
     "data": {
      "text/plain": [
       "Call:\n",
       "coxph(formula = Surv(time, event) ~ treatment, data = matched_data)\n",
       "\n",
       "  n= 350, number of events= 280 \n",
       "\n",
       "             coef exp(coef) se(coef)      z Pr(>|z|)    \n",
       "treatment -1.5059    0.2218   0.1269 -11.87   <2e-16 ***\n",
       "---\n",
       "Signif. codes:  0 '***' 0.001 '**' 0.01 '*' 0.05 '.' 0.1 ' ' 1\n",
       "\n",
       "          exp(coef) exp(-coef) lower .95 upper .95\n",
       "treatment    0.2218      4.508     0.173    0.2844\n",
       "\n",
       "Concordance= 0.704  (se = 0.009 )\n",
       "Likelihood ratio test= 141.4  on 1 df,   p=<2e-16\n",
       "Wald test            = 140.9  on 1 df,   p=<2e-16\n",
       "Score (logrank) test = 162.4  on 1 df,   p=<2e-16\n"
      ]
     },
     "metadata": {},
     "output_type": "display_data"
    }
   ],
   "source": [
    "### Outcome Analysis Using Cox Proportional Hazards Model\n",
    "cox_model <- coxph(Surv(time, event) ~ treatment, data = matched_data)\n",
    "summary(cox_model)"
   ]
  },
  {
   "cell_type": "markdown",
   "id": "sensitivity_analysis_explanation",
   "metadata": {},
   "source": [
    "## 14. Sensitivity Analysis\n",
    "\n",
    "The final section performs a sensitivity analysis using the `senmw()` function to assess how robust our findings are to potential hidden biases. The analysis calculates p-values for different values of `gamma` (which represents the strength of unobserved confounding), and plots the results."
   ]
  },
  {
   "cell_type": "code",
   "execution_count": 31,
   "id": "sensitivity_analysis_code",
   "metadata": {
    "vscode": {
     "languageId": "r"
    }
   },
   "outputs": [
    {
     "data": {
      "image/png": "[encoded data removed]",
      "text/plain": [
       "plot without title"
      ]
     },
     "metadata": {
      "image/png": {
       "height": 420,
       "width": 420
      }
     },
     "output_type": "display_data"
    }
   ],
   "source": [
    "### Sensitivity Analysis\n",
    "sens_data <- matched_data %>%\n",
    "  group_by(pair_id) %>%\n",
    "  summarise(\n",
    "    treated_event = event[treatment == 1],\n",
    "    control_event = event[treatment == 0]\n",
    "  ) %>%\n",
    "  ungroup()\n",
    "\n",
    "sens_data <- sens_data %>%\n",
    "  filter(!is.na(treated_event) & !is.na(control_event)) %>%\n",
    "  mutate(diff = treated_event - control_event)\n",
    "\n",
    "discordant_pairs <- sens_data %>%\n",
    "  filter(!is.na(diff) & diff != 0)\n",
    "\n",
    "y <- discordant_pairs$diff\n",
    "if (length(y) == 0) {\n",
    "  stop(\"No discordant pairs available for sensitivity analysis.\")\n",
    "}\n",
    "y <- as.numeric(y)\n",
    "\n",
    "gamma_values <- seq(1, 2, by = 0.1)\n",
    "sensitivity_results <- data.frame(Gamma = gamma_values, p_value = NA)\n",
    "\n",
    "for (i in seq_along(gamma_values)) {\n",
    "  gamma <- gamma_values[i]\n",
    "  senmw_result <- senmw(y = y, gamma = gamma)\n",
    "  p_val_two_sided <- senmw_result$pval\n",
    "  p_val_one_sided <- p_val_two_sided / 2\n",
    "  if (mean(y) < 0) {\n",
    "    p_val_one_sided <- 1 - p_val_one_sided\n",
    "  }\n",
    "  sensitivity_results$p_value[i] <- p_val_one_sided\n",
    "}\n",
    "\n",
    "ggplot(sensitivity_results, aes(x = Gamma, y = p_value)) +\n",
    "  geom_line(color = \"blue\") +\n",
    "  geom_hline(yintercept = 0.05, linetype = \"dashed\", color = \"red\") +\n",
    "  labs(\n",
    "    title = \"Sensitivity Analysis using senmw()\",\n",
    "    x = expression(Gamma),\n",
    "    y = \"One-sided P-value\"\n",
    "  ) +\n",
    "  theme_minimal()"
   ]
  },
  {
   "cell_type": "markdown",
   "id": "results_analysis_explanation",
   "metadata": {},
   "source": [
    "## 15. Analysis of Cox Model Results\n",
    "\n",
    "The Cox proportional hazards model output is summarized as follows:\n",
    "\n",
    "Parameters: \n",
    "Treatment_effect = -10.5\n",
    "Baseline_hazard = 0.002\n",
    "Censoring_time = 30\n",
    "\n",
    "```\n",
    "Call:\n",
    "coxph(formula = Surv(time, event) ~ treatment, data = matched_data)\n",
    "\n",
    "  n= 350, number of events= 280 \n",
    "\n",
    "             coef exp(coef) se(coef)      z Pr(>|z|)    \n",
    "treatment -1.5059    0.2218   0.1269 -11.87   <2e-16 ***\n",
    "---\n",
    "Signif. codes:  0 '***' 0.001 '**' 0.01 '*' 0.05 '.' 0.1 ' ' 1\n",
    "\n",
    "          exp(coef) exp(-coef) lower .95 upper .95\n",
    "treatment    0.2218      4.508     0.173    0.2844\n",
    "\n",
    "Concordance= 0.704  (se = 0.009 )\n",
    "Likelihood ratio test= 141.4  on 1 df,   p=<2e-16\n",
    "Wald test            = 140.9  on 1 df,   p=<2e-16\n",
    "Score (logrank) test = 162.4  on 1 df,   p=<2e-16\n",
    "```\n",
    "\n",
    "### Key Points from the Output\n",
    "\n",
    "1. **Treatment Coefficient:**\n",
    "   - The coefficient for treatment is **-1.5059**, which is negative. This indicates that treatment is associated with a reduced hazard (i.e., a protective effect).\n",
    "\n",
    "2. **Hazard Ratio (HR):**\n",
    "   - `exp(coef)` is **0.2218**. This means that treated patients have approximately 22% of the hazard of the control patients. In other words, the treatment reduces the hazard by about 78%.\n",
    "\n",
    "3. **Statistical Significance:**\n",
    "   - The p-value is extremely small (p < 2e-16) indicating that the treatment effect is highly statistically significant.\n",
    "\n",
    "4. **Confidence Interval:**\n",
    "   - The 95% confidence interval for the hazard ratio is from **0.173** to **0.2844**, which does not cross 1. This reinforces that the treatment effect is significant and not due to chance.\n",
    "\n",
    "5. **Model Fit:**\n",
    "   - The concordance index (0.704) indicates that the model has a good ability to discriminate between patients who experience the event and those who do not.\n",
    "\n",
    "6. **Test Statistics:**\n",
    "   - The likelihood ratio, Wald, and score (logrank) tests are all significant (p < 2e-16), providing further evidence for the treatment effect.\n",
    "\n",
    "Overall, these results suggest that the treatment substantially reduces the hazard of the event (e.g., symptom improvement), and the model fits the data well."
   ]
  }
 ],
 "metadata": {
  "kernelspec": {
   "display_name": "R",
   "language": "R",
   "name": "ir"
  },
  "language_info": {
   "file_extension": ".r",
   "mimetype": "text/x-r-source",
   "name": "R",
   "version": "4.x"
  }
 },
 "nbformat": 4,
 "nbformat_minor": 5
}
