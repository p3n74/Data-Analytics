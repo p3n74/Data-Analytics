{
 "cells": [
  {
   "cell_type": "code",
   "execution_count": 2,
   "metadata": {},
   "outputs": [
    {
     "name": "stdout",
     "output_type": "stream",
     "text": [
      "Data shape: (725, 12)\n"
     ]
    },
    {
     "data": {
      "text/html": [
       "<div>\n",
       "<style scoped>\n",
       "    .dataframe tbody tr th:only-of-type {\n",
       "        vertical-align: middle;\n",
       "    }\n",
       "\n",
       "    .dataframe tbody tr th {\n",
       "        vertical-align: top;\n",
       "    }\n",
       "\n",
       "    .dataframe thead th {\n",
       "        text-align: right;\n",
       "    }\n",
       "</style>\n",
       "<table border=\"1\" class=\"dataframe\">\n",
       "  <thead>\n",
       "    <tr style=\"text-align: right;\">\n",
       "      <th></th>\n",
       "      <th>id</th>\n",
       "      <th>period</th>\n",
       "      <th>treatment</th>\n",
       "      <th>x1</th>\n",
       "      <th>x2</th>\n",
       "      <th>x3</th>\n",
       "      <th>x4</th>\n",
       "      <th>age</th>\n",
       "      <th>age_s</th>\n",
       "      <th>outcome</th>\n",
       "      <th>censored</th>\n",
       "      <th>eligible</th>\n",
       "    </tr>\n",
       "  </thead>\n",
       "  <tbody>\n",
       "    <tr>\n",
       "      <th>0</th>\n",
       "      <td>1</td>\n",
       "      <td>0</td>\n",
       "      <td>1</td>\n",
       "      <td>1</td>\n",
       "      <td>1.146148</td>\n",
       "      <td>0</td>\n",
       "      <td>0.734203</td>\n",
       "      <td>36</td>\n",
       "      <td>0.083333</td>\n",
       "      <td>0</td>\n",
       "      <td>0</td>\n",
       "      <td>1</td>\n",
       "    </tr>\n",
       "    <tr>\n",
       "      <th>1</th>\n",
       "      <td>1</td>\n",
       "      <td>1</td>\n",
       "      <td>1</td>\n",
       "      <td>1</td>\n",
       "      <td>0.002200</td>\n",
       "      <td>0</td>\n",
       "      <td>0.734203</td>\n",
       "      <td>37</td>\n",
       "      <td>0.166667</td>\n",
       "      <td>0</td>\n",
       "      <td>0</td>\n",
       "      <td>0</td>\n",
       "    </tr>\n",
       "    <tr>\n",
       "      <th>2</th>\n",
       "      <td>1</td>\n",
       "      <td>2</td>\n",
       "      <td>1</td>\n",
       "      <td>0</td>\n",
       "      <td>-0.481762</td>\n",
       "      <td>0</td>\n",
       "      <td>0.734203</td>\n",
       "      <td>38</td>\n",
       "      <td>0.250000</td>\n",
       "      <td>0</td>\n",
       "      <td>0</td>\n",
       "      <td>0</td>\n",
       "    </tr>\n",
       "    <tr>\n",
       "      <th>3</th>\n",
       "      <td>1</td>\n",
       "      <td>3</td>\n",
       "      <td>1</td>\n",
       "      <td>0</td>\n",
       "      <td>0.007872</td>\n",
       "      <td>0</td>\n",
       "      <td>0.734203</td>\n",
       "      <td>39</td>\n",
       "      <td>0.333333</td>\n",
       "      <td>0</td>\n",
       "      <td>0</td>\n",
       "      <td>0</td>\n",
       "    </tr>\n",
       "    <tr>\n",
       "      <th>4</th>\n",
       "      <td>1</td>\n",
       "      <td>4</td>\n",
       "      <td>1</td>\n",
       "      <td>1</td>\n",
       "      <td>0.216054</td>\n",
       "      <td>0</td>\n",
       "      <td>0.734203</td>\n",
       "      <td>40</td>\n",
       "      <td>0.416667</td>\n",
       "      <td>0</td>\n",
       "      <td>0</td>\n",
       "      <td>0</td>\n",
       "    </tr>\n",
       "  </tbody>\n",
       "</table>\n",
       "</div>"
      ],
      "text/plain": [
       "   id  period  treatment  x1        x2  x3        x4  age     age_s  outcome  \\\n",
       "0   1       0          1   1  1.146148   0  0.734203   36  0.083333        0   \n",
       "1   1       1          1   1  0.002200   0  0.734203   37  0.166667        0   \n",
       "2   1       2          1   0 -0.481762   0  0.734203   38  0.250000        0   \n",
       "3   1       3          1   0  0.007872   0  0.734203   39  0.333333        0   \n",
       "4   1       4          1   1  0.216054   0  0.734203   40  0.416667        0   \n",
       "\n",
       "   censored  eligible  \n",
       "0         0         1  \n",
       "1         0         0  \n",
       "2         0         0  \n",
       "3         0         0  \n",
       "4         0         0  "
      ]
     },
     "execution_count": 2,
     "metadata": {},
     "output_type": "execute_result"
    }
   ],
   "source": [
    "# Setup\n",
    "import pandas as pd\n",
    "import numpy as np\n",
    "import statsmodels.api as sm\n",
    "from statsmodels.formula.api import glm\n",
    "from statsmodels.genmod.families import Binomial\n",
    "import matplotlib.pyplot as plt\n",
    "\n",
    "# Read the dummy data\n",
    "data = pd.read_csv(\"../data/data_censored.csv\")\n",
    "print(\"Data shape:\", data.shape)\n",
    "data.head()\n"
   ]
  },
  {
   "cell_type": "code",
   "execution_count": 3,
   "metadata": {},
   "outputs": [
    {
     "name": "stdout",
     "output_type": "stream",
     "text": [
      "<class 'pandas.core.frame.DataFrame'>\n",
      "RangeIndex: 725 entries, 0 to 724\n",
      "Data columns (total 12 columns):\n",
      " #   Column     Non-Null Count  Dtype  \n",
      "---  ------     --------------  -----  \n",
      " 0   id         725 non-null    int64  \n",
      " 1   period     725 non-null    int64  \n",
      " 2   treatment  725 non-null    int64  \n",
      " 3   x1         725 non-null    int64  \n",
      " 4   x2         725 non-null    float64\n",
      " 5   x3         725 non-null    int64  \n",
      " 6   x4         725 non-null    float64\n",
      " 7   age        725 non-null    int64  \n",
      " 8   age_s      725 non-null    float64\n",
      " 9   outcome    725 non-null    int64  \n",
      " 10  censored   725 non-null    int64  \n",
      " 11  eligible   725 non-null    int64  \n",
      "dtypes: float64(3), int64(9)\n",
      "memory usage: 68.1 KB\n",
      "None\n",
      "               id      period   treatment          x1          x2          x3  \\\n",
      "count  725.000000  725.000000  725.000000  725.000000  725.000000  725.000000   \n",
      "mean    49.278621    7.051034    0.467586    0.405517   -0.173552    0.486897   \n",
      "std     28.119313    5.802351    0.499293    0.491331    0.997552    0.500173   \n",
      "min      1.000000    0.000000    0.000000    0.000000   -3.284355    0.000000   \n",
      "25%     23.000000    2.000000    0.000000    0.000000   -0.809344    0.000000   \n",
      "50%     50.000000    6.000000    0.000000    0.000000   -0.163060    0.000000   \n",
      "75%     73.000000   12.000000    1.000000    1.000000    0.494103    1.000000   \n",
      "max     99.000000   19.000000    1.000000    1.000000    3.907648    1.000000   \n",
      "\n",
      "               x4         age       age_s     outcome   censored    eligible  \n",
      "count  725.000000  725.000000  725.000000  725.000000  725.00000  725.000000  \n",
      "mean    -0.274722   48.093793    1.091149    0.015172    0.08000    0.234483  \n",
      "std      1.008643   11.834472    0.986206    0.122323    0.27148    0.423968  \n",
      "min     -3.003087   19.000000   -1.333333    0.000000    0.00000    0.000000  \n",
      "25%     -0.861899   40.000000    0.416667    0.000000    0.00000    0.000000  \n",
      "50%     -0.316594   49.000000    1.166667    0.000000    0.00000    0.000000  \n",
      "75%      0.299510   56.000000    1.750000    0.000000    0.00000    0.000000  \n",
      "max      2.048087   78.000000    3.583333    1.000000    1.00000    1.000000  \n"
     ]
    }
   ],
   "source": [
    "# Data Preparation\n",
    "print(data.info())\n",
    "print(data.describe())\n",
    "\n",
    "data_pp = data.copy()\n",
    "data_itt = data.copy()\n",
    "\n",
    "estimand_pp = \"PP\"\n",
    "estimand_itt = \"ITT\"\n"
   ]
  },
  {
   "cell_type": "code",
   "execution_count": 5,
   "metadata": {},
   "outputs": [
    {
     "name": "stdout",
     "output_type": "stream",
     "text": [
      "ITT Censor Numerator Model Summary\n",
      "                 Generalized Linear Model Regression Results                  \n",
      "==============================================================================\n",
      "Dep. Variable:           not_censored   No. Observations:                  725\n",
      "Model:                            GLM   Df Residuals:                      723\n",
      "Model Family:                Binomial   Df Model:                            1\n",
      "Link Function:                  Logit   Scale:                          1.0000\n",
      "Method:                          IRLS   Log-Likelihood:                -196.70\n",
      "Date:                Sun, 09 Mar 2025   Deviance:                       393.40\n",
      "Time:                        18:07:23   Pearson chi2:                     722.\n",
      "No. Iterations:                     6   Pseudo R-squ. (CS):            0.01481\n",
      "Covariance Type:            nonrobust                                         \n",
      "==============================================================================\n",
      "                 coef    std err          z      P>|z|      [0.025      0.975]\n",
      "------------------------------------------------------------------------------\n",
      "Intercept      2.4481      0.141     17.415      0.000       2.173       2.724\n",
      "x2            -0.4486      0.137     -3.278      0.001      -0.717      -0.180\n",
      "==============================================================================\n",
      "ITT Censor Denominator Model Summary\n",
      "                 Generalized Linear Model Regression Results                  \n",
      "==============================================================================\n",
      "Dep. Variable:           not_censored   No. Observations:                  725\n",
      "Model:                            GLM   Df Residuals:                      722\n",
      "Model Family:                Binomial   Df Model:                            2\n",
      "Link Function:                  Logit   Scale:                          1.0000\n",
      "Method:                          IRLS   Log-Likelihood:                -193.88\n",
      "Date:                Sun, 09 Mar 2025   Deviance:                       387.77\n",
      "Time:                        18:07:23   Pearson chi2:                     724.\n",
      "No. Iterations:                     6   Pseudo R-squ. (CS):            0.02243\n",
      "Covariance Type:            nonrobust                                         \n",
      "==============================================================================\n",
      "                 coef    std err          z      P>|z|      [0.025      0.975]\n",
      "------------------------------------------------------------------------------\n",
      "Intercept      2.2059      0.165     13.339      0.000       1.882       2.530\n",
      "x2            -0.4706      0.137     -3.423      0.001      -0.740      -0.201\n",
      "x1             0.7019      0.307      2.285      0.022       0.100       1.304\n",
      "==============================================================================\n"
     ]
    }
   ],
   "source": [
    "# Weight Models and Censoring\n",
    "data_itt['not_censored'] = 1 - data_itt['censored']\n",
    "\n",
    "model_numerator_itt = glm(\"not_censored ~ x2\", data=data_itt, family=Binomial()).fit()\n",
    "print(\"ITT Censor Numerator Model Summary\")\n",
    "print(model_numerator_itt.summary())\n",
    "\n",
    "model_denominator_itt = glm(\"not_censored ~ x2 + x1\", data=data_itt, family=Binomial()).fit()\n",
    "print(\"ITT Censor Denominator Model Summary\")\n",
    "print(model_denominator_itt.summary())\n",
    "\n",
    "data_itt['p_num'] = model_numerator_itt.predict(data_itt)\n",
    "data_itt['p_den'] = model_denominator_itt.predict(data_itt)\n",
    "data_itt['censor_ipw'] = data_itt['p_num'] / data_itt['p_den']\n"
   ]
  },
  {
   "cell_type": "code",
   "execution_count": 6,
   "metadata": {},
   "outputs": [
    {
     "name": "stdout",
     "output_type": "stream",
     "text": [
      "count    725.000000\n",
      "mean       1.000825\n",
      "std        0.028269\n",
      "min        0.911078\n",
      "25%        0.974673\n",
      "50%        1.011274\n",
      "75%        1.021365\n",
      "max        1.129321\n",
      "Name: censor_ipw, dtype: float64\n"
     ]
    }
   ],
   "source": [
    "# Calculate Weights\n",
    "print(data_itt['censor_ipw'].describe())\n",
    "\n",
    "cutoff_99 = data_itt['censor_ipw'].quantile(0.99)\n",
    "data_itt['censor_ipw'] = np.where(data_itt['censor_ipw'] > cutoff_99, cutoff_99, data_itt['censor_ipw'])\n"
   ]
  },
  {
   "cell_type": "code",
   "execution_count": 7,
   "metadata": {},
   "outputs": [
    {
     "name": "stdout",
     "output_type": "stream",
     "text": [
      "ITT Outcome Model Summary\n",
      "                 Generalized Linear Model Regression Results                  \n",
      "==============================================================================\n",
      "Dep. Variable:                outcome   No. Observations:                  725\n",
      "Model:                            GLM   Df Residuals:                   720.43\n",
      "Model Family:                Binomial   Df Model:                            4\n",
      "Link Function:                  Logit   Scale:                          1.0000\n",
      "Method:                          IRLS   Log-Likelihood:                -54.640\n",
      "Date:                Sun, 09 Mar 2025   Deviance:                       109.28\n",
      "Time:                        18:07:34   Pearson chi2:                     733.\n",
      "No. Iterations:                     8   Pseudo R-squ. (CS):           0.006023\n",
      "Covariance Type:            nonrobust                                         \n",
      "=========================================================================================\n",
      "                            coef    std err          z      P>|z|      [0.025      0.975]\n",
      "-----------------------------------------------------------------------------------------\n",
      "Intercept                -4.1776      0.765     -5.461      0.000      -5.677      -2.678\n",
      "treatment                -0.9471      0.695     -1.364      0.173      -2.309       0.414\n",
      "x2                        0.2334      0.310      0.752      0.452      -0.375       0.842\n",
      "followup_time             0.2240      0.216      1.038      0.299      -0.199       0.647\n",
      "I(followup_time ** 2)    -0.0159      0.013     -1.194      0.233      -0.042       0.010\n",
      "=========================================================================================\n"
     ]
    }
   ],
   "source": [
    "# Specify Outcome Model\n",
    "data_itt['followup_time'] = data_itt['period']\n",
    "\n",
    "formula_itt = \"outcome ~ treatment + x2 + followup_time + I(followup_time**2)\"\n",
    "weights_itt = data_itt['censor_ipw']\n",
    "\n",
    "model_outcome_itt = glm(formula_itt, data=data_itt, family=Binomial(), freq_weights=weights_itt).fit()\n",
    "print(\"ITT Outcome Model Summary\")\n",
    "print(model_outcome_itt.summary())\n"
   ]
  },
  {
   "cell_type": "code",
   "execution_count": 8,
   "metadata": {},
   "outputs": [
    {
     "name": "stdout",
     "output_type": "stream",
     "text": [
      "Expanded data shape: (725, 17)\n"
     ]
    }
   ],
   "source": [
    "# Expand Trials\n",
    "expanded_data_itt = []\n",
    "for pid, group in data_itt.groupby('id'):\n",
    "    max_period = group['period'].max()\n",
    "    for t in range(max_period + 1):\n",
    "        row = group[group['period'] == t]\n",
    "        if not row.empty:\n",
    "            expanded_data_itt.append(row.iloc[0].to_dict())\n",
    "\n",
    "expanded_data_itt = pd.DataFrame(expanded_data_itt)\n",
    "print(\"Expanded data shape:\", expanded_data_itt.shape)\n"
   ]
  },
  {
   "cell_type": "code",
   "execution_count": 9,
   "metadata": {},
   "outputs": [
    {
     "name": "stdout",
     "output_type": "stream",
     "text": [
      "Sampled data shape: (355, 17)\n"
     ]
    }
   ],
   "source": [
    "# Sampling from Expanded Data\n",
    "np.random.seed(1234)\n",
    "mask = (expanded_data_itt['outcome'] == 0) & (np.random.rand(len(expanded_data_itt)) > 0.5)\n",
    "sampled_data_itt = expanded_data_itt[~mask].copy()\n",
    "print(\"Sampled data shape:\", sampled_data_itt.shape)\n"
   ]
  },
  {
   "cell_type": "code",
   "execution_count": 10,
   "metadata": {},
   "outputs": [
    {
     "name": "stdout",
     "output_type": "stream",
     "text": [
      "Final MSM Model Summary (ITT):\n",
      "                 Generalized Linear Model Regression Results                  \n",
      "==============================================================================\n",
      "Dep. Variable:                outcome   No. Observations:                  355\n",
      "Model:                            GLM   Df Residuals:                   350.49\n",
      "Model Family:                Binomial   Df Model:                            4\n",
      "Link Function:                  Logit   Scale:                          1.0000\n",
      "Method:                          IRLS   Log-Likelihood:                -46.934\n",
      "Date:                Sun, 09 Mar 2025   Deviance:                       93.868\n",
      "Time:                        18:10:09   Pearson chi2:                     369.\n",
      "No. Iterations:                     7   Pseudo R-squ. (CS):            0.01115\n",
      "Covariance Type:            nonrobust                                         \n",
      "=========================================================================================\n",
      "                            coef    std err          z      P>|z|      [0.025      0.975]\n",
      "-----------------------------------------------------------------------------------------\n",
      "Intercept                -3.5284      0.750     -4.705      0.000      -4.998      -2.059\n",
      "treatment                -0.9227      0.704     -1.310      0.190      -2.303       0.458\n",
      "x2                        0.2317      0.326      0.710      0.478      -0.408       0.871\n",
      "followup_time             0.2477      0.221      1.123      0.262      -0.185       0.680\n",
      "I(followup_time ** 2)    -0.0174      0.014     -1.245      0.213      -0.045       0.010\n",
      "=========================================================================================\n"
     ]
    }
   ],
   "source": [
    "msm_formula = \"outcome ~ treatment + x2 + followup_time + I(followup_time**2)\"\n",
    "msm_weights = sampled_data_itt['censor_ipw'].fillna(1.0)\n",
    "\n",
    "model_msm_itt = glm(msm_formula,\n",
    "data=sampled_data_itt,\n",
    "family=Binomial(),\n",
    "freq_weights=msm_weights\n",
    ").fit()\n",
    "\n",
    "print(\"Final MSM Model Summary (ITT):\")\n",
    "print(model_msm_itt.summary())"
   ]
  },
  {
   "cell_type": "code",
   "execution_count": 12,
   "metadata": {},
   "outputs": [],
   "source": [
    "predict_times = np.arange(0, 11, 1)\n",
    "preds_t0= []\n",
    "preds_t1= []\n",
    "\n",
    "for ft in predict_times:\n",
    "# Force 'treatment=0' vs 'treatment=1'\n",
    "    df0 = pd.DataFrame({\n",
    "        'treatment': [0],\n",
    "        'x2': [0.0], # or some typical value\n",
    "        'followup_time': [ft]\n",
    "    })\n",
    "    df1 = df0.copy()\n",
    "    df1['treatment'] = 1\n",
    "\n",
    "    p0 = model_msm_itt.predict(df0)\n",
    "    p1 = model_msm_itt.predict(df1)\n",
    "\n",
    "    # logistic -> probability of outcome. \n",
    "    # If the “outcome” is an event, you’d interpret it. \n",
    "    # For survival, you might do 1 - predicted_risk if outcome=1 means event.\n",
    "\n",
    "    preds_t0.append((ft, p0[0]))\n",
    "    preds_t1.append((ft, p1[0]))\n",
    "\n",
    "preds_t0 = pd.DataFrame(preds_t0, columns=['followup_time', 'p_event_t0'])\n",
    "preds_t1 = pd.DataFrame(preds_t1, columns=['followup_time', 'p_event_t1'])"
   ]
  },
  {
   "cell_type": "code",
   "execution_count": 13,
   "metadata": {},
   "outputs": [
    {
     "data": {
      "image/png": "[encoded data removed]",
      "text/plain": [
       "<Figure size 640x480 with 1 Axes>"
      ]
     },
     "metadata": {},
     "output_type": "display_data"
    }
   ],
   "source": [
    "plt.plot(preds_t0['followup_time'], preds_t0['p_event_t0'], label='Treatment=0')\n",
    "plt.plot(preds_t1['followup_time'], preds_t1['p_event_t1'], label='Treatment=1')\n",
    "plt.xlabel(\"Follow-up time\")\n",
    "plt.ylabel(\"Predicted Probability of Outcome (Event)\")\n",
    "plt.title(\"MSM Predicted Probabilities by Treatment over Follow-up Time\")\n",
    "plt.legend()\n",
    "plt.show()"
   ]
  },
  {
   "cell_type": "code",
   "execution_count": null,
   "metadata": {},
   "outputs": [],
   "source": []
  }
 ],
 "metadata": {
  "kernelspec": {
   "display_name": "Python 3 (ipykernel)",
   "language": "python",
   "name": "python3"
  },
  "language_info": {
   "codemirror_mode": {
    "name": "ipython",
    "version": 3
   },
   "file_extension": ".py",
   "mimetype": "text/x-python",
   "name": "python",
   "nbconvert_exporter": "python",
   "pygments_lexer": "ipython3",
   "version": "3.12.3"
  }
 },
 "nbformat": 4,
 "nbformat_minor": 4
}
