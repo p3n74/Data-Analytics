{
 "cells": [
  {
   "cell_type": "code",
   "execution_count": null,
   "metadata": {},
   "outputs": [],
   "source": [
    "# Setup\n",
    "import pandas as pd\n",
    "import numpy as np\n",
    "import statsmodels.api as sm\n",
    "from statsmodels.formula.api import glm\n",
    "from statsmodels.genmod.families import Binomial\n",
    "import matplotlib.pyplot as plt\n",
    "\n",
    "# Read the dummy data\n",
    "data = pd.read_csv(\"../TTE/data/data_censored.csv\")\n",
    "print(\"Data shape:\", data.shape)\n",
    "data.head()\n"
   ]
  },
  {
   "cell_type": "code",
   "execution_count": null,
   "metadata": {},
   "outputs": [],
   "source": [
    "# Data Preparation\n",
    "print(data.info())\n",
    "print(data.describe())\n",
    "\n",
    "data_pp = data.copy()\n",
    "data_itt = data.copy()\n",
    "\n",
    "estimand_pp = \"PP\"\n",
    "estimand_itt = \"ITT\"\n"
   ]
  },
  {
   "cell_type": "code",
   "execution_count": null,
   "metadata": {},
   "outputs": [],
   "source": [
    "# Weight Models and Censoring\n",
    "data_itt['not_censored'] = 1 - data_itt['censored']\n",
    "\n",
    "model_numerator_itt = glm(\"not_censored ~ x2\", data=data_itt, family=Binomial()).fit()\n",
    "print(\"ITT Censor Numerator Model Summary\")\n",
    "print(model_numerator_itt.summary())\n",
    "\n",
    "model_denominator_itt = glm(\"not_censored ~ x2 + x1\", data=data_itt, family=Binomial()).fit()\n",
    "print(\"\n",
    "ITT Censor Denominator Model Summary\")\n",
    "print(model_denominator_itt.summary())\n",
    "\n",
    "data_itt['p_num'] = model_numerator_itt.predict(data_itt)\n",
    "data_itt['p_den'] = model_denominator_itt.predict(data_itt)\n",
    "data_itt['censor_ipw'] = data_itt['p_num'] / data_itt['p_den']\n"
   ]
  },
  {
   "cell_type": "code",
   "execution_count": null,
   "metadata": {},
   "outputs": [],
   "source": [
    "# Calculate Weights\n",
    "print(data_itt['censor_ipw'].describe())\n",
    "\n",
    "cutoff_99 = data_itt['censor_ipw'].quantile(0.99)\n",
    "data_itt['censor_ipw'] = np.where(data_itt['censor_ipw'] > cutoff_99, cutoff_99, data_itt['censor_ipw'])\n"
   ]
  },
  {
   "cell_type": "code",
   "execution_count": null,
   "metadata": {},
   "outputs": [],
   "source": [
    "# Specify Outcome Model\n",
    "data_itt['followup_time'] = data_itt['period']\n",
    "\n",
    "formula_itt = \"outcome ~ treatment + x2 + followup_time + I(followup_time**2)\"\n",
    "weights_itt = data_itt['censor_ipw']\n",
    "\n",
    "model_outcome_itt = glm(formula_itt, data=data_itt, family=Binomial(), freq_weights=weights_itt).fit()\n",
    "print(\"ITT Outcome Model Summary\")\n",
    "print(model_outcome_itt.summary())\n"
   ]
  },
  {
   "cell_type": "code",
   "execution_count": null,
   "metadata": {},
   "outputs": [],
   "source": [
    "# Expand Trials\n",
    "expanded_data_itt = []\n",
    "for pid, group in data_itt.groupby('id'):\n",
    "    max_period = group['period'].max()\n",
    "    for t in range(max_period + 1):\n",
    "        row = group[group['period'] == t]\n",
    "        if not row.empty:\n",
    "            expanded_data_itt.append(row.iloc[0].to_dict())\n",
    "\n",
    "expanded_data_itt = pd.DataFrame(expanded_data_itt)\n",
    "print(\"Expanded data shape:\", expanded_data_itt.shape)\n"
   ]
  },
  {
   "cell_type": "code",
   "execution_count": null,
   "metadata": {},
   "outputs": [],
   "source": [
    "# Sampling from Expanded Data\n",
    "np.random.seed(1234)\n",
    "mask = (expanded_data_itt['outcome'] == 0) & (np.random.rand(len(expanded_data_itt)) > 0.5)\n",
    "sampled_data_itt = expanded_data_itt[~mask].copy()\n",
    "print(\"Sampled data shape:\", sampled_data_itt.shape)\n"
   ]
  }
 ],
 "metadata": {
  "kernelspec": {
   "display_name": "Python 3 (ipykernel)",
   "language": "python",
   "name": "python3"
  },
  "language_info": {
   "codemirror_mode": {
    "name": "ipython",
    "version": 3
   },
   "file_extension": ".py",
   "mimetype": "text/x-python",
   "name": "python",
   "nbconvert_exporter": "python",
   "pygments_lexer": "ipython3",
   "version": "3.12.3"
  }
 },
 "nbformat": 4,
 "nbformat_minor": 4
}
