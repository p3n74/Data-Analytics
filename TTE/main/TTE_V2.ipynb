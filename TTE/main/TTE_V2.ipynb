{
 "cells": [
  {
   "cell_type": "markdown",
   "metadata": {},
   "source": [
    "# Target Trial Emulation (TTE)\n",
    "\n",
    "Target Trial Emulation (TTE) is a methodological framework designed to estimate causal treatment effects from observational data while minimizing biases inherent in traditional designs (Hernán & Robins, 2016). The TTE approach typically involves creating a pseudo-randomized trial structure—expanding observational data into multiple “trials” and adjusting for key time-dependent confounders and censoring processes through inverse probability weighting (Robins et al., 2000). However, real-world datasets often contain heterogeneous subgroups of patients with different baseline risks or censoring mechanisms. To address this heterogeneity, we introduce a clustering step via Gaussian Mixture Models (GMM), which can capture more flexible (potentially overlapping or non-spherical) clusters than K-Means (McLachlan & Peel, 2000).\n",
    "\n",
    "## Why GMM?\n",
    "\n",
    "Unlike K-Means, which partitions patients into spherical clusters centered on means, GMM assigns probabilities of belonging to each cluster and estimates each subgroup through a distinct multivariate Gaussian distribution. This approach can capture more complex patterns in variables such as age, comorbidities (x1, x2), or other risk factors. By incorporating these probabilities as discrete cluster assignments, the analysis can stratify both censoring weights and outcome models according to more nuanced patient subpopulations.\n",
    "\n",
    "## Cluster Integration in Weights and MSM\n",
    "\n",
    "After assigning cluster labels to each patient, we include the cluster variable in both the numerator and denominator of the inverse probability of censoring weights (IPCW). This allows each subgroup to have distinct censoring mechanisms. In the final Marginal Structural Model (MSM), we again include cluster as a categorical covariate, thereby enabling estimation of different baseline risks or, if desired, effect modification by cluster (e.g., “treatment*C(cluster)”). This two-step integration ensures that potential differences in censoring and outcome risk across subpopulations are explicitly accounted for in the causal analysis.\n",
    "\n",
    "## Trial Expansion\n",
    "\n",
    "The code demonstrates a simplified logic of repeating each row from `followup_time=0` up to the observed period. In practice, TTE expansions often stop at censoring or event occurrence, or incorporate time-varying eligibility conditions. Aligning expansions with the real-time at risk is crucial to avoid immortal time bias and other pitfalls (Hernán & Robins, 2016). Users looking to emulate a specific trial design can refine the expansion logic to match the corresponding enrollment and follow-up structures they aim to replicate.\n",
    "\n",
    "## Visualizing Multiple Clusters\n",
    "\n",
    "To illustrate heterogeneous treatment effects or censoring mechanisms, we display survival curves stratified by both treatment and cluster. As cluster membership often reflects clinically or biologically meaningful subgroups, these visualizations help detect whether certain subpopulations experience greater mortality or different treatment benefits. Users can further facet by cluster, apply color coding, or produce interactive plots with Plotly to better convey these differences (Hastie et al., 2009).\n",
    "\n",
    "## Modeling Diagnostics for GLMs\n",
    "\n",
    "Because the final MSM is typically a logistic regression, we employ diagnostic plots such as Q-Q plots, residual plots, and Cook’s distance to evaluate potential outliers, high-leverage points, or model misfit. This step is approximate in logistic regression and should be complemented by domain-specific knowledge and sensitivity checks (McCullagh & Nelder, 1989). When extreme weights appear or deviance residuals exhibit strong systematic patterns, analysts may consider trimming or stabilizing the weights, or refining the covariate selection in both the censoring and outcome models.\n",
    "\n",
    "Overall, by combining GMM-based clustering with traditional TTE steps—weight calculation, trial expansion, and marginal structural outcome modeling—analysts can more rigorously account for patient heterogeneity in complex observational studies. This pipeline preserves the key advantages of TTE (e.g., addressing time-varying confounding and censoring) while enhancing the framework to capture and visualize subgroup differences more flexibly.\n",
    "\n",
    "---\n",
    "\n"
   ]
  },
  {
   "cell_type": "markdown",
   "metadata": {},
   "source": [
    "# Imports and Data Loading"
   ]
  },
  {
   "cell_type": "code",
   "execution_count": 2,
   "metadata": {},
   "outputs": [
    {
     "name": "stdout",
     "output_type": "stream",
     "text": [
      "Data loaded. Shape: (725, 12)\n"
     ]
    },
    {
     "data": {
      "text/html": [
       "<div>\n",
       "<style scoped>\n",
       "    .dataframe tbody tr th:only-of-type {\n",
       "        vertical-align: middle;\n",
       "    }\n",
       "\n",
       "    .dataframe tbody tr th {\n",
       "        vertical-align: top;\n",
       "    }\n",
       "\n",
       "    .dataframe thead th {\n",
       "        text-align: right;\n",
       "    }\n",
       "</style>\n",
       "<table border=\"1\" class=\"dataframe\">\n",
       "  <thead>\n",
       "    <tr style=\"text-align: right;\">\n",
       "      <th></th>\n",
       "      <th>id</th>\n",
       "      <th>period</th>\n",
       "      <th>treatment</th>\n",
       "      <th>x1</th>\n",
       "      <th>x2</th>\n",
       "      <th>x3</th>\n",
       "      <th>x4</th>\n",
       "      <th>age</th>\n",
       "      <th>age_s</th>\n",
       "      <th>outcome</th>\n",
       "      <th>censored</th>\n",
       "      <th>eligible</th>\n",
       "    </tr>\n",
       "  </thead>\n",
       "  <tbody>\n",
       "    <tr>\n",
       "      <th>0</th>\n",
       "      <td>1</td>\n",
       "      <td>0</td>\n",
       "      <td>1</td>\n",
       "      <td>1</td>\n",
       "      <td>1.146148</td>\n",
       "      <td>0</td>\n",
       "      <td>0.734203</td>\n",
       "      <td>36</td>\n",
       "      <td>0.083333</td>\n",
       "      <td>0</td>\n",
       "      <td>0</td>\n",
       "      <td>1</td>\n",
       "    </tr>\n",
       "    <tr>\n",
       "      <th>1</th>\n",
       "      <td>1</td>\n",
       "      <td>1</td>\n",
       "      <td>1</td>\n",
       "      <td>1</td>\n",
       "      <td>0.002200</td>\n",
       "      <td>0</td>\n",
       "      <td>0.734203</td>\n",
       "      <td>37</td>\n",
       "      <td>0.166667</td>\n",
       "      <td>0</td>\n",
       "      <td>0</td>\n",
       "      <td>0</td>\n",
       "    </tr>\n",
       "    <tr>\n",
       "      <th>2</th>\n",
       "      <td>1</td>\n",
       "      <td>2</td>\n",
       "      <td>1</td>\n",
       "      <td>0</td>\n",
       "      <td>-0.481762</td>\n",
       "      <td>0</td>\n",
       "      <td>0.734203</td>\n",
       "      <td>38</td>\n",
       "      <td>0.250000</td>\n",
       "      <td>0</td>\n",
       "      <td>0</td>\n",
       "      <td>0</td>\n",
       "    </tr>\n",
       "    <tr>\n",
       "      <th>3</th>\n",
       "      <td>1</td>\n",
       "      <td>3</td>\n",
       "      <td>1</td>\n",
       "      <td>0</td>\n",
       "      <td>0.007872</td>\n",
       "      <td>0</td>\n",
       "      <td>0.734203</td>\n",
       "      <td>39</td>\n",
       "      <td>0.333333</td>\n",
       "      <td>0</td>\n",
       "      <td>0</td>\n",
       "      <td>0</td>\n",
       "    </tr>\n",
       "    <tr>\n",
       "      <th>4</th>\n",
       "      <td>1</td>\n",
       "      <td>4</td>\n",
       "      <td>1</td>\n",
       "      <td>1</td>\n",
       "      <td>0.216054</td>\n",
       "      <td>0</td>\n",
       "      <td>0.734203</td>\n",
       "      <td>40</td>\n",
       "      <td>0.416667</td>\n",
       "      <td>0</td>\n",
       "      <td>0</td>\n",
       "      <td>0</td>\n",
       "    </tr>\n",
       "  </tbody>\n",
       "</table>\n",
       "</div>"
      ],
      "text/plain": [
       "   id  period  treatment  x1        x2  x3        x4  age     age_s  outcome  \\\n",
       "0   1       0          1   1  1.146148   0  0.734203   36  0.083333        0   \n",
       "1   1       1          1   1  0.002200   0  0.734203   37  0.166667        0   \n",
       "2   1       2          1   0 -0.481762   0  0.734203   38  0.250000        0   \n",
       "3   1       3          1   0  0.007872   0  0.734203   39  0.333333        0   \n",
       "4   1       4          1   1  0.216054   0  0.734203   40  0.416667        0   \n",
       "\n",
       "   censored  eligible  \n",
       "0         0         1  \n",
       "1         0         0  \n",
       "2         0         0  \n",
       "3         0         0  \n",
       "4         0         0  "
      ]
     },
     "execution_count": 2,
     "metadata": {},
     "output_type": "execute_result"
    }
   ],
   "source": [
    "import numpy as np\n",
    "import pandas as pd\n",
    "\n",
    "# Modeling\n",
    "import statsmodels.api as sm\n",
    "import statsmodels.formula.api as smf\n",
    "from statsmodels.genmod.families import Binomial\n",
    "\n",
    "# For clustering (GMM)\n",
    "from sklearn.mixture import GaussianMixture\n",
    "\n",
    "# Visualizations\n",
    "import matplotlib.pyplot as plt\n",
    "import seaborn as sns\n",
    "\n",
    "# Interactive plots\n",
    "import plotly.express as px\n",
    "import plotly.graph_objs as go\n",
    "\n",
    "# Diagnostics\n",
    "from statsmodels.stats.outliers_influence import OLSInfluence\n",
    "\n",
    "data = pd.read_csv(\"../data/data_censored.csv\")\n",
    "\n",
    "# Columns: id, period, treatment, x1, x2, x3, x4, age, age_s, outcome, censored, eligible\n",
    "print(f\"Data loaded. Shape: {data.shape}\")\n",
    "data.head(5)"
   ]
  },
  {
   "cell_type": "markdown",
   "metadata": {},
   "source": [
    "# Core Functionality - Trial Sequence Setup, Minimal Metadata for the trial"
   ]
  },
  {
   "cell_type": "code",
   "execution_count": 3,
   "metadata": {},
   "outputs": [
    {
     "name": "stdout",
     "output_type": "stream",
     "text": [
      "Trial estimand: PP\n",
      "               id      period   treatment          x1          x2          x3  \\\n",
      "count  725.000000  725.000000  725.000000  725.000000  725.000000  725.000000   \n",
      "mean    49.278621    7.051034    0.467586    0.405517   -0.173552    0.486897   \n",
      "std     28.119313    5.802351    0.499293    0.491331    0.997552    0.500173   \n",
      "min      1.000000    0.000000    0.000000    0.000000   -3.284355    0.000000   \n",
      "25%     23.000000    2.000000    0.000000    0.000000   -0.809344    0.000000   \n",
      "50%     50.000000    6.000000    0.000000    0.000000   -0.163060    0.000000   \n",
      "75%     73.000000   12.000000    1.000000    1.000000    0.494103    1.000000   \n",
      "max     99.000000   19.000000    1.000000    1.000000    3.907648    1.000000   \n",
      "\n",
      "               x4         age       age_s     outcome   censored    eligible  \n",
      "count  725.000000  725.000000  725.000000  725.000000  725.00000  725.000000  \n",
      "mean    -0.274722   48.093793    1.091149    0.015172    0.08000    0.234483  \n",
      "std      1.008643   11.834472    0.986206    0.122323    0.27148    0.423968  \n",
      "min     -3.003087   19.000000   -1.333333    0.000000    0.00000    0.000000  \n",
      "25%     -0.861899   40.000000    0.416667    0.000000    0.00000    0.000000  \n",
      "50%     -0.316594   49.000000    1.166667    0.000000    0.00000    0.000000  \n",
      "75%      0.299510   56.000000    1.750000    0.000000    0.00000    0.000000  \n",
      "max      2.048087   78.000000    3.583333    1.000000    1.00000    1.000000  \n",
      "Number of unique subjects: 89\n"
     ]
    }
   ],
   "source": [
    "trial_settings = {\n",
    "    'estimand': 'PP', # Could be 'PP' or 'ITT'\n",
    "    'id_col': 'id',\n",
    "    'period_col': 'period',\n",
    "    'treatment_col': 'treatment',\n",
    "    'outcome_col': 'outcome',\n",
    "    'eligible_col': 'eligible',\n",
    "    'censored_col': 'censored'\n",
    "}\n",
    "\n",
    "print(\"Trial estimand:\", trial_settings['estimand'])\n",
    "print(data.describe(include='all'))\n",
    "\n",
    "n_patients = data[trial_settings['id_col']].nunique()\n",
    "print(f\"Number of unique subjects: {n_patients}\")\n"
   ]
  },
  {
   "cell_type": "markdown",
   "metadata": {},
   "source": [
    "# Clustering with Gaussian Mixture Modeling (GMM)\n",
    "\n",
    "We cluster patients based on some baseline characteristics:\n",
    "\n",
    "e.g., mean x1, x2, age across each patient."
   ]
  },
  {
   "cell_type": "code",
   "execution_count": 4,
   "metadata": {},
   "outputs": [],
   "source": [
    "patient_level = data.groupby('id').agg({\n",
    "    'x1':'mean',\n",
    "    'x2':'mean',\n",
    "    'age':'mean'\n",
    "}).reset_index()"
   ]
  },
  {
   "cell_type": "markdown",
   "metadata": {},
   "source": [
    "Use GaussianMixture to learn a mixture of 3 Gaussians (as a demonstration)."
   ]
  },
  {
   "cell_type": "code",
   "execution_count": 5,
   "metadata": {},
   "outputs": [
    {
     "data": {
      "text/html": [
       "<style>#sk-container-id-1 {\n",
       "  /* Definition of color scheme common for light and dark mode */\n",
       "  --sklearn-color-text: black;\n",
       "  --sklearn-color-line: gray;\n",
       "  /* Definition of color scheme for unfitted estimators */\n",
       "  --sklearn-color-unfitted-level-0: #fff5e6;\n",
       "  --sklearn-color-unfitted-level-1: #f6e4d2;\n",
       "  --sklearn-color-unfitted-level-2: #ffe0b3;\n",
       "  --sklearn-color-unfitted-level-3: chocolate;\n",
       "  /* Definition of color scheme for fitted estimators */\n",
       "  --sklearn-color-fitted-level-0: #f0f8ff;\n",
       "  --sklearn-color-fitted-level-1: #d4ebff;\n",
       "  --sklearn-color-fitted-level-2: #b3dbfd;\n",
       "  --sklearn-color-fitted-level-3: cornflowerblue;\n",
       "\n",
       "  /* Specific color for light theme */\n",
       "  --sklearn-color-text-on-default-background: var(--sg-text-color, var(--theme-code-foreground, var(--jp-content-font-color1, black)));\n",
       "  --sklearn-color-background: var(--sg-background-color, var(--theme-background, var(--jp-layout-color0, white)));\n",
       "  --sklearn-color-border-box: var(--sg-text-color, var(--theme-code-foreground, var(--jp-content-font-color1, black)));\n",
       "  --sklearn-color-icon: #696969;\n",
       "\n",
       "  @media (prefers-color-scheme: dark) {\n",
       "    /* Redefinition of color scheme for dark theme */\n",
       "    --sklearn-color-text-on-default-background: var(--sg-text-color, var(--theme-code-foreground, var(--jp-content-font-color1, white)));\n",
       "    --sklearn-color-background: var(--sg-background-color, var(--theme-background, var(--jp-layout-color0, #111)));\n",
       "    --sklearn-color-border-box: var(--sg-text-color, var(--theme-code-foreground, var(--jp-content-font-color1, white)));\n",
       "    --sklearn-color-icon: #878787;\n",
       "  }\n",
       "}\n",
       "\n",
       "#sk-container-id-1 {\n",
       "  color: var(--sklearn-color-text);\n",
       "}\n",
       "\n",
       "#sk-container-id-1 pre {\n",
       "  padding: 0;\n",
       "}\n",
       "\n",
       "#sk-container-id-1 input.sk-hidden--visually {\n",
       "  border: 0;\n",
       "  clip: rect(1px 1px 1px 1px);\n",
       "  clip: rect(1px, 1px, 1px, 1px);\n",
       "  height: 1px;\n",
       "  margin: -1px;\n",
       "  overflow: hidden;\n",
       "  padding: 0;\n",
       "  position: absolute;\n",
       "  width: 1px;\n",
       "}\n",
       "\n",
       "#sk-container-id-1 div.sk-dashed-wrapped {\n",
       "  border: 1px dashed var(--sklearn-color-line);\n",
       "  margin: 0 0.4em 0.5em 0.4em;\n",
       "  box-sizing: border-box;\n",
       "  padding-bottom: 0.4em;\n",
       "  background-color: var(--sklearn-color-background);\n",
       "}\n",
       "\n",
       "#sk-container-id-1 div.sk-container {\n",
       "  /* jupyter's `normalize.less` sets `[hidden] { display: none; }`\n",
       "     but bootstrap.min.css set `[hidden] { display: none !important; }`\n",
       "     so we also need the `!important` here to be able to override the\n",
       "     default hidden behavior on the sphinx rendered scikit-learn.org.\n",
       "     See: https://github.com/scikit-learn/scikit-learn/issues/21755 */\n",
       "  display: inline-block !important;\n",
       "  position: relative;\n",
       "}\n",
       "\n",
       "#sk-container-id-1 div.sk-text-repr-fallback {\n",
       "  display: none;\n",
       "}\n",
       "\n",
       "div.sk-parallel-item,\n",
       "div.sk-serial,\n",
       "div.sk-item {\n",
       "  /* draw centered vertical line to link estimators */\n",
       "  background-image: linear-gradient(var(--sklearn-color-text-on-default-background), var(--sklearn-color-text-on-default-background));\n",
       "  background-size: 2px 100%;\n",
       "  background-repeat: no-repeat;\n",
       "  background-position: center center;\n",
       "}\n",
       "\n",
       "/* Parallel-specific style estimator block */\n",
       "\n",
       "#sk-container-id-1 div.sk-parallel-item::after {\n",
       "  content: \"\";\n",
       "  width: 100%;\n",
       "  border-bottom: 2px solid var(--sklearn-color-text-on-default-background);\n",
       "  flex-grow: 1;\n",
       "}\n",
       "\n",
       "#sk-container-id-1 div.sk-parallel {\n",
       "  display: flex;\n",
       "  align-items: stretch;\n",
       "  justify-content: center;\n",
       "  background-color: var(--sklearn-color-background);\n",
       "  position: relative;\n",
       "}\n",
       "\n",
       "#sk-container-id-1 div.sk-parallel-item {\n",
       "  display: flex;\n",
       "  flex-direction: column;\n",
       "}\n",
       "\n",
       "#sk-container-id-1 div.sk-parallel-item:first-child::after {\n",
       "  align-self: flex-end;\n",
       "  width: 50%;\n",
       "}\n",
       "\n",
       "#sk-container-id-1 div.sk-parallel-item:last-child::after {\n",
       "  align-self: flex-start;\n",
       "  width: 50%;\n",
       "}\n",
       "\n",
       "#sk-container-id-1 div.sk-parallel-item:only-child::after {\n",
       "  width: 0;\n",
       "}\n",
       "\n",
       "/* Serial-specific style estimator block */\n",
       "\n",
       "#sk-container-id-1 div.sk-serial {\n",
       "  display: flex;\n",
       "  flex-direction: column;\n",
       "  align-items: center;\n",
       "  background-color: var(--sklearn-color-background);\n",
       "  padding-right: 1em;\n",
       "  padding-left: 1em;\n",
       "}\n",
       "\n",
       "\n",
       "/* Toggleable style: style used for estimator/Pipeline/ColumnTransformer box that is\n",
       "clickable and can be expanded/collapsed.\n",
       "- Pipeline and ColumnTransformer use this feature and define the default style\n",
       "- Estimators will overwrite some part of the style using the `sk-estimator` class\n",
       "*/\n",
       "\n",
       "/* Pipeline and ColumnTransformer style (default) */\n",
       "\n",
       "#sk-container-id-1 div.sk-toggleable {\n",
       "  /* Default theme specific background. It is overwritten whether we have a\n",
       "  specific estimator or a Pipeline/ColumnTransformer */\n",
       "  background-color: var(--sklearn-color-background);\n",
       "}\n",
       "\n",
       "/* Toggleable label */\n",
       "#sk-container-id-1 label.sk-toggleable__label {\n",
       "  cursor: pointer;\n",
       "  display: block;\n",
       "  width: 100%;\n",
       "  margin-bottom: 0;\n",
       "  padding: 0.5em;\n",
       "  box-sizing: border-box;\n",
       "  text-align: center;\n",
       "}\n",
       "\n",
       "#sk-container-id-1 label.sk-toggleable__label-arrow:before {\n",
       "  /* Arrow on the left of the label */\n",
       "  content: \"▸\";\n",
       "  float: left;\n",
       "  margin-right: 0.25em;\n",
       "  color: var(--sklearn-color-icon);\n",
       "}\n",
       "\n",
       "#sk-container-id-1 label.sk-toggleable__label-arrow:hover:before {\n",
       "  color: var(--sklearn-color-text);\n",
       "}\n",
       "\n",
       "/* Toggleable content - dropdown */\n",
       "\n",
       "#sk-container-id-1 div.sk-toggleable__content {\n",
       "  max-height: 0;\n",
       "  max-width: 0;\n",
       "  overflow: hidden;\n",
       "  text-align: left;\n",
       "  /* unfitted */\n",
       "  background-color: var(--sklearn-color-unfitted-level-0);\n",
       "}\n",
       "\n",
       "#sk-container-id-1 div.sk-toggleable__content.fitted {\n",
       "  /* fitted */\n",
       "  background-color: var(--sklearn-color-fitted-level-0);\n",
       "}\n",
       "\n",
       "#sk-container-id-1 div.sk-toggleable__content pre {\n",
       "  margin: 0.2em;\n",
       "  border-radius: 0.25em;\n",
       "  color: var(--sklearn-color-text);\n",
       "  /* unfitted */\n",
       "  background-color: var(--sklearn-color-unfitted-level-0);\n",
       "}\n",
       "\n",
       "#sk-container-id-1 div.sk-toggleable__content.fitted pre {\n",
       "  /* unfitted */\n",
       "  background-color: var(--sklearn-color-fitted-level-0);\n",
       "}\n",
       "\n",
       "#sk-container-id-1 input.sk-toggleable__control:checked~div.sk-toggleable__content {\n",
       "  /* Expand drop-down */\n",
       "  max-height: 200px;\n",
       "  max-width: 100%;\n",
       "  overflow: auto;\n",
       "}\n",
       "\n",
       "#sk-container-id-1 input.sk-toggleable__control:checked~label.sk-toggleable__label-arrow:before {\n",
       "  content: \"▾\";\n",
       "}\n",
       "\n",
       "/* Pipeline/ColumnTransformer-specific style */\n",
       "\n",
       "#sk-container-id-1 div.sk-label input.sk-toggleable__control:checked~label.sk-toggleable__label {\n",
       "  color: var(--sklearn-color-text);\n",
       "  background-color: var(--sklearn-color-unfitted-level-2);\n",
       "}\n",
       "\n",
       "#sk-container-id-1 div.sk-label.fitted input.sk-toggleable__control:checked~label.sk-toggleable__label {\n",
       "  background-color: var(--sklearn-color-fitted-level-2);\n",
       "}\n",
       "\n",
       "/* Estimator-specific style */\n",
       "\n",
       "/* Colorize estimator box */\n",
       "#sk-container-id-1 div.sk-estimator input.sk-toggleable__control:checked~label.sk-toggleable__label {\n",
       "  /* unfitted */\n",
       "  background-color: var(--sklearn-color-unfitted-level-2);\n",
       "}\n",
       "\n",
       "#sk-container-id-1 div.sk-estimator.fitted input.sk-toggleable__control:checked~label.sk-toggleable__label {\n",
       "  /* fitted */\n",
       "  background-color: var(--sklearn-color-fitted-level-2);\n",
       "}\n",
       "\n",
       "#sk-container-id-1 div.sk-label label.sk-toggleable__label,\n",
       "#sk-container-id-1 div.sk-label label {\n",
       "  /* The background is the default theme color */\n",
       "  color: var(--sklearn-color-text-on-default-background);\n",
       "}\n",
       "\n",
       "/* On hover, darken the color of the background */\n",
       "#sk-container-id-1 div.sk-label:hover label.sk-toggleable__label {\n",
       "  color: var(--sklearn-color-text);\n",
       "  background-color: var(--sklearn-color-unfitted-level-2);\n",
       "}\n",
       "\n",
       "/* Label box, darken color on hover, fitted */\n",
       "#sk-container-id-1 div.sk-label.fitted:hover label.sk-toggleable__label.fitted {\n",
       "  color: var(--sklearn-color-text);\n",
       "  background-color: var(--sklearn-color-fitted-level-2);\n",
       "}\n",
       "\n",
       "/* Estimator label */\n",
       "\n",
       "#sk-container-id-1 div.sk-label label {\n",
       "  font-family: monospace;\n",
       "  font-weight: bold;\n",
       "  display: inline-block;\n",
       "  line-height: 1.2em;\n",
       "}\n",
       "\n",
       "#sk-container-id-1 div.sk-label-container {\n",
       "  text-align: center;\n",
       "}\n",
       "\n",
       "/* Estimator-specific */\n",
       "#sk-container-id-1 div.sk-estimator {\n",
       "  font-family: monospace;\n",
       "  border: 1px dotted var(--sklearn-color-border-box);\n",
       "  border-radius: 0.25em;\n",
       "  box-sizing: border-box;\n",
       "  margin-bottom: 0.5em;\n",
       "  /* unfitted */\n",
       "  background-color: var(--sklearn-color-unfitted-level-0);\n",
       "}\n",
       "\n",
       "#sk-container-id-1 div.sk-estimator.fitted {\n",
       "  /* fitted */\n",
       "  background-color: var(--sklearn-color-fitted-level-0);\n",
       "}\n",
       "\n",
       "/* on hover */\n",
       "#sk-container-id-1 div.sk-estimator:hover {\n",
       "  /* unfitted */\n",
       "  background-color: var(--sklearn-color-unfitted-level-2);\n",
       "}\n",
       "\n",
       "#sk-container-id-1 div.sk-estimator.fitted:hover {\n",
       "  /* fitted */\n",
       "  background-color: var(--sklearn-color-fitted-level-2);\n",
       "}\n",
       "\n",
       "/* Specification for estimator info (e.g. \"i\" and \"?\") */\n",
       "\n",
       "/* Common style for \"i\" and \"?\" */\n",
       "\n",
       ".sk-estimator-doc-link,\n",
       "a:link.sk-estimator-doc-link,\n",
       "a:visited.sk-estimator-doc-link {\n",
       "  float: right;\n",
       "  font-size: smaller;\n",
       "  line-height: 1em;\n",
       "  font-family: monospace;\n",
       "  background-color: var(--sklearn-color-background);\n",
       "  border-radius: 1em;\n",
       "  height: 1em;\n",
       "  width: 1em;\n",
       "  text-decoration: none !important;\n",
       "  margin-left: 1ex;\n",
       "  /* unfitted */\n",
       "  border: var(--sklearn-color-unfitted-level-1) 1pt solid;\n",
       "  color: var(--sklearn-color-unfitted-level-1);\n",
       "}\n",
       "\n",
       ".sk-estimator-doc-link.fitted,\n",
       "a:link.sk-estimator-doc-link.fitted,\n",
       "a:visited.sk-estimator-doc-link.fitted {\n",
       "  /* fitted */\n",
       "  border: var(--sklearn-color-fitted-level-1) 1pt solid;\n",
       "  color: var(--sklearn-color-fitted-level-1);\n",
       "}\n",
       "\n",
       "/* On hover */\n",
       "div.sk-estimator:hover .sk-estimator-doc-link:hover,\n",
       ".sk-estimator-doc-link:hover,\n",
       "div.sk-label-container:hover .sk-estimator-doc-link:hover,\n",
       ".sk-estimator-doc-link:hover {\n",
       "  /* unfitted */\n",
       "  background-color: var(--sklearn-color-unfitted-level-3);\n",
       "  color: var(--sklearn-color-background);\n",
       "  text-decoration: none;\n",
       "}\n",
       "\n",
       "div.sk-estimator.fitted:hover .sk-estimator-doc-link.fitted:hover,\n",
       ".sk-estimator-doc-link.fitted:hover,\n",
       "div.sk-label-container:hover .sk-estimator-doc-link.fitted:hover,\n",
       ".sk-estimator-doc-link.fitted:hover {\n",
       "  /* fitted */\n",
       "  background-color: var(--sklearn-color-fitted-level-3);\n",
       "  color: var(--sklearn-color-background);\n",
       "  text-decoration: none;\n",
       "}\n",
       "\n",
       "/* Span, style for the box shown on hovering the info icon */\n",
       ".sk-estimator-doc-link span {\n",
       "  display: none;\n",
       "  z-index: 9999;\n",
       "  position: relative;\n",
       "  font-weight: normal;\n",
       "  right: .2ex;\n",
       "  padding: .5ex;\n",
       "  margin: .5ex;\n",
       "  width: min-content;\n",
       "  min-width: 20ex;\n",
       "  max-width: 50ex;\n",
       "  color: var(--sklearn-color-text);\n",
       "  box-shadow: 2pt 2pt 4pt #999;\n",
       "  /* unfitted */\n",
       "  background: var(--sklearn-color-unfitted-level-0);\n",
       "  border: .5pt solid var(--sklearn-color-unfitted-level-3);\n",
       "}\n",
       "\n",
       ".sk-estimator-doc-link.fitted span {\n",
       "  /* fitted */\n",
       "  background: var(--sklearn-color-fitted-level-0);\n",
       "  border: var(--sklearn-color-fitted-level-3);\n",
       "}\n",
       "\n",
       ".sk-estimator-doc-link:hover span {\n",
       "  display: block;\n",
       "}\n",
       "\n",
       "/* \"?\"-specific style due to the `<a>` HTML tag */\n",
       "\n",
       "#sk-container-id-1 a.estimator_doc_link {\n",
       "  float: right;\n",
       "  font-size: 1rem;\n",
       "  line-height: 1em;\n",
       "  font-family: monospace;\n",
       "  background-color: var(--sklearn-color-background);\n",
       "  border-radius: 1rem;\n",
       "  height: 1rem;\n",
       "  width: 1rem;\n",
       "  text-decoration: none;\n",
       "  /* unfitted */\n",
       "  color: var(--sklearn-color-unfitted-level-1);\n",
       "  border: var(--sklearn-color-unfitted-level-1) 1pt solid;\n",
       "}\n",
       "\n",
       "#sk-container-id-1 a.estimator_doc_link.fitted {\n",
       "  /* fitted */\n",
       "  border: var(--sklearn-color-fitted-level-1) 1pt solid;\n",
       "  color: var(--sklearn-color-fitted-level-1);\n",
       "}\n",
       "\n",
       "/* On hover */\n",
       "#sk-container-id-1 a.estimator_doc_link:hover {\n",
       "  /* unfitted */\n",
       "  background-color: var(--sklearn-color-unfitted-level-3);\n",
       "  color: var(--sklearn-color-background);\n",
       "  text-decoration: none;\n",
       "}\n",
       "\n",
       "#sk-container-id-1 a.estimator_doc_link.fitted:hover {\n",
       "  /* fitted */\n",
       "  background-color: var(--sklearn-color-fitted-level-3);\n",
       "}\n",
       "</style><div id=\"sk-container-id-1\" class=\"sk-top-container\"><div class=\"sk-text-repr-fallback\"><pre>GaussianMixture(n_components=3, random_state=42)</pre><b>In a Jupyter environment, please rerun this cell to show the HTML representation or trust the notebook. <br />On GitHub, the HTML representation is unable to render, please try loading this page with nbviewer.org.</b></div><div class=\"sk-container\" hidden><div class=\"sk-item\"><div class=\"sk-estimator fitted sk-toggleable\"><input class=\"sk-toggleable__control sk-hidden--visually\" id=\"sk-estimator-id-1\" type=\"checkbox\" checked><label for=\"sk-estimator-id-1\" class=\"sk-toggleable__label fitted sk-toggleable__label-arrow fitted\">&nbsp;&nbsp;GaussianMixture<a class=\"sk-estimator-doc-link fitted\" rel=\"noreferrer\" target=\"_blank\" href=\"https://scikit-learn.org/1.5/modules/generated/sklearn.mixture.GaussianMixture.html\">?<span>Documentation for GaussianMixture</span></a><span class=\"sk-estimator-doc-link fitted\">i<span>Fitted</span></span></label><div class=\"sk-toggleable__content fitted\"><pre>GaussianMixture(n_components=3, random_state=42)</pre></div> </div></div></div></div>"
      ],
      "text/plain": [
       "GaussianMixture(n_components=3, random_state=42)"
      ]
     },
     "execution_count": 5,
     "metadata": {},
     "output_type": "execute_result"
    }
   ],
   "source": [
    "gmm = GaussianMixture(n_components=3, random_state=42)\n",
    "gmm.fit(patient_level[['x1','x2','age']].values)"
   ]
  },
  {
   "cell_type": "markdown",
   "metadata": {},
   "source": [
    "# Predict cluster memberships"
   ]
  },
  {
   "cell_type": "code",
   "execution_count": 6,
   "metadata": {},
   "outputs": [
    {
     "name": "stderr",
     "output_type": "stream",
     "text": [
      "/Library/Frameworks/Python.framework/Versions/3.12/lib/python3.12/site-packages/sklearn/base.py:486: UserWarning: X has feature names, but GaussianMixture was fitted without feature names\n",
      "  warnings.warn(\n"
     ]
    }
   ],
   "source": [
    "patient_level['cluster'] = gmm.predict(patient_level[['x1','x2','age']])"
   ]
  },
  {
   "cell_type": "markdown",
   "metadata": {},
   "source": [
    "# Merge cluster labels back into original data"
   ]
  },
  {
   "cell_type": "code",
   "execution_count": 7,
   "metadata": {},
   "outputs": [
    {
     "name": "stdout",
     "output_type": "stream",
     "text": [
      "GMM means (component means in x1, x2, age space):\n",
      " [[ 3.67940372e-01  4.22639288e-01  3.99590243e+01]\n",
      " [ 4.14866950e-01 -1.84535138e-01  4.86810642e+01]\n",
      " [ 2.44675920e-01  4.09376723e-02  2.55010526e+01]]\n",
      "\n",
      "GMM covariances (component covariance matrices):\n",
      " [[[ 1.52170773e-01  3.05713285e-02 -7.49286877e-01]\n",
      "  [ 3.05713285e-02  9.53090529e-01  1.90880656e+00]\n",
      "  [-7.49286877e-01  1.90880656e+00  1.76238694e+01]]\n",
      "\n",
      " [[ 2.25785565e-02  1.11006753e-02 -1.89201304e-02]\n",
      "  [ 1.11006753e-02  9.14336244e-02  7.51807554e-02]\n",
      "  [-1.89201304e-02  7.51807554e-02  9.74770745e+01]]\n",
      "\n",
      " [[ 1.38486950e-01  6.12389551e-02  1.01230785e-01]\n",
      "  [ 6.12389551e-02  6.05567938e-01 -2.59258429e-01]\n",
      "  [ 1.01230785e-01 -2.59258429e-01  1.18633564e+01]]]\n"
     ]
    },
    {
     "data": {
      "text/html": [
       "<div>\n",
       "<style scoped>\n",
       "    .dataframe tbody tr th:only-of-type {\n",
       "        vertical-align: middle;\n",
       "    }\n",
       "\n",
       "    .dataframe tbody tr th {\n",
       "        vertical-align: top;\n",
       "    }\n",
       "\n",
       "    .dataframe thead th {\n",
       "        text-align: right;\n",
       "    }\n",
       "</style>\n",
       "<table border=\"1\" class=\"dataframe\">\n",
       "  <thead>\n",
       "    <tr style=\"text-align: right;\">\n",
       "      <th></th>\n",
       "      <th>id</th>\n",
       "      <th>period</th>\n",
       "      <th>treatment</th>\n",
       "      <th>x1</th>\n",
       "      <th>x2</th>\n",
       "      <th>x3</th>\n",
       "      <th>x4</th>\n",
       "      <th>age</th>\n",
       "      <th>age_s</th>\n",
       "      <th>outcome</th>\n",
       "      <th>censored</th>\n",
       "      <th>eligible</th>\n",
       "      <th>cluster</th>\n",
       "    </tr>\n",
       "  </thead>\n",
       "  <tbody>\n",
       "    <tr>\n",
       "      <th>0</th>\n",
       "      <td>1</td>\n",
       "      <td>0</td>\n",
       "      <td>1</td>\n",
       "      <td>1</td>\n",
       "      <td>1.146148</td>\n",
       "      <td>0</td>\n",
       "      <td>0.734203</td>\n",
       "      <td>36</td>\n",
       "      <td>0.083333</td>\n",
       "      <td>0</td>\n",
       "      <td>0</td>\n",
       "      <td>1</td>\n",
       "      <td>1</td>\n",
       "    </tr>\n",
       "    <tr>\n",
       "      <th>1</th>\n",
       "      <td>1</td>\n",
       "      <td>1</td>\n",
       "      <td>1</td>\n",
       "      <td>1</td>\n",
       "      <td>0.002200</td>\n",
       "      <td>0</td>\n",
       "      <td>0.734203</td>\n",
       "      <td>37</td>\n",
       "      <td>0.166667</td>\n",
       "      <td>0</td>\n",
       "      <td>0</td>\n",
       "      <td>0</td>\n",
       "      <td>1</td>\n",
       "    </tr>\n",
       "    <tr>\n",
       "      <th>2</th>\n",
       "      <td>1</td>\n",
       "      <td>2</td>\n",
       "      <td>1</td>\n",
       "      <td>0</td>\n",
       "      <td>-0.481762</td>\n",
       "      <td>0</td>\n",
       "      <td>0.734203</td>\n",
       "      <td>38</td>\n",
       "      <td>0.250000</td>\n",
       "      <td>0</td>\n",
       "      <td>0</td>\n",
       "      <td>0</td>\n",
       "      <td>1</td>\n",
       "    </tr>\n",
       "    <tr>\n",
       "      <th>3</th>\n",
       "      <td>1</td>\n",
       "      <td>3</td>\n",
       "      <td>1</td>\n",
       "      <td>0</td>\n",
       "      <td>0.007872</td>\n",
       "      <td>0</td>\n",
       "      <td>0.734203</td>\n",
       "      <td>39</td>\n",
       "      <td>0.333333</td>\n",
       "      <td>0</td>\n",
       "      <td>0</td>\n",
       "      <td>0</td>\n",
       "      <td>1</td>\n",
       "    </tr>\n",
       "    <tr>\n",
       "      <th>4</th>\n",
       "      <td>1</td>\n",
       "      <td>4</td>\n",
       "      <td>1</td>\n",
       "      <td>1</td>\n",
       "      <td>0.216054</td>\n",
       "      <td>0</td>\n",
       "      <td>0.734203</td>\n",
       "      <td>40</td>\n",
       "      <td>0.416667</td>\n",
       "      <td>0</td>\n",
       "      <td>0</td>\n",
       "      <td>0</td>\n",
       "      <td>1</td>\n",
       "    </tr>\n",
       "  </tbody>\n",
       "</table>\n",
       "</div>"
      ],
      "text/plain": [
       "   id  period  treatment  x1        x2  x3        x4  age     age_s  outcome  \\\n",
       "0   1       0          1   1  1.146148   0  0.734203   36  0.083333        0   \n",
       "1   1       1          1   1  0.002200   0  0.734203   37  0.166667        0   \n",
       "2   1       2          1   0 -0.481762   0  0.734203   38  0.250000        0   \n",
       "3   1       3          1   0  0.007872   0  0.734203   39  0.333333        0   \n",
       "4   1       4          1   1  0.216054   0  0.734203   40  0.416667        0   \n",
       "\n",
       "   censored  eligible  cluster  \n",
       "0         0         1        1  \n",
       "1         0         0        1  \n",
       "2         0         0        1  \n",
       "3         0         0        1  \n",
       "4         0         0        1  "
      ]
     },
     "execution_count": 7,
     "metadata": {},
     "output_type": "execute_result"
    }
   ],
   "source": [
    "data = data.merge(patient_level[['id','cluster']], on='id', how='left')\n",
    "\n",
    "print(\"GMM means (component means in x1, x2, age space):\\n\", gmm.means_)\n",
    "print(\"\\nGMM covariances (component covariance matrices):\\n\", gmm.covariances_)\n",
    "\n",
    "data.head(5)"
   ]
  },
  {
   "cell_type": "markdown",
   "metadata": {},
   "source": [
    "# Weight Calculation (Incorporating GMM Clusters)\n",
    "\n",
    "We define not_censored = 1 - censored, then fit numerator & denominator\n",
    "\n",
    "logistic models that include 'cluster' as a categorical variable."
   ]
  },
  {
   "cell_type": "code",
   "execution_count": 8,
   "metadata": {},
   "outputs": [],
   "source": [
    "data['not_censored'] = 1 - data[trial_settings['censored_col']]"
   ]
  },
  {
   "cell_type": "markdown",
   "metadata": {},
   "source": [
    "numerator model: not_censored ~ x2 + C(cluster)"
   ]
  },
  {
   "cell_type": "code",
   "execution_count": 9,
   "metadata": {},
   "outputs": [],
   "source": [
    "num_formula = \"not_censored ~ x2 + C(cluster)\""
   ]
  },
  {
   "cell_type": "markdown",
   "metadata": {},
   "source": [
    "denominator model: not_censored ~ x2 + x1 + C(cluster)"
   ]
  },
  {
   "cell_type": "code",
   "execution_count": 10,
   "metadata": {},
   "outputs": [
    {
     "name": "stdout",
     "output_type": "stream",
     "text": [
      "Numerator model summary:\n",
      "                 Generalized Linear Model Regression Results                  \n",
      "==============================================================================\n",
      "Dep. Variable:           not_censored   No. Observations:                  725\n",
      "Model:                            GLM   Df Residuals:                      721\n",
      "Model Family:                Binomial   Df Model:                            3\n",
      "Link Function:                  Logit   Scale:                          1.0000\n",
      "Method:                          IRLS   Log-Likelihood:                -149.30\n",
      "Date:                Sun, 09 Mar 2025   Deviance:                       298.60\n",
      "Time:                        19:36:34   Pearson chi2:                     753.\n",
      "No. Iterations:                     6   Pseudo R-squ. (CS):             0.1356\n",
      "Covariance Type:            nonrobust                                         \n",
      "===================================================================================\n",
      "                      coef    std err          z      P>|z|      [0.025      0.975]\n",
      "-----------------------------------------------------------------------------------\n",
      "Intercept           0.6263      0.319      1.965      0.049       0.002       1.251\n",
      "C(cluster)[T.1]     2.8686      0.396      7.244      0.000       2.092       3.645\n",
      "C(cluster)[T.2]    -0.1123      0.416     -0.270      0.787      -0.928       0.704\n",
      "x2                 -0.3938      0.156     -2.517      0.012      -0.701      -0.087\n",
      "===================================================================================\n",
      "\n",
      "Denominator model summary:\n",
      "                 Generalized Linear Model Regression Results                  \n",
      "==============================================================================\n",
      "Dep. Variable:           not_censored   No. Observations:                  725\n",
      "Model:                            GLM   Df Residuals:                      720\n",
      "Model Family:                Binomial   Df Model:                            4\n",
      "Link Function:                  Logit   Scale:                          1.0000\n",
      "Method:                          IRLS   Log-Likelihood:                -148.18\n",
      "Date:                Sun, 09 Mar 2025   Deviance:                       296.35\n",
      "Time:                        19:36:34   Pearson chi2:                     774.\n",
      "No. Iterations:                     6   Pseudo R-squ. (CS):             0.1382\n",
      "Covariance Type:            nonrobust                                         \n",
      "===================================================================================\n",
      "                      coef    std err          z      P>|z|      [0.025      0.975]\n",
      "-----------------------------------------------------------------------------------\n",
      "Intercept           0.4737      0.335      1.415      0.157      -0.182       1.130\n",
      "C(cluster)[T.1]     2.8346      0.397      7.139      0.000       2.056       3.613\n",
      "C(cluster)[T.2]    -0.0990      0.418     -0.237      0.813      -0.919       0.721\n",
      "x2                 -0.4149      0.157     -2.650      0.008      -0.722      -0.108\n",
      "x1                  0.5035      0.342      1.471      0.141      -0.167       1.174\n",
      "===================================================================================\n"
     ]
    }
   ],
   "source": [
    "den_formula = \"not_censored ~ x2 + x1 + C(cluster)\"\n",
    "\n",
    "model_num = smf.glm(formula=num_formula, data=data, family=Binomial()).fit()\n",
    "model_den = smf.glm(formula=den_formula, data=data, family=Binomial()).fit()\n",
    "\n",
    "data['p_num'] = model_num.predict(data)\n",
    "data['p_den'] = model_den.predict(data)\n",
    "data['ipw'] = data['p_num'] / data['p_den']\n",
    "\n",
    "print(\"Numerator model summary:\")\n",
    "print(model_num.summary())\n",
    "print(\"\\nDenominator model summary:\")\n",
    "print(model_den.summary())"
   ]
  },
  {
   "cell_type": "markdown",
   "metadata": {},
   "source": [
    "# Basic distribution check of IPW"
   ]
  },
  {
   "cell_type": "code",
   "execution_count": 11,
   "metadata": {},
   "outputs": [
    {
     "data": {
      "text/plain": [
       "count    725.000000\n",
       "mean       1.000921\n",
       "std        0.032394\n",
       "min        0.837374\n",
       "25%        0.992775\n",
       "50%        1.003393\n",
       "75%        1.006720\n",
       "max        1.107548\n",
       "Name: ipw, dtype: float64"
      ]
     },
     "execution_count": 11,
     "metadata": {},
     "output_type": "execute_result"
    }
   ],
   "source": [
    "data['ipw'].describe()"
   ]
  },
  {
   "cell_type": "markdown",
   "metadata": {},
   "source": [
    "# Trial Expansion"
   ]
  },
  {
   "cell_type": "code",
   "execution_count": 12,
   "metadata": {},
   "outputs": [
    {
     "name": "stdout",
     "output_type": "stream",
     "text": [
      "Original data shape: (725, 17)\n",
      "Expanded data shape: (5837, 18)\n"
     ]
    },
    {
     "data": {
      "text/html": [
       "<div>\n",
       "<style scoped>\n",
       "    .dataframe tbody tr th:only-of-type {\n",
       "        vertical-align: middle;\n",
       "    }\n",
       "\n",
       "    .dataframe tbody tr th {\n",
       "        vertical-align: top;\n",
       "    }\n",
       "\n",
       "    .dataframe thead th {\n",
       "        text-align: right;\n",
       "    }\n",
       "</style>\n",
       "<table border=\"1\" class=\"dataframe\">\n",
       "  <thead>\n",
       "    <tr style=\"text-align: right;\">\n",
       "      <th></th>\n",
       "      <th>id</th>\n",
       "      <th>period</th>\n",
       "      <th>treatment</th>\n",
       "      <th>x1</th>\n",
       "      <th>x2</th>\n",
       "      <th>x3</th>\n",
       "      <th>x4</th>\n",
       "      <th>age</th>\n",
       "      <th>age_s</th>\n",
       "      <th>outcome</th>\n",
       "      <th>censored</th>\n",
       "      <th>eligible</th>\n",
       "      <th>cluster</th>\n",
       "      <th>not_censored</th>\n",
       "      <th>p_num</th>\n",
       "      <th>p_den</th>\n",
       "      <th>ipw</th>\n",
       "      <th>followup_time</th>\n",
       "    </tr>\n",
       "  </thead>\n",
       "  <tbody>\n",
       "    <tr>\n",
       "      <th>0</th>\n",
       "      <td>1.0</td>\n",
       "      <td>0.0</td>\n",
       "      <td>1.0</td>\n",
       "      <td>1.0</td>\n",
       "      <td>1.146148</td>\n",
       "      <td>0.0</td>\n",
       "      <td>0.734203</td>\n",
       "      <td>36.0</td>\n",
       "      <td>0.083333</td>\n",
       "      <td>0.0</td>\n",
       "      <td>0.0</td>\n",
       "      <td>1.0</td>\n",
       "      <td>1.0</td>\n",
       "      <td>1.0</td>\n",
       "      <td>0.954502</td>\n",
       "      <td>0.965650</td>\n",
       "      <td>0.988455</td>\n",
       "      <td>0.0</td>\n",
       "    </tr>\n",
       "    <tr>\n",
       "      <th>1</th>\n",
       "      <td>1.0</td>\n",
       "      <td>1.0</td>\n",
       "      <td>1.0</td>\n",
       "      <td>1.0</td>\n",
       "      <td>0.002200</td>\n",
       "      <td>0.0</td>\n",
       "      <td>0.734203</td>\n",
       "      <td>37.0</td>\n",
       "      <td>0.166667</td>\n",
       "      <td>0.0</td>\n",
       "      <td>0.0</td>\n",
       "      <td>0.0</td>\n",
       "      <td>1.0</td>\n",
       "      <td>1.0</td>\n",
       "      <td>0.970518</td>\n",
       "      <td>0.978349</td>\n",
       "      <td>0.991995</td>\n",
       "      <td>0.0</td>\n",
       "    </tr>\n",
       "    <tr>\n",
       "      <th>2</th>\n",
       "      <td>1.0</td>\n",
       "      <td>1.0</td>\n",
       "      <td>1.0</td>\n",
       "      <td>1.0</td>\n",
       "      <td>0.002200</td>\n",
       "      <td>0.0</td>\n",
       "      <td>0.734203</td>\n",
       "      <td>37.0</td>\n",
       "      <td>0.166667</td>\n",
       "      <td>0.0</td>\n",
       "      <td>0.0</td>\n",
       "      <td>0.0</td>\n",
       "      <td>1.0</td>\n",
       "      <td>1.0</td>\n",
       "      <td>0.970518</td>\n",
       "      <td>0.978349</td>\n",
       "      <td>0.991995</td>\n",
       "      <td>1.0</td>\n",
       "    </tr>\n",
       "    <tr>\n",
       "      <th>3</th>\n",
       "      <td>1.0</td>\n",
       "      <td>2.0</td>\n",
       "      <td>1.0</td>\n",
       "      <td>0.0</td>\n",
       "      <td>-0.481762</td>\n",
       "      <td>0.0</td>\n",
       "      <td>0.734203</td>\n",
       "      <td>38.0</td>\n",
       "      <td>0.250000</td>\n",
       "      <td>0.0</td>\n",
       "      <td>0.0</td>\n",
       "      <td>0.0</td>\n",
       "      <td>1.0</td>\n",
       "      <td>1.0</td>\n",
       "      <td>0.975509</td>\n",
       "      <td>0.970919</td>\n",
       "      <td>1.004726</td>\n",
       "      <td>0.0</td>\n",
       "    </tr>\n",
       "    <tr>\n",
       "      <th>4</th>\n",
       "      <td>1.0</td>\n",
       "      <td>2.0</td>\n",
       "      <td>1.0</td>\n",
       "      <td>0.0</td>\n",
       "      <td>-0.481762</td>\n",
       "      <td>0.0</td>\n",
       "      <td>0.734203</td>\n",
       "      <td>38.0</td>\n",
       "      <td>0.250000</td>\n",
       "      <td>0.0</td>\n",
       "      <td>0.0</td>\n",
       "      <td>0.0</td>\n",
       "      <td>1.0</td>\n",
       "      <td>1.0</td>\n",
       "      <td>0.975509</td>\n",
       "      <td>0.970919</td>\n",
       "      <td>1.004726</td>\n",
       "      <td>1.0</td>\n",
       "    </tr>\n",
       "  </tbody>\n",
       "</table>\n",
       "</div>"
      ],
      "text/plain": [
       "    id  period  treatment   x1        x2   x3        x4   age     age_s  \\\n",
       "0  1.0     0.0        1.0  1.0  1.146148  0.0  0.734203  36.0  0.083333   \n",
       "1  1.0     1.0        1.0  1.0  0.002200  0.0  0.734203  37.0  0.166667   \n",
       "2  1.0     1.0        1.0  1.0  0.002200  0.0  0.734203  37.0  0.166667   \n",
       "3  1.0     2.0        1.0  0.0 -0.481762  0.0  0.734203  38.0  0.250000   \n",
       "4  1.0     2.0        1.0  0.0 -0.481762  0.0  0.734203  38.0  0.250000   \n",
       "\n",
       "   outcome  censored  eligible  cluster  not_censored     p_num     p_den  \\\n",
       "0      0.0       0.0       1.0      1.0           1.0  0.954502  0.965650   \n",
       "1      0.0       0.0       0.0      1.0           1.0  0.970518  0.978349   \n",
       "2      0.0       0.0       0.0      1.0           1.0  0.970518  0.978349   \n",
       "3      0.0       0.0       0.0      1.0           1.0  0.975509  0.970919   \n",
       "4      0.0       0.0       0.0      1.0           1.0  0.975509  0.970919   \n",
       "\n",
       "        ipw  followup_time  \n",
       "0  0.988455            0.0  \n",
       "1  0.991995            0.0  \n",
       "2  0.991995            1.0  \n",
       "3  1.004726            0.0  \n",
       "4  1.004726            1.0  "
      ]
     },
     "execution_count": 12,
     "metadata": {},
     "output_type": "execute_result"
    }
   ],
   "source": [
    "def expand_trials(input_df, id_col='id', period_col='period'):\n",
    "    expanded_rows = []\n",
    "    for pid, subdf in input_df.groupby(id_col):\n",
    "        for idx, row_data in subdf.iterrows():\n",
    "            max_period = int(row_data[period_col])\n",
    "            for t in range(max_period+1):\n",
    "                new_row = row_data.copy()\n",
    "                new_row['followup_time'] = t\n",
    "                expanded_rows.append(new_row)\n",
    "                expanded_df = pd.DataFrame(expanded_rows).reset_index(drop=True)\n",
    "    return expanded_df\n",
    "\n",
    "expanded_data = expand_trials(data,\n",
    "trial_settings['id_col'],\n",
    "trial_settings['period_col'])\n",
    "\n",
    "print(\"Original data shape:\", data.shape)\n",
    "print(\"Expanded data shape:\", expanded_data.shape)\n",
    "expanded_data.head()"
   ]
  },
  {
   "cell_type": "markdown",
   "metadata": {},
   "source": [
    "# Outcome Modeling (MSM)\n",
    "\n",
    "Merge IPW into the expanded dataset based on (id, period)."
   ]
  },
  {
   "cell_type": "code",
   "execution_count": 13,
   "metadata": {},
   "outputs": [],
   "source": [
    "expanded_merged = pd.merge(\n",
    "    expanded_data,\n",
    "    data[['id','period','ipw']],\n",
    "    on=['id','period'],\n",
    "    how='left',\n",
    "    suffixes=('', '_orig')\n",
    ")"
   ]
  },
  {
   "cell_type": "code",
   "execution_count": 14,
   "metadata": {},
   "outputs": [
    {
     "name": "stdout",
     "output_type": "stream",
     "text": [
      "MSM Model Summary with GMM clusters:\n",
      "                 Generalized Linear Model Regression Results                  \n",
      "==============================================================================\n",
      "Dep. Variable:                outcome   No. Observations:                 5837\n",
      "Model:                            GLM   Df Residuals:                  5832.84\n",
      "Model Family:                Binomial   Df Model:                            5\n",
      "Link Function:                  Logit   Scale:                          1.0000\n",
      "Method:                          IRLS   Log-Likelihood:                -404.20\n",
      "Date:                Sun, 09 Mar 2025   Deviance:                       808.41\n",
      "Time:                        19:42:26   Pearson chi2:                 5.73e+03\n",
      "No. Iterations:                     8   Pseudo R-squ. (CS):           0.007139\n",
      "Covariance Type:            nonrobust                                         \n",
      "=========================================================================================\n",
      "                            coef    std err          z      P>|z|      [0.025      0.975]\n",
      "-----------------------------------------------------------------------------------------\n",
      "Intercept                -3.5343      0.640     -5.523      0.000      -4.789      -2.280\n",
      "C(cluster)[T.1.0]        -0.2569      0.644     -0.399      0.690      -1.520       1.006\n",
      "C(cluster)[T.2.0]        -0.7224      0.967     -0.747      0.455      -2.618       1.173\n",
      "treatment                -1.6174      0.342     -4.736      0.000      -2.287      -0.948\n",
      "followup_time             0.0807      0.088      0.922      0.357      -0.091       0.252\n",
      "I(followup_time ** 2)    -0.0110      0.007     -1.653      0.098      -0.024       0.002\n",
      "=========================================================================================\n"
     ]
    }
   ],
   "source": [
    "msm_formula = \"outcome ~ treatment + followup_time + I(followup_time**2) + C(cluster)\"\n",
    "\n",
    "msm_model = smf.glm(formula=msm_formula,\n",
    "data=expanded_merged,\n",
    "family=Binomial(),\n",
    "freq_weights=expanded_merged['ipw']).fit()\n",
    "\n",
    "print(\"MSM Model Summary with GMM clusters:\")\n",
    "print(msm_model.summary())"
   ]
  },
  {
   "cell_type": "markdown",
   "metadata": {},
   "source": [
    "# Plooting\n",
    "\n",
    "Traditional Survival Curves w/ Confidence Intervals"
   ]
  },
  {
   "cell_type": "code",
   "execution_count": 15,
   "metadata": {},
   "outputs": [],
   "source": [
    "times = np.arange(0, 11)\n",
    "treatments = [0, 1]\n",
    "\n",
    "surv_data = []\n",
    "\n",
    "for cluster_val in sorted(data['cluster'].unique()):\n",
    "    for t_val in times:\n",
    "        for treat in treatments:\n",
    "            df_pred = pd.DataFrame({\n",
    "                'treatment': [treat],\n",
    "                'followup_time': [t_val],\n",
    "                'cluster': [cluster_val]\n",
    "            })\n",
    "            pred_res = msm_model.get_prediction(df_pred)\n",
    "\n",
    "            # Probability of outcome=1 \n",
    "            p_event = pred_res.predicted_mean[0]\n",
    "            p_surv = 1 - p_event\n",
    "            \n",
    "            # Confidence intervals (prob scale)\n",
    "            ci = pred_res.conf_int(obs=True)[0]\n",
    "            lower_ci = 1 - ci[1]  # reversing\n",
    "            upper_ci = 1 - ci[0]\n",
    "            \n",
    "            surv_data.append({\n",
    "                'cluster': cluster_val,\n",
    "                'treatment': treat,\n",
    "                'followup_time': t_val,\n",
    "                'survival': p_surv,\n",
    "                'surv_lower': lower_ci,\n",
    "                'surv_upper': upper_ci\n",
    "            })\n",
    "\n",
    "surv_df = pd.DataFrame(surv_data)\n"
   ]
  },
  {
   "cell_type": "markdown",
   "metadata": {},
   "source": [
    "# Plot by cluster"
   ]
  },
  {
   "cell_type": "code",
   "execution_count": 16,
   "metadata": {},
   "outputs": [
    {
     "data": {
      "image/png": "[encoded data removed]",
      "text/plain": [
       "<Figure size 900x600 with 1 Axes>"
      ]
     },
     "metadata": {},
     "output_type": "display_data"
    }
   ],
   "source": [
    "plt.figure(figsize=(9,6))\n",
    "\n",
    "for cluster_val in sorted(data['cluster'].unique()):\n",
    "    subset_cluster = surv_df[surv_df['cluster'] == cluster_val]\n",
    "    \n",
    "    for treat in treatments:\n",
    "        subset = subset_cluster[subset_cluster['treatment'] == treat]\n",
    "        label_ = f\"Cluster={cluster_val}, Treat={treat}\"\n",
    "        \n",
    "        plt.plot(subset['followup_time'], subset['survival'], label=label_)\n",
    "        plt.fill_between(subset['followup_time'],\n",
    "                         subset['surv_lower'],\n",
    "                         subset['surv_upper'],\n",
    "                         alpha=0.2)\n",
    "\n",
    "plt.xlabel(\"Follow-up Time\")\n",
    "plt.ylabel(\"Estimated Survival Probability\")\n",
    "plt.title(\"Survival Curves by GMM Cluster\")\n",
    "plt.legend()\n",
    "plt.show()\n",
    "\n",
    "\n"
   ]
  },
  {
   "cell_type": "markdown",
   "metadata": {},
   "source": [
    "# Weight Distribution Plot"
   ]
  },
  {
   "cell_type": "code",
   "execution_count": 17,
   "metadata": {},
   "outputs": [
    {
     "data": {
      "image/png": "[encoded data removed]",
      "text/plain": [
       "<Figure size 800x500 with 1 Axes>"
      ]
     },
     "metadata": {},
     "output_type": "display_data"
    }
   ],
   "source": [
    "plt.figure(figsize=(8,5))\n",
    "sns.histplot(data['ipw'], bins=30, kde=True, color='darkorange')\n",
    "plt.title(\"Distribution of Inverse Probability Weights (GMM-based clusters)\")\n",
    "plt.xlabel(\"IPW\")\n",
    "plt.show()"
   ]
  },
  {
   "cell_type": "markdown",
   "metadata": {},
   "source": [
    "# Interactive Survival Curves (Plotly)"
   ]
  },
  {
   "cell_type": "code",
   "execution_count": 18,
   "metadata": {},
   "outputs": [
    {
     "data": {
      "application/vnd.plotly.v1+json": {
       "config": {
        "plotlyServerURL": "https://plot.ly"
       },
       "data": [
        {
         "mode": "lines",
         "name": "Treat=0, Cl=0",
         "type": "scatter",
         "x": [
          0,
          1,
          2,
          3,
          4,
          5,
          6,
          7,
          8,
          9,
          10
         ],
         "y": [
          0.9716481681383425,
          0.9696617224350418,
          0.9682228273008344,
          0.9674168156457527,
          0.9672924264604791,
          0.9678572392323279,
          0.9690769612564072,
          0.9708786464992872,
          0.9731574892413056,
          0.9757864276391665,
          0.9786274536971009
         ]
        },
        {
         "fill": "toself",
         "fillcolor": "rgba(0,100,80,0.2)",
         "hoverinfo": "skip",
         "line": {
          "color": "rgba(255,255,255,0)"
         },
         "showlegend": false,
         "type": "scatter",
         "x": [
          0,
          1,
          2,
          3,
          4,
          5,
          6,
          7,
          8,
          9,
          10,
          10,
          9,
          8,
          7,
          6,
          5,
          4,
          3,
          2,
          1,
          0
         ],
         "y": [
          0.9917447613389989,
          0.9909724090108198,
          0.9905201793121434,
          0.9903685445866647,
          0.990473732468613,
          0.9907868529433387,
          0.9912643693859459,
          0.9918715905089096,
          0.9925819994118427,
          0.9933743710305776,
          0.9942286952538766,
          0.9240729886812644,
          0.9154829572740019,
          0.9076034640135942,
          0.9010754161735212,
          0.8964245630768855,
          0.8939677821165595,
          0.8937525401194338,
          0.895540070205872,
          0.8988365142771465,
          0.9029703398604998,
          0.9072059076240352
         ]
        },
        {
         "mode": "lines",
         "name": "Treat=1, Cl=0",
         "type": "scatter",
         "x": [
          0,
          1,
          2,
          3,
          4,
          5,
          6,
          7,
          8,
          9,
          10
         ],
         "y": [
          0.9942435342722545,
          0.9938301600245376,
          0.9935298860160481,
          0.9933613737045249,
          0.993335347824576,
          0.9934534804629777,
          0.993708215550729,
          0.9940835587350837,
          0.9945567206545569,
          0.9951003839547571,
          0.9956852859347927
         ]
        },
        {
         "fill": "toself",
         "fillcolor": "rgba(0,100,80,0.2)",
         "hoverinfo": "skip",
         "line": {
          "color": "rgba(255,255,255,0)"
         },
         "showlegend": false,
         "type": "scatter",
         "x": [
          0,
          1,
          2,
          3,
          4,
          5,
          6,
          7,
          8,
          9,
          10,
          10,
          9,
          8,
          7,
          6,
          5,
          4,
          3,
          2,
          1,
          0
         ],
         "y": [
          0.9985444425030603,
          0.9984140348076929,
          0.9983378631081062,
          0.9983128314646313,
          0.9983319787517966,
          0.9983873564685294,
          0.9984716647621006,
          0.9985788565491288,
          0.9987040931153816,
          0.9988433392214621,
          0.9989927680066913,
          0.9817156961699582,
          0.9794938841755165,
          0.9774361318107606,
          0.9757147460261002,
          0.9744777501268541,
          0.9738202579161692,
          0.9737644297876575,
          0.974253276616264,
          0.9751601654765247,
          0.9763119619581928,
          0.9775203200699324
         ]
        }
       ],
       "layout": {
        "template": {
         "data": {
          "bar": [
           {
            "error_x": {
             "color": "#2a3f5f"
            },
            "error_y": {
             "color": "#2a3f5f"
            },
            "marker": {
             "line": {
              "color": "#E5ECF6",
              "width": 0.5
             },
             "pattern": {
              "fillmode": "overlay",
              "size": 10,
              "solidity": 0.2
             }
            },
            "type": "bar"
           }
          ],
          "barpolar": [
           {
            "marker": {
             "line": {
              "color": "#E5ECF6",
              "width": 0.5
             },
             "pattern": {
              "fillmode": "overlay",
              "size": 10,
              "solidity": 0.2
             }
            },
            "type": "barpolar"
           }
          ],
          "carpet": [
           {
            "aaxis": {
             "endlinecolor": "#2a3f5f",
             "gridcolor": "white",
             "linecolor": "white",
             "minorgridcolor": "white",
             "startlinecolor": "#2a3f5f"
            },
            "baxis": {
             "endlinecolor": "#2a3f5f",
             "gridcolor": "white",
             "linecolor": "white",
             "minorgridcolor": "white",
             "startlinecolor": "#2a3f5f"
            },
            "type": "carpet"
           }
          ],
          "choropleth": [
           {
            "colorbar": {
             "outlinewidth": 0,
             "ticks": ""
            },
            "type": "choropleth"
           }
          ],
          "contour": [
           {
            "colorbar": {
             "outlinewidth": 0,
             "ticks": ""
            },
            "colorscale": [
             [
              0,
              "#0d0887"
             ],
             [
              0.1111111111111111,
              "#46039f"
             ],
             [
              0.2222222222222222,
              "#7201a8"
             ],
             [
              0.3333333333333333,
              "#9c179e"
             ],
             [
              0.4444444444444444,
              "#bd3786"
             ],
             [
              0.5555555555555556,
              "#d8576b"
             ],
             [
              0.6666666666666666,
              "#ed7953"
             ],
             [
              0.7777777777777778,
              "#fb9f3a"
             ],
             [
              0.8888888888888888,
              "#fdca26"
             ],
             [
              1,
              "#f0f921"
             ]
            ],
            "type": "contour"
           }
          ],
          "contourcarpet": [
           {
            "colorbar": {
             "outlinewidth": 0,
             "ticks": ""
            },
            "type": "contourcarpet"
           }
          ],
          "heatmap": [
           {
            "colorbar": {
             "outlinewidth": 0,
             "ticks": ""
            },
            "colorscale": [
             [
              0,
              "#0d0887"
             ],
             [
              0.1111111111111111,
              "#46039f"
             ],
             [
              0.2222222222222222,
              "#7201a8"
             ],
             [
              0.3333333333333333,
              "#9c179e"
             ],
             [
              0.4444444444444444,
              "#bd3786"
             ],
             [
              0.5555555555555556,
              "#d8576b"
             ],
             [
              0.6666666666666666,
              "#ed7953"
             ],
             [
              0.7777777777777778,
              "#fb9f3a"
             ],
             [
              0.8888888888888888,
              "#fdca26"
             ],
             [
              1,
              "#f0f921"
             ]
            ],
            "type": "heatmap"
           }
          ],
          "heatmapgl": [
           {
            "colorbar": {
             "outlinewidth": 0,
             "ticks": ""
            },
            "colorscale": [
             [
              0,
              "#0d0887"
             ],
             [
              0.1111111111111111,
              "#46039f"
             ],
             [
              0.2222222222222222,
              "#7201a8"
             ],
             [
              0.3333333333333333,
              "#9c179e"
             ],
             [
              0.4444444444444444,
              "#bd3786"
             ],
             [
              0.5555555555555556,
              "#d8576b"
             ],
             [
              0.6666666666666666,
              "#ed7953"
             ],
             [
              0.7777777777777778,
              "#fb9f3a"
             ],
             [
              0.8888888888888888,
              "#fdca26"
             ],
             [
              1,
              "#f0f921"
             ]
            ],
            "type": "heatmapgl"
           }
          ],
          "histogram": [
           {
            "marker": {
             "pattern": {
              "fillmode": "overlay",
              "size": 10,
              "solidity": 0.2
             }
            },
            "type": "histogram"
           }
          ],
          "histogram2d": [
           {
            "colorbar": {
             "outlinewidth": 0,
             "ticks": ""
            },
            "colorscale": [
             [
              0,
              "#0d0887"
             ],
             [
              0.1111111111111111,
              "#46039f"
             ],
             [
              0.2222222222222222,
              "#7201a8"
             ],
             [
              0.3333333333333333,
              "#9c179e"
             ],
             [
              0.4444444444444444,
              "#bd3786"
             ],
             [
              0.5555555555555556,
              "#d8576b"
             ],
             [
              0.6666666666666666,
              "#ed7953"
             ],
             [
              0.7777777777777778,
              "#fb9f3a"
             ],
             [
              0.8888888888888888,
              "#fdca26"
             ],
             [
              1,
              "#f0f921"
             ]
            ],
            "type": "histogram2d"
           }
          ],
          "histogram2dcontour": [
           {
            "colorbar": {
             "outlinewidth": 0,
             "ticks": ""
            },
            "colorscale": [
             [
              0,
              "#0d0887"
             ],
             [
              0.1111111111111111,
              "#46039f"
             ],
             [
              0.2222222222222222,
              "#7201a8"
             ],
             [
              0.3333333333333333,
              "#9c179e"
             ],
             [
              0.4444444444444444,
              "#bd3786"
             ],
             [
              0.5555555555555556,
              "#d8576b"
             ],
             [
              0.6666666666666666,
              "#ed7953"
             ],
             [
              0.7777777777777778,
              "#fb9f3a"
             ],
             [
              0.8888888888888888,
              "#fdca26"
             ],
             [
              1,
              "#f0f921"
             ]
            ],
            "type": "histogram2dcontour"
           }
          ],
          "mesh3d": [
           {
            "colorbar": {
             "outlinewidth": 0,
             "ticks": ""
            },
            "type": "mesh3d"
           }
          ],
          "parcoords": [
           {
            "line": {
             "colorbar": {
              "outlinewidth": 0,
              "ticks": ""
             }
            },
            "type": "parcoords"
           }
          ],
          "pie": [
           {
            "automargin": true,
            "type": "pie"
           }
          ],
          "scatter": [
           {
            "fillpattern": {
             "fillmode": "overlay",
             "size": 10,
             "solidity": 0.2
            },
            "type": "scatter"
           }
          ],
          "scatter3d": [
           {
            "line": {
             "colorbar": {
              "outlinewidth": 0,
              "ticks": ""
             }
            },
            "marker": {
             "colorbar": {
              "outlinewidth": 0,
              "ticks": ""
             }
            },
            "type": "scatter3d"
           }
          ],
          "scattercarpet": [
           {
            "marker": {
             "colorbar": {
              "outlinewidth": 0,
              "ticks": ""
             }
            },
            "type": "scattercarpet"
           }
          ],
          "scattergeo": [
           {
            "marker": {
             "colorbar": {
              "outlinewidth": 0,
              "ticks": ""
             }
            },
            "type": "scattergeo"
           }
          ],
          "scattergl": [
           {
            "marker": {
             "colorbar": {
              "outlinewidth": 0,
              "ticks": ""
             }
            },
            "type": "scattergl"
           }
          ],
          "scattermapbox": [
           {
            "marker": {
             "colorbar": {
              "outlinewidth": 0,
              "ticks": ""
             }
            },
            "type": "scattermapbox"
           }
          ],
          "scatterpolar": [
           {
            "marker": {
             "colorbar": {
              "outlinewidth": 0,
              "ticks": ""
             }
            },
            "type": "scatterpolar"
           }
          ],
          "scatterpolargl": [
           {
            "marker": {
             "colorbar": {
              "outlinewidth": 0,
              "ticks": ""
             }
            },
            "type": "scatterpolargl"
           }
          ],
          "scatterternary": [
           {
            "marker": {
             "colorbar": {
              "outlinewidth": 0,
              "ticks": ""
             }
            },
            "type": "scatterternary"
           }
          ],
          "surface": [
           {
            "colorbar": {
             "outlinewidth": 0,
             "ticks": ""
            },
            "colorscale": [
             [
              0,
              "#0d0887"
             ],
             [
              0.1111111111111111,
              "#46039f"
             ],
             [
              0.2222222222222222,
              "#7201a8"
             ],
             [
              0.3333333333333333,
              "#9c179e"
             ],
             [
              0.4444444444444444,
              "#bd3786"
             ],
             [
              0.5555555555555556,
              "#d8576b"
             ],
             [
              0.6666666666666666,
              "#ed7953"
             ],
             [
              0.7777777777777778,
              "#fb9f3a"
             ],
             [
              0.8888888888888888,
              "#fdca26"
             ],
             [
              1,
              "#f0f921"
             ]
            ],
            "type": "surface"
           }
          ],
          "table": [
           {
            "cells": {
             "fill": {
              "color": "#EBF0F8"
             },
             "line": {
              "color": "white"
             }
            },
            "header": {
             "fill": {
              "color": "#C8D4E3"
             },
             "line": {
              "color": "white"
             }
            },
            "type": "table"
           }
          ]
         },
         "layout": {
          "annotationdefaults": {
           "arrowcolor": "#2a3f5f",
           "arrowhead": 0,
           "arrowwidth": 1
          },
          "autotypenumbers": "strict",
          "coloraxis": {
           "colorbar": {
            "outlinewidth": 0,
            "ticks": ""
           }
          },
          "colorscale": {
           "diverging": [
            [
             0,
             "#8e0152"
            ],
            [
             0.1,
             "#c51b7d"
            ],
            [
             0.2,
             "#de77ae"
            ],
            [
             0.3,
             "#f1b6da"
            ],
            [
             0.4,
             "#fde0ef"
            ],
            [
             0.5,
             "#f7f7f7"
            ],
            [
             0.6,
             "#e6f5d0"
            ],
            [
             0.7,
             "#b8e186"
            ],
            [
             0.8,
             "#7fbc41"
            ],
            [
             0.9,
             "#4d9221"
            ],
            [
             1,
             "#276419"
            ]
           ],
           "sequential": [
            [
             0,
             "#0d0887"
            ],
            [
             0.1111111111111111,
             "#46039f"
            ],
            [
             0.2222222222222222,
             "#7201a8"
            ],
            [
             0.3333333333333333,
             "#9c179e"
            ],
            [
             0.4444444444444444,
             "#bd3786"
            ],
            [
             0.5555555555555556,
             "#d8576b"
            ],
            [
             0.6666666666666666,
             "#ed7953"
            ],
            [
             0.7777777777777778,
             "#fb9f3a"
            ],
            [
             0.8888888888888888,
             "#fdca26"
            ],
            [
             1,
             "#f0f921"
            ]
           ],
           "sequentialminus": [
            [
             0,
             "#0d0887"
            ],
            [
             0.1111111111111111,
             "#46039f"
            ],
            [
             0.2222222222222222,
             "#7201a8"
            ],
            [
             0.3333333333333333,
             "#9c179e"
            ],
            [
             0.4444444444444444,
             "#bd3786"
            ],
            [
             0.5555555555555556,
             "#d8576b"
            ],
            [
             0.6666666666666666,
             "#ed7953"
            ],
            [
             0.7777777777777778,
             "#fb9f3a"
            ],
            [
             0.8888888888888888,
             "#fdca26"
            ],
            [
             1,
             "#f0f921"
            ]
           ]
          },
          "colorway": [
           "#636efa",
           "#EF553B",
           "#00cc96",
           "#ab63fa",
           "#FFA15A",
           "#19d3f3",
           "#FF6692",
           "#B6E880",
           "#FF97FF",
           "#FECB52"
          ],
          "font": {
           "color": "#2a3f5f"
          },
          "geo": {
           "bgcolor": "white",
           "lakecolor": "white",
           "landcolor": "#E5ECF6",
           "showlakes": true,
           "showland": true,
           "subunitcolor": "white"
          },
          "hoverlabel": {
           "align": "left"
          },
          "hovermode": "closest",
          "mapbox": {
           "style": "light"
          },
          "paper_bgcolor": "white",
          "plot_bgcolor": "#E5ECF6",
          "polar": {
           "angularaxis": {
            "gridcolor": "white",
            "linecolor": "white",
            "ticks": ""
           },
           "bgcolor": "#E5ECF6",
           "radialaxis": {
            "gridcolor": "white",
            "linecolor": "white",
            "ticks": ""
           }
          },
          "scene": {
           "xaxis": {
            "backgroundcolor": "#E5ECF6",
            "gridcolor": "white",
            "gridwidth": 2,
            "linecolor": "white",
            "showbackground": true,
            "ticks": "",
            "zerolinecolor": "white"
           },
           "yaxis": {
            "backgroundcolor": "#E5ECF6",
            "gridcolor": "white",
            "gridwidth": 2,
            "linecolor": "white",
            "showbackground": true,
            "ticks": "",
            "zerolinecolor": "white"
           },
           "zaxis": {
            "backgroundcolor": "#E5ECF6",
            "gridcolor": "white",
            "gridwidth": 2,
            "linecolor": "white",
            "showbackground": true,
            "ticks": "",
            "zerolinecolor": "white"
           }
          },
          "shapedefaults": {
           "line": {
            "color": "#2a3f5f"
           }
          },
          "ternary": {
           "aaxis": {
            "gridcolor": "white",
            "linecolor": "white",
            "ticks": ""
           },
           "baxis": {
            "gridcolor": "white",
            "linecolor": "white",
            "ticks": ""
           },
           "bgcolor": "#E5ECF6",
           "caxis": {
            "gridcolor": "white",
            "linecolor": "white",
            "ticks": ""
           }
          },
          "title": {
           "x": 0.05
          },
          "xaxis": {
           "automargin": true,
           "gridcolor": "white",
           "linecolor": "white",
           "ticks": "",
           "title": {
            "standoff": 15
           },
           "zerolinecolor": "white",
           "zerolinewidth": 2
          },
          "yaxis": {
           "automargin": true,
           "gridcolor": "white",
           "linecolor": "white",
           "ticks": "",
           "title": {
            "standoff": 15
           },
           "zerolinecolor": "white",
           "zerolinewidth": 2
          }
         }
        },
        "title": {
         "text": "Interactive Survival Curves (Cluster=0)"
        },
        "xaxis": {
         "title": {
          "text": "Follow-up Time"
         }
        },
        "yaxis": {
         "title": {
          "text": "Survival Probability"
         }
        }
       }
      }
     },
     "metadata": {},
     "output_type": "display_data"
    }
   ],
   "source": [
    "cluster_of_interest = 0\n",
    "fig = go.Figure()\n",
    "\n",
    "subset_clust = surv_df[surv_df['cluster'] == cluster_of_interest]\n",
    "\n",
    "for treat in treatments:\n",
    "    df_treat = subset_clust[subset_clust['treatment'] == treat]\n",
    "    \n",
    "    # Add survival line trace\n",
    "    fig.add_trace(go.Scatter(\n",
    "        x=df_treat['followup_time'],\n",
    "        y=df_treat['survival'],\n",
    "        mode='lines',\n",
    "        name=f\"Treat={treat}, Cl={cluster_of_interest}\"\n",
    "    ))\n",
    "    \n",
    "    # Add confidence interval shaded area\n",
    "    fig.add_trace(go.Scatter(\n",
    "        x=pd.concat([df_treat['followup_time'], df_treat['followup_time'][::-1]]),\n",
    "        y=pd.concat([df_treat['surv_upper'], df_treat['surv_lower'][::-1]]),\n",
    "        fill='toself',\n",
    "        fillcolor='rgba(0,100,80,0.2)',\n",
    "        line=dict(color='rgba(255,255,255,0)'),\n",
    "        hoverinfo=\"skip\",\n",
    "        showlegend=False\n",
    "    ))\n",
    "\n",
    "# Update layout for the figure\n",
    "fig.update_layout(\n",
    "    title=f\"Interactive Survival Curves (Cluster={cluster_of_interest})\",\n",
    "    xaxis_title=\"Follow-up Time\",\n",
    "    yaxis_title=\"Survival Probability\"\n",
    ")\n",
    "\n",
    "fig.show()\n"
   ]
  },
  {
   "cell_type": "markdown",
   "metadata": {},
   "source": [
    "# Model Diagnostics (Q-Q, Residual Plot, Cook's Distance)"
   ]
  },
  {
   "cell_type": "code",
   "execution_count": 19,
   "metadata": {},
   "outputs": [],
   "source": [
    "resid_deviance = msm_model.resid_deviance.copy()"
   ]
  },
  {
   "cell_type": "markdown",
   "metadata": {},
   "source": [
    "# Q-Q Plot"
   ]
  },
  {
   "cell_type": "code",
   "execution_count": 20,
   "metadata": {},
   "outputs": [
    {
     "data": {
      "image/png": "[encoded data removed]",
      "text/plain": [
       "<Figure size 640x480 with 1 Axes>"
      ]
     },
     "metadata": {},
     "output_type": "display_data"
    }
   ],
   "source": [
    "sm.qqplot(resid_deviance, line='45')\n",
    "plt.title(\"Q-Q Plot of Deviance Residuals (GLM)\")\n",
    "plt.show()\n",
    "\n"
   ]
  },
  {
   "cell_type": "markdown",
   "metadata": {},
   "source": [
    "# Residual vs. Fitted"
   ]
  },
  {
   "cell_type": "code",
   "execution_count": 21,
   "metadata": {},
   "outputs": [
    {
     "data": {
      "image/png": "[encoded data removed]",
      "text/plain": [
       "<Figure size 640x480 with 1 Axes>"
      ]
     },
     "metadata": {},
     "output_type": "display_data"
    }
   ],
   "source": [
    "plt.scatter(msm_model.fittedvalues, resid_deviance, alpha=0.5)\n",
    "plt.axhline(0, color='red', linestyle='--')\n",
    "plt.xlabel(\"Fitted Values\")\n",
    "plt.ylabel(\"Deviance Residuals\")\n",
    "plt.title(\"Residual Plot (GLM)\")\n",
    "plt.show()"
   ]
  },
  {
   "cell_type": "markdown",
   "metadata": {},
   "source": [
    "# Cook's Distance"
   ]
  },
  {
   "cell_type": "code",
   "execution_count": 23,
   "metadata": {},
   "outputs": [
    {
     "data": {
      "image/png": "[encoded data removed]",
      "text/plain": [
       "<Figure size 640x480 with 1 Axes>"
      ]
     },
     "metadata": {},
     "output_type": "display_data"
    }
   ],
   "source": [
    "influence = msm_model.get_influence()\n",
    "cooks_d = influence.cooks_distance[0]\n",
    "\n",
    "plt.stem(cooks_d)\n",
    "plt.title(\"Cook's Distance for GLM\")\n",
    "plt.xlabel(\"Observation\")\n",
    "plt.ylabel(\"Cook's Distance\")\n",
    "plt.show()"
   ]
  },
  {
   "cell_type": "markdown",
   "metadata": {},
   "source": [
    "# Insights"
   ]
  },
  {
   "cell_type": "markdown",
   "metadata": {},
   "source": [
    "────────────────────────────────────────────────────────────────────────\n",
    "\n",
    "# CLUSTER CHARACTERIZATION (GMM RESULTS)\n",
    "────────────────────────────────────────────────────────────────────────\n",
    "\n",
    "- **Three Distinct Clusters:**\n",
    "    - **Cluster 0:** Mean age ~40, x1 ~0.37, x2 ~0.42\n",
    "    - **Cluster 1:** Mean age ~49, x1 ~0.41, x2 ~−0.18\n",
    "    - **Cluster 2:** Mean age ~25, x1 ~0.24, x2 ~0.04\n",
    "\n",
    "- **Covariance Patterns:**\n",
    "    - The covariance matrices differ among clusters, suggesting each subgroup has unique correlations in (x1, x2, and age).\n",
    "    - Cluster 1 shows lower variance in x1 and x2, implying a relatively homogenous subgroup. Cluster 2 exhibits moderate correlations across variables, potentially capturing subpopulations of younger individuals with slightly varying risk profiles.\n",
    "\n",
    "- **Potential Hypothesis:**\n",
    "    - Cluster 1 (older) might represent a more “healthcare-engaged” or stable group, explaining why they remain uncensored longer (see Weight Model).\n",
    "    - Cluster 2 (much younger) could be subjects who either have less severe health issues or different follow-up behavior.\n",
    "    - Cluster 0 (intermediate age) might blend those characteristics.\n",
    "\n",
    "────────────────────────────────────────────────────────────────────────\n",
    "\n",
    "# 2) CENSORING (WEIGHT MODELS)\n",
    "────────────────────────────────────────────────────────────────────────\n",
    "\n",
    "Your weight models (numerator and denominator for Inverse Probability of Censoring Weights) highlight:\n",
    "\n",
    "- **Strong Positive Coefficient for Cluster 1 in Both Models:**\n",
    "    - Cluster 1 individuals have markedly higher odds of not being censored compared to Cluster 0.\n",
    "    - Suggests that even though they are older on average, they may be more consistently monitored or less likely to drop out.\n",
    "\n",
    "- **Non-significant Effect for Cluster 2:**\n",
    "    - Cluster 2’s probability of remaining in the study is similar to the reference population (Cluster 0), indicating no sizable differences in censoring.\n",
    "\n",
    "- **Negative Association Between x2 and “Not Censored”:**\n",
    "    - Higher x2 is consistently linked to higher censoring risk. This might reflect a latent health dimension (e.g., severity of disease or other risk factor) that prompts early dropout or switching.\n",
    "\n",
    "- **Hypothesized Explanation:**\n",
    "    - Possibly, older individuals in Cluster 1 have better access to follow-up or are more health-conscious, leading to fewer censoring events.\n",
    "    - If x2 represents a risk marker, those with high x2 might find the study burdensome or experience adverse events prompting dropout.\n",
    "\n",
    "────────────────────────────────────────────────────────────────────────\n",
    "\n",
    "# 3) OUTCOME MODEL (MSM)\n",
    "────────────────────────────────────────────────────────────────────────\n",
    "\n",
    "- **Treatment Effect:** −1.62 (p<0.001)\n",
    "    - On the log-odds scale, this is highly suggestive of a protective effect. Translating to odds ratios, exp(−1.62) ≈ 0.20, indicating about an 80% reduction in the odds of having the outcome when treated.\n",
    "\n",
    "- **Cluster Main Effects:** Non-significant\n",
    "    - Clusters 1 and 2 do not differ significantly from Cluster 0 in outcome risk once reweighted. Since the IPWs already accounted for differing propensity to be censored, baseline outcome rates end up similar across clusters.\n",
    "\n",
    "- **Time Effects:** followup_time and followup_time²\n",
    "    - Neither linear nor quadratic terms are strongly significant. The slight negative trend in followup_time² suggests outcome odds may flatten or dip over extended follow-up, but this is borderline insignificant.\n",
    "\n",
    "- **Interpretation:**\n",
    "    - Despite substantial differences in who remains uncensored (especially Cluster 1), the ultimate outcome risk (after weighting) is mostly consistent across subgroups.\n",
    "    - The consistently large protective effect of treatment implies that the intervention is beneficial for all subgroups, or at least does not vary enough by cluster to show significance.\n",
    "\n",
    "────────────────────────────────────────────────────────────────────────\n",
    "\n",
    "# 4) POTENTIAL HYPOTHESES AND EXPLANATIONS\n",
    "────────────────────────────────────────────────────────────────────────\n",
    "\n",
    "- **Cluster 1 Paradox:**\n",
    "    - Why would older individuals be less censored? Could reflect disease monitoring programs that specifically target older populations, or they might have routine visits that reduce dropout.\n",
    "\n",
    "- **High x2 and Censoring:**\n",
    "    - If x2 is a proxy for disease severity, individuals with worse prognoses might switch treatments or leave the study at higher rates. Alternatively, x2 might correlate with socioeconomic factors restricting their ongoing participation.\n",
    "\n",
    "- **Invariance in Outcome Risk by Cluster:**\n",
    "    - One possibility is that baseline risk factors for the outcome (e.g., x1, x2, age) are overshadowed by the strong effect of the treatment once reweighting is applied. If each cluster includes both “healthier” and “sicker” individuals but with similar overall event patterns, net differences in outcome risk by cluster might be washed out.\n",
    "\n",
    "────────────────────────────────────────────────────────────────────────\n",
    "\n",
    "# 5) RECOMMENDATIONS AND NEXT STEPS\n",
    "────────────────────────────────────────────────────────────────────────\n",
    "\n",
    "- **Add Interaction Terms:**\n",
    "    - Investigate treatment × cluster to see if the treatment effect is actually uniform across subgroups or if the insignificance is due to limited power.\n",
    "\n",
    "- **Stratified Visualizations:**\n",
    "    - Plot survival curves for each cluster separately (already partially done) but further subdivided by relevant covariates (e.g., x2 above/below median). This can reveal fine-grained patterns.\n",
    "\n",
    "- **Refine the Expansion Logic:**\n",
    "    - If some individuals are censored early, the code might generate “followup_time” = 0..period for all subjects. Consider stopping expansions at the time of censoring or at the outcome event to better reflect the at-risk intervals.\n",
    "\n",
    "- **Check for Extreme Weights:**\n",
    "    - Summaries of IPWs (e.g., min, max, 99th percentile) can reveal if certain observations are heavily weighted. If so, consider trimming or stabilizing.\n",
    "\n",
    "- **Explore Additional Covariates or Time-Varying Variables:**\n",
    "    - If x1, x2, age aren’t accounting for all relevant differences, the negative relationship between x2 and not_censored might mask more nuanced relationships (Robins et al., 2000).\n",
    "\n",
    "- **Investigate Cook’s Distance Outliers:**\n",
    "    - The final MSM might rely heavily on a few outliers. Detailed case-by-case checks are worthwhile to confirm data validity or discover relevant interactions.\n",
    "\n",
    "- **Sensitivity Analyses:**\n",
    "    - Bootstrapping the entire pipeline can validate the stability of the cluster assignments, IPWs, and final treatment effect estimates.\n",
    "    - Comparing GMM results with alternative cluster numbers (e.g., 2 or 4) might capture more or fewer subpopulations.\n",
    "\n",
    "────────────────────────────────────────────────────────────────────────\n",
    "\n",
    "# 6) SUMMARY OF KEY FINDINGS\n",
    "────────────────────────────────────────────────────────────────────────\n",
    "\n",
    "- Clusters differ significantly in censoring probability, but not in raw outcome risk once reweighted.\n",
    "- Treatment is robustly protective across all subgroups.\n",
    "- Age and x1 differ among the clusters, but this variation does not yield a major difference in final outcomes—likely because the IPW approach ensures balanced representation of all subgroups.\n",
    "- The strong negative coefficient on x2 in the censoring models calls attention to a possible mechanism or confounder that might be explored further (e.g., is x2 capturing socioeconomic or disease severity factors that drive dropouts?).\n",
    "\n",
    "────────────────────────────────────────────────────────────────────────\n",
    "\n",
    "# 7) HIGH-LEVEL CONCLUSION\n",
    "────────────────────────────────────────────────────────────────────────\n",
    "\n",
    "Incorporating GMM-based clustering into the TTE framework allowed you to capture more nuanced, potentially overlapping subpopulations. This approach successfully revealed a subgroup (Cluster 1) with notably lower censoring rates, yet the outcome analysis (MSM) suggests a consistent protective effect of treatment across all clusters. The lack of significant cluster effects on outcome risk (once reweighted) indicates that differences in baseline risk may not be as pronounced as differences in censoring behavior. Nevertheless, ongoing exploration of interactions and further refinement of time-varying expansions or additional predictors could provide a richer understanding of subgroup-specific causal effects and highlight any pockets of heterogeneity in real-world observational data.\n",
    "\n",
    "────────────────────────────────────────────────────────────────────────\n",
    "\n",
    "# REFERENCES\n",
    "────────────────────────────────────────────────────────────────────────\n",
    "\n",
    "- Hastie, T., Tibshirani, R., & Friedman, J. (2009). *The Elements of Statistical Learning*. Springer.\n",
    "- Hernán, M. A., & Robins, J. M. (2016). Using big data to emulate a target trial when a randomized trial is not available. *American Journal of Epidemiology*, 183(8), 758–764.\n",
    "- McCullagh, P., & Nelder, J. A. (1989). *Generalized Linear Models* (2nd ed.). Chapman & Hall/CRC.\n",
    "- McLachlan, G., & Peel, D. (2000). *Finite Mixture Models*. Wiley.\n",
    "- Robins, J. M., Hernán, M. A., & Brumback, B. (2000). Marginal structural models and causal inference in epidemiology. *Epidemiology*, 11(5), 550–560.\n",
    "\n",
    "\n",
    "────────────────────────────────────────────────────────────────────────\n"
   ]
  }
 ],
 "metadata": {
  "kernelspec": {
   "display_name": "Python 3",
   "language": "python",
   "name": "python3"
  },
  "language_info": {
   "codemirror_mode": {
    "name": "ipython",
    "version": 3
   },
   "file_extension": ".py",
   "mimetype": "text/x-python",
   "name": "python",
   "nbconvert_exporter": "python",
   "pygments_lexer": "ipython3",
   "version": "3.12.3"
  }
 },
 "nbformat": 4,
 "nbformat_minor": 2
}
