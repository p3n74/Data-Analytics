{
 "cells": [
  {
   "cell_type": "markdown",
   "id": "1304ac53",
   "metadata": {},
   "source": [
    "## Implementation Overview\n",
    "\n",
    "### This implementation includes:\n",
    "\n",
    "- **Core functionality** for trial sequence handling  \n",
    "- **Weight calculation** and model fitting  \n",
    "- **Trial expansion**  \n",
    "- **Outcome modeling**  \n",
    "\n",
    "### Multiple visualization options:\n",
    "- Traditional **survival curves** with confidence intervals   \n",
    "- **Weight distribution** plots  \n",
    "- **Interactive survival curves** using Plotly  \n",
    "- **Model diagnostics** plots:  \n",
    "  - Q-Q plots  \n",
    "  - Residual plots  \n",
    "  - Cook's distance plots  \n"
   ]
  },
  {
   "cell_type": "markdown",
   "id": "57ff0874",
   "metadata": {},
   "source": [
    "# Imports & Data Loading"
   ]
  },
  {
   "cell_type": "code",
   "execution_count": 19,
   "id": "aa7ebaea",
   "metadata": {},
   "outputs": [
    {
     "name": "stdout",
     "output_type": "stream",
     "text": [
      "Data loaded. Shape: (725, 12)\n"
     ]
    },
    {
     "data": {
      "text/html": [
       "<div>\n",
       "<style scoped>\n",
       "    .dataframe tbody tr th:only-of-type {\n",
       "        vertical-align: middle;\n",
       "    }\n",
       "\n",
       "    .dataframe tbody tr th {\n",
       "        vertical-align: top;\n",
       "    }\n",
       "\n",
       "    .dataframe thead th {\n",
       "        text-align: right;\n",
       "    }\n",
       "</style>\n",
       "<table border=\"1\" class=\"dataframe\">\n",
       "  <thead>\n",
       "    <tr style=\"text-align: right;\">\n",
       "      <th></th>\n",
       "      <th>id</th>\n",
       "      <th>period</th>\n",
       "      <th>treatment</th>\n",
       "      <th>x1</th>\n",
       "      <th>x2</th>\n",
       "      <th>x3</th>\n",
       "      <th>x4</th>\n",
       "      <th>age</th>\n",
       "      <th>age_s</th>\n",
       "      <th>outcome</th>\n",
       "      <th>censored</th>\n",
       "      <th>eligible</th>\n",
       "    </tr>\n",
       "  </thead>\n",
       "  <tbody>\n",
       "    <tr>\n",
       "      <th>0</th>\n",
       "      <td>1</td>\n",
       "      <td>0</td>\n",
       "      <td>1</td>\n",
       "      <td>1</td>\n",
       "      <td>1.146148</td>\n",
       "      <td>0</td>\n",
       "      <td>0.734203</td>\n",
       "      <td>36</td>\n",
       "      <td>0.083333</td>\n",
       "      <td>0</td>\n",
       "      <td>0</td>\n",
       "      <td>1</td>\n",
       "    </tr>\n",
       "    <tr>\n",
       "      <th>1</th>\n",
       "      <td>1</td>\n",
       "      <td>1</td>\n",
       "      <td>1</td>\n",
       "      <td>1</td>\n",
       "      <td>0.002200</td>\n",
       "      <td>0</td>\n",
       "      <td>0.734203</td>\n",
       "      <td>37</td>\n",
       "      <td>0.166667</td>\n",
       "      <td>0</td>\n",
       "      <td>0</td>\n",
       "      <td>0</td>\n",
       "    </tr>\n",
       "    <tr>\n",
       "      <th>2</th>\n",
       "      <td>1</td>\n",
       "      <td>2</td>\n",
       "      <td>1</td>\n",
       "      <td>0</td>\n",
       "      <td>-0.481762</td>\n",
       "      <td>0</td>\n",
       "      <td>0.734203</td>\n",
       "      <td>38</td>\n",
       "      <td>0.250000</td>\n",
       "      <td>0</td>\n",
       "      <td>0</td>\n",
       "      <td>0</td>\n",
       "    </tr>\n",
       "    <tr>\n",
       "      <th>3</th>\n",
       "      <td>1</td>\n",
       "      <td>3</td>\n",
       "      <td>1</td>\n",
       "      <td>0</td>\n",
       "      <td>0.007872</td>\n",
       "      <td>0</td>\n",
       "      <td>0.734203</td>\n",
       "      <td>39</td>\n",
       "      <td>0.333333</td>\n",
       "      <td>0</td>\n",
       "      <td>0</td>\n",
       "      <td>0</td>\n",
       "    </tr>\n",
       "    <tr>\n",
       "      <th>4</th>\n",
       "      <td>1</td>\n",
       "      <td>4</td>\n",
       "      <td>1</td>\n",
       "      <td>1</td>\n",
       "      <td>0.216054</td>\n",
       "      <td>0</td>\n",
       "      <td>0.734203</td>\n",
       "      <td>40</td>\n",
       "      <td>0.416667</td>\n",
       "      <td>0</td>\n",
       "      <td>0</td>\n",
       "      <td>0</td>\n",
       "    </tr>\n",
       "  </tbody>\n",
       "</table>\n",
       "</div>"
      ],
      "text/plain": [
       "   id  period  treatment  x1        x2  x3        x4  age     age_s  outcome  \\\n",
       "0   1       0          1   1  1.146148   0  0.734203   36  0.083333        0   \n",
       "1   1       1          1   1  0.002200   0  0.734203   37  0.166667        0   \n",
       "2   1       2          1   0 -0.481762   0  0.734203   38  0.250000        0   \n",
       "3   1       3          1   0  0.007872   0  0.734203   39  0.333333        0   \n",
       "4   1       4          1   1  0.216054   0  0.734203   40  0.416667        0   \n",
       "\n",
       "   censored  eligible  \n",
       "0         0         1  \n",
       "1         0         0  \n",
       "2         0         0  \n",
       "3         0         0  \n",
       "4         0         0  "
      ]
     },
     "execution_count": 19,
     "metadata": {},
     "output_type": "execute_result"
    }
   ],
   "source": [
    "# Core libraries\n",
    "import numpy as np\n",
    "import pandas as pd\n",
    "\n",
    "# Modeling and statistics\n",
    "import statsmodels.api as sm\n",
    "import statsmodels.formula.api as smf\n",
    "from statsmodels.genmod.families import Binomial\n",
    "\n",
    "# Visualizations\n",
    "import matplotlib.pyplot as plt\n",
    "import seaborn as sns\n",
    "\n",
    "# Interactive plots\n",
    "import plotly.express as px\n",
    "import plotly.graph_objs as go\n",
    "\n",
    "# For Q-Q plots, Cook's distance\n",
    "from statsmodels.stats.outliers_influence import OLSInfluence\n",
    "\n",
    "#  Read your data\n",
    "data = pd.read_csv(\"../data/data_censored.csv\")\n",
    "print(\"Data loaded. Shape:\", data.shape)\n",
    "data.head()"
   ]
  },
  {
   "cell_type": "markdown",
   "id": "6c447d5a",
   "metadata": {},
   "source": [
    "# Core Functionality - Trial Sequence Handling & Basic Setup\n",
    "\n",
    "We define a minimal \"trial sequence\" object approach, though in practice you might\n",
    "have a specialized class or multiple functions for it."
   ]
  },
  {
   "cell_type": "code",
   "execution_count": 20,
   "id": "fb0ca880",
   "metadata": {},
   "outputs": [
    {
     "name": "stdout",
     "output_type": "stream",
     "text": [
      "               id      period   treatment          x1          x2          x3  \\\n",
      "count  725.000000  725.000000  725.000000  725.000000  725.000000  725.000000   \n",
      "mean    49.278621    7.051034    0.467586    0.405517   -0.173552    0.486897   \n",
      "std     28.119313    5.802351    0.499293    0.491331    0.997552    0.500173   \n",
      "min      1.000000    0.000000    0.000000    0.000000   -3.284355    0.000000   \n",
      "25%     23.000000    2.000000    0.000000    0.000000   -0.809344    0.000000   \n",
      "50%     50.000000    6.000000    0.000000    0.000000   -0.163060    0.000000   \n",
      "75%     73.000000   12.000000    1.000000    1.000000    0.494103    1.000000   \n",
      "max     99.000000   19.000000    1.000000    1.000000    3.907648    1.000000   \n",
      "\n",
      "               x4         age       age_s     outcome   censored    eligible  \n",
      "count  725.000000  725.000000  725.000000  725.000000  725.00000  725.000000  \n",
      "mean    -0.274722   48.093793    1.091149    0.015172    0.08000    0.234483  \n",
      "std      1.008643   11.834472    0.986206    0.122323    0.27148    0.423968  \n",
      "min     -3.003087   19.000000   -1.333333    0.000000    0.00000    0.000000  \n",
      "25%     -0.861899   40.000000    0.416667    0.000000    0.00000    0.000000  \n",
      "50%     -0.316594   49.000000    1.166667    0.000000    0.00000    0.000000  \n",
      "75%      0.299510   56.000000    1.750000    0.000000    0.00000    0.000000  \n",
      "max      2.048087   78.000000    3.583333    1.000000    1.00000    1.000000  \n",
      "Number of unique patients: 89\n"
     ]
    }
   ],
   "source": [
    "# For demonstration, store in a dictionary\n",
    "trial_settings = {\n",
    "'estimand': 'ITT', # or 'PP'\n",
    "'id_col': 'id',\n",
    "'period_col': 'period',\n",
    "'treatment_col': 'treatment',\n",
    "'outcome_col': 'outcome',\n",
    "'eligible_col': 'eligible',\n",
    "'censored_col': 'censored'\n",
    "}\n",
    "\n",
    "# Show summary stats\n",
    "print(data.describe(include='all'))\n",
    "\n",
    "# Basic data checks\n",
    "n_patients = data[trial_settings['id_col']].nunique()\n",
    "print(f\"Number of unique patients: {n_patients}\")"
   ]
  },
  {
   "cell_type": "markdown",
   "id": "a7c9ae97",
   "metadata": {},
   "source": [
    "# Weight Calculation & Model Fitting\n",
    "\n",
    "### Inverse Probability of Censoring Weights (IPCW)\n",
    "### This is a simplified example:\n",
    "### We'll define 'not_censored' = 1 - censored"
   ]
  },
  {
   "cell_type": "code",
   "execution_count": 21,
   "id": "ca77041b",
   "metadata": {},
   "outputs": [],
   "source": [
    "data['not_censored'] = 1 - data[trial_settings['censored_col']]"
   ]
  },
  {
   "cell_type": "markdown",
   "id": "99c984f5",
   "metadata": {},
   "source": [
    "Example:\n",
    "\n",
    "Numerator model: not_censored ~ x2 (a smaller set of covariates)\n",
    "\n",
    "Denominator model: not_censored ~ x2 + x1 (a larger set of covariates)"
   ]
  },
  {
   "cell_type": "code",
   "execution_count": 22,
   "id": "0b49d014",
   "metadata": {},
   "outputs": [
    {
     "name": "stdout",
     "output_type": "stream",
     "text": [
      "IPCW models fitted. Head of data:\n"
     ]
    },
    {
     "data": {
      "text/html": [
       "<div>\n",
       "<style scoped>\n",
       "    .dataframe tbody tr th:only-of-type {\n",
       "        vertical-align: middle;\n",
       "    }\n",
       "\n",
       "    .dataframe tbody tr th {\n",
       "        vertical-align: top;\n",
       "    }\n",
       "\n",
       "    .dataframe thead th {\n",
       "        text-align: right;\n",
       "    }\n",
       "</style>\n",
       "<table border=\"1\" class=\"dataframe\">\n",
       "  <thead>\n",
       "    <tr style=\"text-align: right;\">\n",
       "      <th></th>\n",
       "      <th>id</th>\n",
       "      <th>period</th>\n",
       "      <th>treatment</th>\n",
       "      <th>x1</th>\n",
       "      <th>x2</th>\n",
       "      <th>x3</th>\n",
       "      <th>x4</th>\n",
       "      <th>age</th>\n",
       "      <th>age_s</th>\n",
       "      <th>outcome</th>\n",
       "      <th>censored</th>\n",
       "      <th>eligible</th>\n",
       "      <th>not_censored</th>\n",
       "      <th>p_num</th>\n",
       "      <th>p_den</th>\n",
       "      <th>ipw</th>\n",
       "    </tr>\n",
       "  </thead>\n",
       "  <tbody>\n",
       "    <tr>\n",
       "      <th>0</th>\n",
       "      <td>1</td>\n",
       "      <td>0</td>\n",
       "      <td>1</td>\n",
       "      <td>1</td>\n",
       "      <td>1.146148</td>\n",
       "      <td>0</td>\n",
       "      <td>0.734203</td>\n",
       "      <td>36</td>\n",
       "      <td>0.083333</td>\n",
       "      <td>0</td>\n",
       "      <td>0</td>\n",
       "      <td>1</td>\n",
       "      <td>1</td>\n",
       "      <td>0.873678</td>\n",
       "      <td>0.914385</td>\n",
       "      <td>0.955481</td>\n",
       "    </tr>\n",
       "    <tr>\n",
       "      <th>1</th>\n",
       "      <td>1</td>\n",
       "      <td>1</td>\n",
       "      <td>1</td>\n",
       "      <td>1</td>\n",
       "      <td>0.002200</td>\n",
       "      <td>0</td>\n",
       "      <td>0.734203</td>\n",
       "      <td>37</td>\n",
       "      <td>0.166667</td>\n",
       "      <td>0</td>\n",
       "      <td>0</td>\n",
       "      <td>0</td>\n",
       "      <td>1</td>\n",
       "      <td>0.920349</td>\n",
       "      <td>0.948181</td>\n",
       "      <td>0.970647</td>\n",
       "    </tr>\n",
       "    <tr>\n",
       "      <th>2</th>\n",
       "      <td>1</td>\n",
       "      <td>2</td>\n",
       "      <td>1</td>\n",
       "      <td>0</td>\n",
       "      <td>-0.481762</td>\n",
       "      <td>0</td>\n",
       "      <td>0.734203</td>\n",
       "      <td>38</td>\n",
       "      <td>0.250000</td>\n",
       "      <td>0</td>\n",
       "      <td>0</td>\n",
       "      <td>0</td>\n",
       "      <td>1</td>\n",
       "      <td>0.934883</td>\n",
       "      <td>0.919281</td>\n",
       "      <td>1.016972</td>\n",
       "    </tr>\n",
       "    <tr>\n",
       "      <th>3</th>\n",
       "      <td>1</td>\n",
       "      <td>3</td>\n",
       "      <td>1</td>\n",
       "      <td>0</td>\n",
       "      <td>0.007872</td>\n",
       "      <td>0</td>\n",
       "      <td>0.734203</td>\n",
       "      <td>39</td>\n",
       "      <td>0.333333</td>\n",
       "      <td>0</td>\n",
       "      <td>0</td>\n",
       "      <td>0</td>\n",
       "      <td>1</td>\n",
       "      <td>0.920163</td>\n",
       "      <td>0.900444</td>\n",
       "      <td>1.021899</td>\n",
       "    </tr>\n",
       "    <tr>\n",
       "      <th>4</th>\n",
       "      <td>1</td>\n",
       "      <td>4</td>\n",
       "      <td>1</td>\n",
       "      <td>1</td>\n",
       "      <td>0.216054</td>\n",
       "      <td>0</td>\n",
       "      <td>0.734203</td>\n",
       "      <td>40</td>\n",
       "      <td>0.416667</td>\n",
       "      <td>0</td>\n",
       "      <td>0</td>\n",
       "      <td>0</td>\n",
       "      <td>1</td>\n",
       "      <td>0.913026</td>\n",
       "      <td>0.943007</td>\n",
       "      <td>0.968208</td>\n",
       "    </tr>\n",
       "  </tbody>\n",
       "</table>\n",
       "</div>"
      ],
      "text/plain": [
       "   id  period  treatment  x1        x2  x3        x4  age     age_s  outcome  \\\n",
       "0   1       0          1   1  1.146148   0  0.734203   36  0.083333        0   \n",
       "1   1       1          1   1  0.002200   0  0.734203   37  0.166667        0   \n",
       "2   1       2          1   0 -0.481762   0  0.734203   38  0.250000        0   \n",
       "3   1       3          1   0  0.007872   0  0.734203   39  0.333333        0   \n",
       "4   1       4          1   1  0.216054   0  0.734203   40  0.416667        0   \n",
       "\n",
       "   censored  eligible  not_censored     p_num     p_den       ipw  \n",
       "0         0         1             1  0.873678  0.914385  0.955481  \n",
       "1         0         0             1  0.920349  0.948181  0.970647  \n",
       "2         0         0             1  0.934883  0.919281  1.016972  \n",
       "3         0         0             1  0.920163  0.900444  1.021899  \n",
       "4         0         0             1  0.913026  0.943007  0.968208  "
      ]
     },
     "execution_count": 22,
     "metadata": {},
     "output_type": "execute_result"
    }
   ],
   "source": [
    "formula_num = \"not_censored ~ x2\"\n",
    "formula_den = \"not_censored ~ x2 + x1\"\n",
    "\n",
    "model_num = smf.glm(formula=formula_num, data=data, family=Binomial()).fit()\n",
    "model_den = smf.glm(formula=formula_den, data=data, family=Binomial()).fit()\n",
    "\n",
    "# Predicted probabilities\n",
    "\n",
    "data['p_num'] = model_num.predict(data)\n",
    "data['p_den'] = model_den.predict(data)\n",
    "\n",
    "# Stabilized weight\n",
    "data['ipw'] = data['p_num'] / data['p_den']\n",
    "\n",
    "print(\"IPCW models fitted. Head of data:\")\n",
    "data.head()"
   ]
  },
  {
   "cell_type": "markdown",
   "id": "e8b09525",
   "metadata": {},
   "source": [
    "# Trial Expansion\n",
    "\n",
    "We create a function to \"expand\" data by trial periods\n",
    "\n",
    "The idea is to produce (id, trial_period, followup_time, etc.) rows.\n",
    "\n",
    "For demonstration, we’ll do something simple: replicate each row for\n",
    "\n",
    "each possible follow-up time from 0 up to the row’s current period"
   ]
  },
  {
   "cell_type": "code",
   "execution_count": 23,
   "id": "6e41fd7d",
   "metadata": {},
   "outputs": [
    {
     "name": "stdout",
     "output_type": "stream",
     "text": [
      "Original data shape: (725, 16)\n",
      "Expanded data shape: (5837, 17)\n"
     ]
    },
    {
     "data": {
      "text/html": [
       "<div>\n",
       "<style scoped>\n",
       "    .dataframe tbody tr th:only-of-type {\n",
       "        vertical-align: middle;\n",
       "    }\n",
       "\n",
       "    .dataframe tbody tr th {\n",
       "        vertical-align: top;\n",
       "    }\n",
       "\n",
       "    .dataframe thead th {\n",
       "        text-align: right;\n",
       "    }\n",
       "</style>\n",
       "<table border=\"1\" class=\"dataframe\">\n",
       "  <thead>\n",
       "    <tr style=\"text-align: right;\">\n",
       "      <th></th>\n",
       "      <th>id</th>\n",
       "      <th>period</th>\n",
       "      <th>treatment</th>\n",
       "      <th>x1</th>\n",
       "      <th>x2</th>\n",
       "      <th>x3</th>\n",
       "      <th>x4</th>\n",
       "      <th>age</th>\n",
       "      <th>age_s</th>\n",
       "      <th>outcome</th>\n",
       "      <th>censored</th>\n",
       "      <th>eligible</th>\n",
       "      <th>not_censored</th>\n",
       "      <th>p_num</th>\n",
       "      <th>p_den</th>\n",
       "      <th>ipw</th>\n",
       "      <th>followup_time</th>\n",
       "    </tr>\n",
       "  </thead>\n",
       "  <tbody>\n",
       "    <tr>\n",
       "      <th>0</th>\n",
       "      <td>1.0</td>\n",
       "      <td>0.0</td>\n",
       "      <td>1.0</td>\n",
       "      <td>1.0</td>\n",
       "      <td>1.146148</td>\n",
       "      <td>0.0</td>\n",
       "      <td>0.734203</td>\n",
       "      <td>36.0</td>\n",
       "      <td>0.083333</td>\n",
       "      <td>0.0</td>\n",
       "      <td>0.0</td>\n",
       "      <td>1.0</td>\n",
       "      <td>1.0</td>\n",
       "      <td>0.873678</td>\n",
       "      <td>0.914385</td>\n",
       "      <td>0.955481</td>\n",
       "      <td>0.0</td>\n",
       "    </tr>\n",
       "    <tr>\n",
       "      <th>1</th>\n",
       "      <td>1.0</td>\n",
       "      <td>1.0</td>\n",
       "      <td>1.0</td>\n",
       "      <td>1.0</td>\n",
       "      <td>0.002200</td>\n",
       "      <td>0.0</td>\n",
       "      <td>0.734203</td>\n",
       "      <td>37.0</td>\n",
       "      <td>0.166667</td>\n",
       "      <td>0.0</td>\n",
       "      <td>0.0</td>\n",
       "      <td>0.0</td>\n",
       "      <td>1.0</td>\n",
       "      <td>0.920349</td>\n",
       "      <td>0.948181</td>\n",
       "      <td>0.970647</td>\n",
       "      <td>0.0</td>\n",
       "    </tr>\n",
       "    <tr>\n",
       "      <th>2</th>\n",
       "      <td>1.0</td>\n",
       "      <td>1.0</td>\n",
       "      <td>1.0</td>\n",
       "      <td>1.0</td>\n",
       "      <td>0.002200</td>\n",
       "      <td>0.0</td>\n",
       "      <td>0.734203</td>\n",
       "      <td>37.0</td>\n",
       "      <td>0.166667</td>\n",
       "      <td>0.0</td>\n",
       "      <td>0.0</td>\n",
       "      <td>0.0</td>\n",
       "      <td>1.0</td>\n",
       "      <td>0.920349</td>\n",
       "      <td>0.948181</td>\n",
       "      <td>0.970647</td>\n",
       "      <td>1.0</td>\n",
       "    </tr>\n",
       "    <tr>\n",
       "      <th>3</th>\n",
       "      <td>1.0</td>\n",
       "      <td>2.0</td>\n",
       "      <td>1.0</td>\n",
       "      <td>0.0</td>\n",
       "      <td>-0.481762</td>\n",
       "      <td>0.0</td>\n",
       "      <td>0.734203</td>\n",
       "      <td>38.0</td>\n",
       "      <td>0.250000</td>\n",
       "      <td>0.0</td>\n",
       "      <td>0.0</td>\n",
       "      <td>0.0</td>\n",
       "      <td>1.0</td>\n",
       "      <td>0.934883</td>\n",
       "      <td>0.919281</td>\n",
       "      <td>1.016972</td>\n",
       "      <td>0.0</td>\n",
       "    </tr>\n",
       "    <tr>\n",
       "      <th>4</th>\n",
       "      <td>1.0</td>\n",
       "      <td>2.0</td>\n",
       "      <td>1.0</td>\n",
       "      <td>0.0</td>\n",
       "      <td>-0.481762</td>\n",
       "      <td>0.0</td>\n",
       "      <td>0.734203</td>\n",
       "      <td>38.0</td>\n",
       "      <td>0.250000</td>\n",
       "      <td>0.0</td>\n",
       "      <td>0.0</td>\n",
       "      <td>0.0</td>\n",
       "      <td>1.0</td>\n",
       "      <td>0.934883</td>\n",
       "      <td>0.919281</td>\n",
       "      <td>1.016972</td>\n",
       "      <td>1.0</td>\n",
       "    </tr>\n",
       "    <tr>\n",
       "      <th>5</th>\n",
       "      <td>1.0</td>\n",
       "      <td>2.0</td>\n",
       "      <td>1.0</td>\n",
       "      <td>0.0</td>\n",
       "      <td>-0.481762</td>\n",
       "      <td>0.0</td>\n",
       "      <td>0.734203</td>\n",
       "      <td>38.0</td>\n",
       "      <td>0.250000</td>\n",
       "      <td>0.0</td>\n",
       "      <td>0.0</td>\n",
       "      <td>0.0</td>\n",
       "      <td>1.0</td>\n",
       "      <td>0.934883</td>\n",
       "      <td>0.919281</td>\n",
       "      <td>1.016972</td>\n",
       "      <td>2.0</td>\n",
       "    </tr>\n",
       "    <tr>\n",
       "      <th>6</th>\n",
       "      <td>1.0</td>\n",
       "      <td>3.0</td>\n",
       "      <td>1.0</td>\n",
       "      <td>0.0</td>\n",
       "      <td>0.007872</td>\n",
       "      <td>0.0</td>\n",
       "      <td>0.734203</td>\n",
       "      <td>39.0</td>\n",
       "      <td>0.333333</td>\n",
       "      <td>0.0</td>\n",
       "      <td>0.0</td>\n",
       "      <td>0.0</td>\n",
       "      <td>1.0</td>\n",
       "      <td>0.920163</td>\n",
       "      <td>0.900444</td>\n",
       "      <td>1.021899</td>\n",
       "      <td>0.0</td>\n",
       "    </tr>\n",
       "    <tr>\n",
       "      <th>7</th>\n",
       "      <td>1.0</td>\n",
       "      <td>3.0</td>\n",
       "      <td>1.0</td>\n",
       "      <td>0.0</td>\n",
       "      <td>0.007872</td>\n",
       "      <td>0.0</td>\n",
       "      <td>0.734203</td>\n",
       "      <td>39.0</td>\n",
       "      <td>0.333333</td>\n",
       "      <td>0.0</td>\n",
       "      <td>0.0</td>\n",
       "      <td>0.0</td>\n",
       "      <td>1.0</td>\n",
       "      <td>0.920163</td>\n",
       "      <td>0.900444</td>\n",
       "      <td>1.021899</td>\n",
       "      <td>1.0</td>\n",
       "    </tr>\n",
       "    <tr>\n",
       "      <th>8</th>\n",
       "      <td>1.0</td>\n",
       "      <td>3.0</td>\n",
       "      <td>1.0</td>\n",
       "      <td>0.0</td>\n",
       "      <td>0.007872</td>\n",
       "      <td>0.0</td>\n",
       "      <td>0.734203</td>\n",
       "      <td>39.0</td>\n",
       "      <td>0.333333</td>\n",
       "      <td>0.0</td>\n",
       "      <td>0.0</td>\n",
       "      <td>0.0</td>\n",
       "      <td>1.0</td>\n",
       "      <td>0.920163</td>\n",
       "      <td>0.900444</td>\n",
       "      <td>1.021899</td>\n",
       "      <td>2.0</td>\n",
       "    </tr>\n",
       "    <tr>\n",
       "      <th>9</th>\n",
       "      <td>1.0</td>\n",
       "      <td>3.0</td>\n",
       "      <td>1.0</td>\n",
       "      <td>0.0</td>\n",
       "      <td>0.007872</td>\n",
       "      <td>0.0</td>\n",
       "      <td>0.734203</td>\n",
       "      <td>39.0</td>\n",
       "      <td>0.333333</td>\n",
       "      <td>0.0</td>\n",
       "      <td>0.0</td>\n",
       "      <td>0.0</td>\n",
       "      <td>1.0</td>\n",
       "      <td>0.920163</td>\n",
       "      <td>0.900444</td>\n",
       "      <td>1.021899</td>\n",
       "      <td>3.0</td>\n",
       "    </tr>\n",
       "  </tbody>\n",
       "</table>\n",
       "</div>"
      ],
      "text/plain": [
       "    id  period  treatment   x1        x2   x3        x4   age     age_s  \\\n",
       "0  1.0     0.0        1.0  1.0  1.146148  0.0  0.734203  36.0  0.083333   \n",
       "1  1.0     1.0        1.0  1.0  0.002200  0.0  0.734203  37.0  0.166667   \n",
       "2  1.0     1.0        1.0  1.0  0.002200  0.0  0.734203  37.0  0.166667   \n",
       "3  1.0     2.0        1.0  0.0 -0.481762  0.0  0.734203  38.0  0.250000   \n",
       "4  1.0     2.0        1.0  0.0 -0.481762  0.0  0.734203  38.0  0.250000   \n",
       "5  1.0     2.0        1.0  0.0 -0.481762  0.0  0.734203  38.0  0.250000   \n",
       "6  1.0     3.0        1.0  0.0  0.007872  0.0  0.734203  39.0  0.333333   \n",
       "7  1.0     3.0        1.0  0.0  0.007872  0.0  0.734203  39.0  0.333333   \n",
       "8  1.0     3.0        1.0  0.0  0.007872  0.0  0.734203  39.0  0.333333   \n",
       "9  1.0     3.0        1.0  0.0  0.007872  0.0  0.734203  39.0  0.333333   \n",
       "\n",
       "   outcome  censored  eligible  not_censored     p_num     p_den       ipw  \\\n",
       "0      0.0       0.0       1.0           1.0  0.873678  0.914385  0.955481   \n",
       "1      0.0       0.0       0.0           1.0  0.920349  0.948181  0.970647   \n",
       "2      0.0       0.0       0.0           1.0  0.920349  0.948181  0.970647   \n",
       "3      0.0       0.0       0.0           1.0  0.934883  0.919281  1.016972   \n",
       "4      0.0       0.0       0.0           1.0  0.934883  0.919281  1.016972   \n",
       "5      0.0       0.0       0.0           1.0  0.934883  0.919281  1.016972   \n",
       "6      0.0       0.0       0.0           1.0  0.920163  0.900444  1.021899   \n",
       "7      0.0       0.0       0.0           1.0  0.920163  0.900444  1.021899   \n",
       "8      0.0       0.0       0.0           1.0  0.920163  0.900444  1.021899   \n",
       "9      0.0       0.0       0.0           1.0  0.920163  0.900444  1.021899   \n",
       "\n",
       "   followup_time  \n",
       "0            0.0  \n",
       "1            0.0  \n",
       "2            1.0  \n",
       "3            0.0  \n",
       "4            1.0  \n",
       "5            2.0  \n",
       "6            0.0  \n",
       "7            1.0  \n",
       "8            2.0  \n",
       "9            3.0  "
      ]
     },
     "execution_count": 23,
     "metadata": {},
     "output_type": "execute_result"
    }
   ],
   "source": [
    "def expand_trials(input_df, id_col='id', period_col='period'):\n",
    "    expanded_rows = []\n",
    "    for pid, subdf in input_df.groupby(id_col):\n",
    "        for row_i, row_data in subdf.iterrows():\n",
    "            max_period = row_data[period_col]\n",
    "            # We'll just store the same row, but with followup_time iterating\n",
    "            for t in range(int(max_period)+1):\n",
    "                new_row = row_data.copy()\n",
    "                new_row['followup_time'] = t\n",
    "                expanded_rows.append(new_row)\n",
    "                expanded_df = pd.DataFrame(expanded_rows).reset_index(drop=True)\n",
    "    return expanded_df\n",
    "\n",
    "expanded_data = expand_trials(data,\n",
    "id_col=trial_settings['id_col'],\n",
    "period_col=trial_settings['period_col'])\n",
    "\n",
    "print(\"Original data shape:\", data.shape)\n",
    "print(\"Expanded data shape:\", expanded_data.shape)\n",
    "\n",
    "# Inspect\n",
    "expanded_data.head(10)"
   ]
  },
  {
   "cell_type": "markdown",
   "id": "62de632a",
   "metadata": {},
   "source": [
    "# Outcome Modeling (Marginal Structural Model)\n",
    "\n",
    "A typical MSM might be outcome ~ assigned_treatment + time + ...\n",
    "\n",
    "We'll treat \"treatment\" as the assigned treatment for that period.\n",
    "\n",
    "We'll do a weighted logistic regression using the IPW as freq_weights (or var_weights).\n",
    "\n",
    "Note: For demonstration, we won't do sophisticated “censor at switch” logic here.\n",
    "\n",
    "# Simple model formula\n",
    "\n",
    "msm_formula = \"outcome ~ treatment + followup_time + I(followup_time**2)\"\n",
    "\n",
    "Merge in our IPWs from the non-expanded dataset (some logic needed if multiple rows).\n",
    "\n",
    "Simplify: each row in expanded_data gets the same IPW as original row_i for that patient & period."
   ]
  },
  {
   "cell_type": "code",
   "execution_count": 24,
   "id": "1fe187b6",
   "metadata": {},
   "outputs": [
    {
     "name": "stdout",
     "output_type": "stream",
     "text": [
      "MSM Model Summary:\n",
      "                 Generalized Linear Model Regression Results                  \n",
      "==============================================================================\n",
      "Dep. Variable:                outcome   No. Observations:                 5837\n",
      "Model:                            GLM   Df Residuals:                  5837.33\n",
      "Model Family:                Binomial   Df Model:                            3\n",
      "Link Function:                  Logit   Scale:                          1.0000\n",
      "Method:                          IRLS   Log-Likelihood:                -406.48\n",
      "Date:                Sun, 09 Mar 2025   Deviance:                       812.95\n",
      "Time:                        19:21:19   Pearson chi2:                 5.57e+03\n",
      "No. Iterations:                     8   Pseudo R-squ. (CS):           0.007065\n",
      "Covariance Type:            nonrobust                                         \n",
      "=========================================================================================\n",
      "                            coef    std err          z      P>|z|      [0.025      0.975]\n",
      "-----------------------------------------------------------------------------------------\n",
      "Intercept                -3.7772      0.233    -16.214      0.000      -4.234      -3.321\n",
      "treatment                -1.6292      0.338     -4.823      0.000      -2.291      -0.967\n",
      "followup_time             0.0774      0.087      0.893      0.372      -0.093       0.247\n",
      "I(followup_time ** 2)    -0.0109      0.007     -1.647      0.100      -0.024       0.002\n",
      "=========================================================================================\n"
     ]
    }
   ],
   "source": [
    "msm_formula = \"outcome ~ treatment + followup_time + I(followup_time**2)\"\n",
    "\n",
    "merged_expanded_data = pd.merge(expanded_data,\n",
    "data[['id','period','ipw']],\n",
    "on=['id','period'],\n",
    "how='left',\n",
    "suffixes=('', '_orig'))\n",
    "\n",
    "# Fit the MSM\n",
    "msm_model = smf.glm(formula=msm_formula,\n",
    "data=merged_expanded_data,\n",
    "family=Binomial(),\n",
    "freq_weights=merged_expanded_data['ipw']).fit()\n",
    "\n",
    "print(\"MSM Model Summary:\")\n",
    "print(msm_model.summary())"
   ]
  },
  {
   "cell_type": "markdown",
   "id": "4e0faa4a",
   "metadata": {},
   "source": [
    "# Plotting\n",
    "\n",
    "## Survival Curves with Confidence Intervals\n",
    "\n",
    "Example approach: For logistic, the survival = 1 - predicted_risk if outcome=1 means event.\n",
    "\n",
    "We'll do predicted survival for treatment=0 vs 1 across followup_time=0..X."
   ]
  },
  {
   "cell_type": "code",
   "execution_count": 25,
   "id": "aaee2c07",
   "metadata": {},
   "outputs": [],
   "source": [
    "followup_range = np.arange(0, 11) # 0 to 10\n",
    "treatments = [0,1]\n",
    "\n",
    "def predict_survival(glm_model, t_val, treat_val):\n",
    "    # Construct a small DF for prediction\n",
    "    df_pred = pd.DataFrame({\n",
    "    'treatment': [treat_val],\n",
    "    'followup_time': [t_val]\n",
    "    })\n",
    "    logit_p = glm_model.predict(df_pred)\n",
    "    # If outcome=1 = event, survival=1 - p\n",
    "    return 1 - logit_p[0]"
   ]
  },
  {
   "cell_type": "markdown",
   "id": "2ed9011a",
   "metadata": {},
   "source": [
    "Collect predictions & approximate CIs\n",
    "\n",
    "(Statsmodels gives us the linear predictor + SE, so we can do a normal approx.)"
   ]
  },
  {
   "cell_type": "code",
   "execution_count": 26,
   "id": "03c39e61",
   "metadata": {},
   "outputs": [
    {
     "data": {
      "image/png": "[encoded data removed]",
      "text/plain": [
       "<Figure size 800x600 with 1 Axes>"
      ]
     },
     "metadata": {},
     "output_type": "display_data"
    }
   ],
   "source": [
    "def logistic_ci(pred_val, se_val, z=1.96):\n",
    "    lower_logit = pred_val - z * se_val\n",
    "    upper_logit = pred_val + z * se_val\n",
    "\n",
    "    # logistic transform\n",
    "    def logistic(x):\n",
    "        return 1 / (1 + np.exp(-x))\n",
    "    \n",
    "    return logistic(lower_logit), logistic(upper_logit)\n",
    "\n",
    "surv_data = []\n",
    "for treat in treatments:\n",
    "    for t in followup_range:\n",
    "        dfp = pd.DataFrame({'treatment': [t], 'followup_time': [t]})\n",
    "        \n",
    "        # Get predictions in log-odds scale\n",
    "        pred_res = msm_model.get_prediction(dfp)\n",
    "        mean_logit = pred_res.predicted_mean[0]\n",
    "        ci_bounds = pred_res.conf_int()[0]\n",
    "        lower_logit, upper_logit = ci_bounds[0], ci_bounds[1]\n",
    "\n",
    "        # Convert predicted mean from logistic scale\n",
    "        # predicted_mean is already probability of outcome=1, so survival = 1 - that\n",
    "        p_event = mean_logit\n",
    "        p_surv = 1 - p_event\n",
    "\n",
    "        # For CIs: we do a rough approach by also collecting the linear predictor & SE\n",
    "        # Then adjusting to survival scale. For simplicity, let's approximate.\n",
    "        # Alternatively, use pred_res.conf_int() which is for the probability scale, not log-odds.\n",
    "        # We'll do the direct probability scale from statsmodels:\n",
    "        ci_low_prob, ci_high_prob = 1 - upper_logit, 1 - lower_logit  # reversing since outcome=1 is the upper logistic\n",
    "        \n",
    "        # Actually we want to extract the probabilities from conf_int => let's do:\n",
    "        ci_probs = pred_res.conf_int(obs=True)  # conf_int in prob space\n",
    "        ci_lower = 1 - ci_probs[0][1]  # the 'upper' col might differ, check shape\n",
    "        ci_upper = 1 - ci_probs[0][0]\n",
    "\n",
    "        surv_data.append({\n",
    "            'treatment': treat,\n",
    "            'followup_time': t,\n",
    "            'survival': p_surv,\n",
    "            'surv_lower': ci_lower,\n",
    "            'surv_upper': ci_upper\n",
    "        })\n",
    "\n",
    "surv_df = pd.DataFrame(surv_data)\n",
    "plt.figure(figsize=(8,6))\n",
    "for treat in treatments:\n",
    "    subset = surv_df[surv_df['treatment'] == treat]\n",
    "    plt.plot(subset['followup_time'], subset['survival'], label=f\"Treatment={treat}\")\n",
    "    plt.fill_between(subset['followup_time'],\n",
    "                     subset['surv_lower'],\n",
    "                     subset['surv_upper'],\n",
    "                     alpha=0.2)\n",
    "\n",
    "plt.xlabel(\"Follow-up time\")\n",
    "plt.ylabel(\"Estimated Survival Probability\")\n",
    "plt.title(\"Survival Curves with Approx CI\")\n",
    "plt.legend()\n",
    "plt.show()\n"
   ]
  },
  {
   "cell_type": "markdown",
   "id": "3ed005c3",
   "metadata": {},
   "source": [
    "# Weight Distribution Plot"
   ]
  },
  {
   "cell_type": "code",
   "execution_count": 28,
   "id": "37ba145b",
   "metadata": {},
   "outputs": [
    {
     "data": {
      "image/png": "[encoded data removed]",
      "text/plain": [
       "<Figure size 700x500 with 1 Axes>"
      ]
     },
     "metadata": {},
     "output_type": "display_data"
    }
   ],
   "source": [
    "plt.figure(figsize=(7,5))\n",
    "sns.histplot(data['ipw'], bins=30, kde=True, color='seagreen')\n",
    "plt.title(\"Distribution of Inverse Probability Weights\")\n",
    "plt.xlabel(\"IPW\")\n",
    "plt.show()"
   ]
  },
  {
   "cell_type": "markdown",
   "id": "9bc86d4b",
   "metadata": {},
   "source": [
    "# Interactive Survival Curves using Plotly"
   ]
  },
  {
   "cell_type": "code",
   "execution_count": 29,
   "id": "8b80f43f",
   "metadata": {},
   "outputs": [
    {
     "data": {
      "application/vnd.plotly.v1+json": {
       "config": {
        "plotlyServerURL": "https://plot.ly"
       },
       "data": [
        {
         "mode": "lines",
         "name": "Treatment=0",
         "type": "scatter",
         "x": [
          0,
          1,
          2,
          3,
          4,
          5,
          6,
          7,
          8,
          9,
          10
         ],
         "y": [
          0.9776257175552803,
          0.9952264745842512,
          0.9990174241397478,
          0.999802704158705,
          0.9999612624379363,
          0.9999925590865948,
          0.99999860155904,
          0.9999997428451137,
          0.999999953732087,
          0.9999999918548357,
          0.9999999985970097
         ]
        },
        {
         "mode": "lines",
         "name": "Treatment=1",
         "type": "scatter",
         "x": [
          0,
          1,
          2,
          3,
          4,
          5,
          6,
          7,
          8,
          9,
          10
         ],
         "y": [
          0.9776257175552803,
          0.9952264745842512,
          0.9990174241397478,
          0.999802704158705,
          0.9999612624379363,
          0.9999925590865948,
          0.99999860155904,
          0.9999997428451137,
          0.999999953732087,
          0.9999999918548357,
          0.9999999985970097
         ]
        },
        {
         "fill": "toself",
         "fillcolor": "rgba(0,100,80,0.2)",
         "hoverinfo": "skip",
         "line": {
          "color": "rgba(255,255,255,0)"
         },
         "showlegend": false,
         "type": "scatter",
         "x": [
          0,
          1,
          2,
          3,
          4,
          5,
          6,
          7,
          8,
          9,
          10,
          10,
          9,
          8,
          7,
          6,
          5,
          4,
          3,
          2,
          1,
          0
         ],
         "y": [
          0.985710023551215,
          0.9975176892353178,
          0.9997215986524609,
          0.9999709668181765,
          0.9999970641847526,
          0.9999997099728007,
          0.9999999719564423,
          0.9999999973450521,
          0.9999999997539571,
          0.9999999999776902,
          0.9999999999980218,
          0.9999990049359331,
          0.9999970262639407,
          0.9999912994795634,
          0.9999750929118073,
          0.9999302689699866,
          0.9998091302047577,
          0.9994890877943939,
          0.998660576510769,
          0.9965383130020665,
          0.9908398505776634,
          0.9651296493625939
         ]
        }
       ],
       "layout": {
        "template": {
         "data": {
          "bar": [
           {
            "error_x": {
             "color": "#2a3f5f"
            },
            "error_y": {
             "color": "#2a3f5f"
            },
            "marker": {
             "line": {
              "color": "#E5ECF6",
              "width": 0.5
             },
             "pattern": {
              "fillmode": "overlay",
              "size": 10,
              "solidity": 0.2
             }
            },
            "type": "bar"
           }
          ],
          "barpolar": [
           {
            "marker": {
             "line": {
              "color": "#E5ECF6",
              "width": 0.5
             },
             "pattern": {
              "fillmode": "overlay",
              "size": 10,
              "solidity": 0.2
             }
            },
            "type": "barpolar"
           }
          ],
          "carpet": [
           {
            "aaxis": {
             "endlinecolor": "#2a3f5f",
             "gridcolor": "white",
             "linecolor": "white",
             "minorgridcolor": "white",
             "startlinecolor": "#2a3f5f"
            },
            "baxis": {
             "endlinecolor": "#2a3f5f",
             "gridcolor": "white",
             "linecolor": "white",
             "minorgridcolor": "white",
             "startlinecolor": "#2a3f5f"
            },
            "type": "carpet"
           }
          ],
          "choropleth": [
           {
            "colorbar": {
             "outlinewidth": 0,
             "ticks": ""
            },
            "type": "choropleth"
           }
          ],
          "contour": [
           {
            "colorbar": {
             "outlinewidth": 0,
             "ticks": ""
            },
            "colorscale": [
             [
              0,
              "#0d0887"
             ],
             [
              0.1111111111111111,
              "#46039f"
             ],
             [
              0.2222222222222222,
              "#7201a8"
             ],
             [
              0.3333333333333333,
              "#9c179e"
             ],
             [
              0.4444444444444444,
              "#bd3786"
             ],
             [
              0.5555555555555556,
              "#d8576b"
             ],
             [
              0.6666666666666666,
              "#ed7953"
             ],
             [
              0.7777777777777778,
              "#fb9f3a"
             ],
             [
              0.8888888888888888,
              "#fdca26"
             ],
             [
              1,
              "#f0f921"
             ]
            ],
            "type": "contour"
           }
          ],
          "contourcarpet": [
           {
            "colorbar": {
             "outlinewidth": 0,
             "ticks": ""
            },
            "type": "contourcarpet"
           }
          ],
          "heatmap": [
           {
            "colorbar": {
             "outlinewidth": 0,
             "ticks": ""
            },
            "colorscale": [
             [
              0,
              "#0d0887"
             ],
             [
              0.1111111111111111,
              "#46039f"
             ],
             [
              0.2222222222222222,
              "#7201a8"
             ],
             [
              0.3333333333333333,
              "#9c179e"
             ],
             [
              0.4444444444444444,
              "#bd3786"
             ],
             [
              0.5555555555555556,
              "#d8576b"
             ],
             [
              0.6666666666666666,
              "#ed7953"
             ],
             [
              0.7777777777777778,
              "#fb9f3a"
             ],
             [
              0.8888888888888888,
              "#fdca26"
             ],
             [
              1,
              "#f0f921"
             ]
            ],
            "type": "heatmap"
           }
          ],
          "heatmapgl": [
           {
            "colorbar": {
             "outlinewidth": 0,
             "ticks": ""
            },
            "colorscale": [
             [
              0,
              "#0d0887"
             ],
             [
              0.1111111111111111,
              "#46039f"
             ],
             [
              0.2222222222222222,
              "#7201a8"
             ],
             [
              0.3333333333333333,
              "#9c179e"
             ],
             [
              0.4444444444444444,
              "#bd3786"
             ],
             [
              0.5555555555555556,
              "#d8576b"
             ],
             [
              0.6666666666666666,
              "#ed7953"
             ],
             [
              0.7777777777777778,
              "#fb9f3a"
             ],
             [
              0.8888888888888888,
              "#fdca26"
             ],
             [
              1,
              "#f0f921"
             ]
            ],
            "type": "heatmapgl"
           }
          ],
          "histogram": [
           {
            "marker": {
             "pattern": {
              "fillmode": "overlay",
              "size": 10,
              "solidity": 0.2
             }
            },
            "type": "histogram"
           }
          ],
          "histogram2d": [
           {
            "colorbar": {
             "outlinewidth": 0,
             "ticks": ""
            },
            "colorscale": [
             [
              0,
              "#0d0887"
             ],
             [
              0.1111111111111111,
              "#46039f"
             ],
             [
              0.2222222222222222,
              "#7201a8"
             ],
             [
              0.3333333333333333,
              "#9c179e"
             ],
             [
              0.4444444444444444,
              "#bd3786"
             ],
             [
              0.5555555555555556,
              "#d8576b"
             ],
             [
              0.6666666666666666,
              "#ed7953"
             ],
             [
              0.7777777777777778,
              "#fb9f3a"
             ],
             [
              0.8888888888888888,
              "#fdca26"
             ],
             [
              1,
              "#f0f921"
             ]
            ],
            "type": "histogram2d"
           }
          ],
          "histogram2dcontour": [
           {
            "colorbar": {
             "outlinewidth": 0,
             "ticks": ""
            },
            "colorscale": [
             [
              0,
              "#0d0887"
             ],
             [
              0.1111111111111111,
              "#46039f"
             ],
             [
              0.2222222222222222,
              "#7201a8"
             ],
             [
              0.3333333333333333,
              "#9c179e"
             ],
             [
              0.4444444444444444,
              "#bd3786"
             ],
             [
              0.5555555555555556,
              "#d8576b"
             ],
             [
              0.6666666666666666,
              "#ed7953"
             ],
             [
              0.7777777777777778,
              "#fb9f3a"
             ],
             [
              0.8888888888888888,
              "#fdca26"
             ],
             [
              1,
              "#f0f921"
             ]
            ],
            "type": "histogram2dcontour"
           }
          ],
          "mesh3d": [
           {
            "colorbar": {
             "outlinewidth": 0,
             "ticks": ""
            },
            "type": "mesh3d"
           }
          ],
          "parcoords": [
           {
            "line": {
             "colorbar": {
              "outlinewidth": 0,
              "ticks": ""
             }
            },
            "type": "parcoords"
           }
          ],
          "pie": [
           {
            "automargin": true,
            "type": "pie"
           }
          ],
          "scatter": [
           {
            "fillpattern": {
             "fillmode": "overlay",
             "size": 10,
             "solidity": 0.2
            },
            "type": "scatter"
           }
          ],
          "scatter3d": [
           {
            "line": {
             "colorbar": {
              "outlinewidth": 0,
              "ticks": ""
             }
            },
            "marker": {
             "colorbar": {
              "outlinewidth": 0,
              "ticks": ""
             }
            },
            "type": "scatter3d"
           }
          ],
          "scattercarpet": [
           {
            "marker": {
             "colorbar": {
              "outlinewidth": 0,
              "ticks": ""
             }
            },
            "type": "scattercarpet"
           }
          ],
          "scattergeo": [
           {
            "marker": {
             "colorbar": {
              "outlinewidth": 0,
              "ticks": ""
             }
            },
            "type": "scattergeo"
           }
          ],
          "scattergl": [
           {
            "marker": {
             "colorbar": {
              "outlinewidth": 0,
              "ticks": ""
             }
            },
            "type": "scattergl"
           }
          ],
          "scattermapbox": [
           {
            "marker": {
             "colorbar": {
              "outlinewidth": 0,
              "ticks": ""
             }
            },
            "type": "scattermapbox"
           }
          ],
          "scatterpolar": [
           {
            "marker": {
             "colorbar": {
              "outlinewidth": 0,
              "ticks": ""
             }
            },
            "type": "scatterpolar"
           }
          ],
          "scatterpolargl": [
           {
            "marker": {
             "colorbar": {
              "outlinewidth": 0,
              "ticks": ""
             }
            },
            "type": "scatterpolargl"
           }
          ],
          "scatterternary": [
           {
            "marker": {
             "colorbar": {
              "outlinewidth": 0,
              "ticks": ""
             }
            },
            "type": "scatterternary"
           }
          ],
          "surface": [
           {
            "colorbar": {
             "outlinewidth": 0,
             "ticks": ""
            },
            "colorscale": [
             [
              0,
              "#0d0887"
             ],
             [
              0.1111111111111111,
              "#46039f"
             ],
             [
              0.2222222222222222,
              "#7201a8"
             ],
             [
              0.3333333333333333,
              "#9c179e"
             ],
             [
              0.4444444444444444,
              "#bd3786"
             ],
             [
              0.5555555555555556,
              "#d8576b"
             ],
             [
              0.6666666666666666,
              "#ed7953"
             ],
             [
              0.7777777777777778,
              "#fb9f3a"
             ],
             [
              0.8888888888888888,
              "#fdca26"
             ],
             [
              1,
              "#f0f921"
             ]
            ],
            "type": "surface"
           }
          ],
          "table": [
           {
            "cells": {
             "fill": {
              "color": "#EBF0F8"
             },
             "line": {
              "color": "white"
             }
            },
            "header": {
             "fill": {
              "color": "#C8D4E3"
             },
             "line": {
              "color": "white"
             }
            },
            "type": "table"
           }
          ]
         },
         "layout": {
          "annotationdefaults": {
           "arrowcolor": "#2a3f5f",
           "arrowhead": 0,
           "arrowwidth": 1
          },
          "autotypenumbers": "strict",
          "coloraxis": {
           "colorbar": {
            "outlinewidth": 0,
            "ticks": ""
           }
          },
          "colorscale": {
           "diverging": [
            [
             0,
             "#8e0152"
            ],
            [
             0.1,
             "#c51b7d"
            ],
            [
             0.2,
             "#de77ae"
            ],
            [
             0.3,
             "#f1b6da"
            ],
            [
             0.4,
             "#fde0ef"
            ],
            [
             0.5,
             "#f7f7f7"
            ],
            [
             0.6,
             "#e6f5d0"
            ],
            [
             0.7,
             "#b8e186"
            ],
            [
             0.8,
             "#7fbc41"
            ],
            [
             0.9,
             "#4d9221"
            ],
            [
             1,
             "#276419"
            ]
           ],
           "sequential": [
            [
             0,
             "#0d0887"
            ],
            [
             0.1111111111111111,
             "#46039f"
            ],
            [
             0.2222222222222222,
             "#7201a8"
            ],
            [
             0.3333333333333333,
             "#9c179e"
            ],
            [
             0.4444444444444444,
             "#bd3786"
            ],
            [
             0.5555555555555556,
             "#d8576b"
            ],
            [
             0.6666666666666666,
             "#ed7953"
            ],
            [
             0.7777777777777778,
             "#fb9f3a"
            ],
            [
             0.8888888888888888,
             "#fdca26"
            ],
            [
             1,
             "#f0f921"
            ]
           ],
           "sequentialminus": [
            [
             0,
             "#0d0887"
            ],
            [
             0.1111111111111111,
             "#46039f"
            ],
            [
             0.2222222222222222,
             "#7201a8"
            ],
            [
             0.3333333333333333,
             "#9c179e"
            ],
            [
             0.4444444444444444,
             "#bd3786"
            ],
            [
             0.5555555555555556,
             "#d8576b"
            ],
            [
             0.6666666666666666,
             "#ed7953"
            ],
            [
             0.7777777777777778,
             "#fb9f3a"
            ],
            [
             0.8888888888888888,
             "#fdca26"
            ],
            [
             1,
             "#f0f921"
            ]
           ]
          },
          "colorway": [
           "#636efa",
           "#EF553B",
           "#00cc96",
           "#ab63fa",
           "#FFA15A",
           "#19d3f3",
           "#FF6692",
           "#B6E880",
           "#FF97FF",
           "#FECB52"
          ],
          "font": {
           "color": "#2a3f5f"
          },
          "geo": {
           "bgcolor": "white",
           "lakecolor": "white",
           "landcolor": "#E5ECF6",
           "showlakes": true,
           "showland": true,
           "subunitcolor": "white"
          },
          "hoverlabel": {
           "align": "left"
          },
          "hovermode": "closest",
          "mapbox": {
           "style": "light"
          },
          "paper_bgcolor": "white",
          "plot_bgcolor": "#E5ECF6",
          "polar": {
           "angularaxis": {
            "gridcolor": "white",
            "linecolor": "white",
            "ticks": ""
           },
           "bgcolor": "#E5ECF6",
           "radialaxis": {
            "gridcolor": "white",
            "linecolor": "white",
            "ticks": ""
           }
          },
          "scene": {
           "xaxis": {
            "backgroundcolor": "#E5ECF6",
            "gridcolor": "white",
            "gridwidth": 2,
            "linecolor": "white",
            "showbackground": true,
            "ticks": "",
            "zerolinecolor": "white"
           },
           "yaxis": {
            "backgroundcolor": "#E5ECF6",
            "gridcolor": "white",
            "gridwidth": 2,
            "linecolor": "white",
            "showbackground": true,
            "ticks": "",
            "zerolinecolor": "white"
           },
           "zaxis": {
            "backgroundcolor": "#E5ECF6",
            "gridcolor": "white",
            "gridwidth": 2,
            "linecolor": "white",
            "showbackground": true,
            "ticks": "",
            "zerolinecolor": "white"
           }
          },
          "shapedefaults": {
           "line": {
            "color": "#2a3f5f"
           }
          },
          "ternary": {
           "aaxis": {
            "gridcolor": "white",
            "linecolor": "white",
            "ticks": ""
           },
           "baxis": {
            "gridcolor": "white",
            "linecolor": "white",
            "ticks": ""
           },
           "bgcolor": "#E5ECF6",
           "caxis": {
            "gridcolor": "white",
            "linecolor": "white",
            "ticks": ""
           }
          },
          "title": {
           "x": 0.05
          },
          "xaxis": {
           "automargin": true,
           "gridcolor": "white",
           "linecolor": "white",
           "ticks": "",
           "title": {
            "standoff": 15
           },
           "zerolinecolor": "white",
           "zerolinewidth": 2
          },
          "yaxis": {
           "automargin": true,
           "gridcolor": "white",
           "linecolor": "white",
           "ticks": "",
           "title": {
            "standoff": 15
           },
           "zerolinecolor": "white",
           "zerolinewidth": 2
          }
         }
        },
        "title": {
         "text": "Interactive Survival Curves"
        },
        "xaxis": {
         "title": {
          "text": "Follow-up Time"
         }
        },
        "yaxis": {
         "title": {
          "text": "Survival Probability"
         }
        }
       }
      }
     },
     "metadata": {},
     "output_type": "display_data"
    }
   ],
   "source": [
    "fig = go.Figure()\n",
    "\n",
    "for treat in treatments:\n",
    "    subset = surv_df[surv_df['treatment']==treat]\n",
    "    fig.add_trace(go.Scatter(\n",
    "    x=subset['followup_time'],\n",
    "    y=subset['survival'],\n",
    "    mode='lines',\n",
    "    name=f\"Treatment={treat}\"\n",
    "    ))\n",
    "# Add CI as fill\n",
    "fig.add_trace(go.Scatter(\n",
    "x=pd.concat([subset['followup_time'], subset['followup_time'][::-1]]),\n",
    "y=pd.concat([subset['surv_upper'], subset['surv_lower'][::-1]]),\n",
    "fill='toself',\n",
    "fillcolor='rgba(0,100,80,0.2)',\n",
    "line=dict(color='rgba(255,255,255,0)'),\n",
    "hoverinfo=\"skip\",\n",
    "showlegend=False\n",
    "))\n",
    "\n",
    "fig.update_layout(\n",
    "    title=\"Interactive Survival Curves\",\n",
    "    xaxis_title=\"Follow-up Time\",\n",
    "    yaxis_title=\"Survival Probability\"\n",
    ")\n",
    "fig.show()"
   ]
  },
  {
   "cell_type": "markdown",
   "id": "f1f80bf8",
   "metadata": {},
   "source": [
    "# Model Diagnostics Plots\n",
    "\n",
    "For a logistic regression in statsmodels, we can approximate or look at\n",
    "\n",
    "deviance residuals, leverage, Cook's distance, etc.\n",
    "\n",
    "However, these are more readily available for OLS. We'll do a quick approach.\n",
    "\n",
    "Convert our final MSM to something \"OLS-like\" for diagnostic demonstration,\n",
    "\n",
    "or we can do partial diagnostics using the GLM Influence approach:"
   ]
  },
  {
   "cell_type": "code",
   "execution_count": 30,
   "id": "f0da027c",
   "metadata": {},
   "outputs": [],
   "source": [
    "influence = msm_model.get_influence()\n",
    "summary_frame = influence.summary_frame()"
   ]
  },
  {
   "cell_type": "code",
   "execution_count": 31,
   "id": "ab4c0700",
   "metadata": {},
   "outputs": [
    {
     "data": {
      "image/png": "[encoded data removed]",
      "text/plain": [
       "<Figure size 700x500 with 1 Axes>"
      ]
     },
     "metadata": {},
     "output_type": "display_data"
    }
   ],
   "source": [
    "# Cook's distance\n",
    "cooks_d = summary_frame['cooks_d']\n",
    "\n",
    "plt.figure(figsize=(7,5))\n",
    "plt.stem(cooks_d)\n",
    "plt.title(\"Cook's Distance (approx for GLM)\")\n",
    "plt.xlabel(\"Observation index\")\n",
    "plt.ylabel(\"Cook's Distance\")\n",
    "plt.show()"
   ]
  },
  {
   "cell_type": "code",
   "execution_count": 32,
   "id": "333bdc72",
   "metadata": {},
   "outputs": [
    {
     "data": {
      "image/png": "[encoded data removed]",
      "text/plain": [
       "<Figure size 640x480 with 1 Axes>"
      ]
     },
     "metadata": {},
     "output_type": "display_data"
    }
   ],
   "source": [
    "# Q-Q plot of deviance residuals\n",
    "\n",
    "resid_deviance = msm_model.resid_deviance\n",
    "sm.qqplot(resid_deviance, line='45', fit=True)\n",
    "plt.title(\"Q-Q plot of Deviance Residuals\")\n",
    "plt.show()"
   ]
  },
  {
   "cell_type": "code",
   "execution_count": 33,
   "id": "ee05a957",
   "metadata": {},
   "outputs": [
    {
     "data": {
      "image/png": "[encoded data removed]",
      "text/plain": [
       "<Figure size 640x480 with 1 Axes>"
      ]
     },
     "metadata": {},
     "output_type": "display_data"
    }
   ],
   "source": [
    "#Residual plot\n",
    "\n",
    "plt.scatter(msm_model.fittedvalues, resid_deviance, alpha=0.6)\n",
    "plt.axhline(0, color='red', linestyle='--')\n",
    "plt.xlabel(\"Fitted values\")\n",
    "plt.ylabel(\"Deviance Residuals\")\n",
    "plt.title(\"Residual Plot\")\n",
    "plt.show()"
   ]
  },
  {
   "cell_type": "markdown",
   "id": "bad41440",
   "metadata": {},
   "source": [
    "# 1. Survival Curves with Approximate Confidence Intervals\n",
    "\n",
    "**Description:**  \n",
    "The survival curves depict the estimated survival probabilities over time for two treatment groups (Treatment=0 and Treatment=1). The shaded areas represent approximate confidence intervals.\n",
    "\n",
    "**Insights:**\n",
    "\n",
    "- **High Survival Probability:** Both treatment groups show high survival probabilities, nearing 1.0, indicating that most subjects survive throughout the follow-up period.\n",
    "- **Overlap of Curves:** The curves for Treatment=0 and Treatment=1 are almost identical, suggesting no significant difference in survival between the two groups.\n",
    "- **Narrow Confidence Intervals:** The narrow confidence intervals imply a high level of certainty in the survival estimates, possibly due to a large sample size or low variability in the data.\n",
    "\n",
    "**Citations:**\n",
    "\n",
    "- Hernán, M. A., & Robins, J. M. (2016). Using big data to emulate a target trial when a randomized trial is not available. *American Journal of Epidemiology*, 183(8), 758-764.\n",
    "\n",
    "---\n",
    "\n",
    "# 2. Distribution of Inverse Probability Weights (IPW)\n",
    "\n",
    "**Description:**  \n",
    "This histogram shows the distribution of inverse probability weights used to adjust for censoring in the analysis.\n",
    "\n",
    "**Insights:**\n",
    "\n",
    "- **Bimodal Distribution:** The distribution appears bimodal, indicating two distinct groups in the data, possibly due to different censoring mechanisms or treatment groups.\n",
    "- **Centered Around 1:** Most weights are centered around 1, suggesting that the weighting does not heavily distort the sample, which is desirable for stable estimates.\n",
    "- **Spread of Weights:** The spread of weights is relatively narrow, indicating that extreme weights are not prevalent, reducing the risk of introducing bias or variance inflation.\n",
    "\n",
    "**Citations:**\n",
    "\n",
    "- Robins, J. M., Hernán, M. A., & Brumback, B. (2000). Marginal structural models and causal inference in epidemiology. *Epidemiology*, 11(5), 550-560.\n",
    "\n",
    "---\n",
    "\n",
    "# 3. Cook's Distance (Approx for GLM)\n",
    "\n",
    "**Description:**  \n",
    "Cook's distance measures the influence of each observation on the fitted model. Points with high Cook's distance may indicate influential observations.\n",
    "\n",
    "**Insights:**\n",
    "\n",
    "- **Low Influence Overall:** Most observations have low Cook's distance, suggesting that no single observation unduly influences the model.\n",
    "- **Few High Points:** A few points have higher Cook's distance, which may warrant further investigation to ensure they are not outliers or data entry errors.\n",
    "\n",
    "**Citations:**\n",
    "\n",
    "- Cook, R. D. (1977). Detection of influential observation in linear regression. *Technometrics*, 19(1), 15-18.\n",
    "\n",
    "---\n",
    "\n",
    "# 4. Q-Q Plot of Deviance Residuals\n",
    "\n",
    "**Description:**  \n",
    "The Q-Q plot compares the distribution of deviance residuals to a theoretical normal distribution.\n",
    "\n",
    "**Insights:**\n",
    "\n",
    "- **Deviation from Line:** The residuals deviate from the 45-degree line, indicating potential non-normality or model misspecification.\n",
    "- **Clusters of Points:** The clustering of points suggests that certain groups of observations may not fit the model well, possibly due to unaccounted covariates or interactions.\n",
    "\n",
    "**Citations:**\n",
    "\n",
    "- McCullagh, P., & Nelder, J. A. (1989). *Generalized Linear Models*. CRC Press.\n",
    "\n",
    "---\n",
    "\n",
    "# 5. Residual Plot\n",
    "\n",
    "**Description:**  \n",
    "This plot shows deviance residuals against fitted values to assess model fit.\n",
    "\n",
    "**Insights:**\n",
    "\n",
    "- **Non-random Pattern:** The residuals show a non-random pattern, indicating potential issues with model fit, such as heteroscedasticity or omitted variables.\n",
    "- **Concentration Near Zero:** Many residuals are near zero, suggesting that the model fits a substantial portion of the data well, but improvements may be needed for certain subsets.\n",
    "\n",
    "**Citations:**\n",
    "\n",
    "- Hastie, T., Tibshirani, R., & Friedman, J. (2009). *The Elements of Statistical Learning*. Springer.\n"
   ]
  }
 ],
 "metadata": {
  "kernelspec": {
   "display_name": "Python 3",
   "language": "python",
   "name": "python3"
  },
  "language_info": {
   "codemirror_mode": {
    "name": "ipython",
    "version": 3
   },
   "file_extension": ".py",
   "mimetype": "text/x-python",
   "name": "python",
   "nbconvert_exporter": "python",
   "pygments_lexer": "ipython3",
   "version": "3.12.3"
  }
 },
 "nbformat": 4,
 "nbformat_minor": 5
}
