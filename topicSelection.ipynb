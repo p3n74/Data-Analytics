{
 "cells": [
  {
   "cell_type": "markdown",
   "metadata": {},
   "source": [
    "# Topic Selection"
   ]
  },
  {
   "cell_type": "markdown",
   "metadata": {
    "vscode": {
     "languageId": "latex"
    }
   },
   "source": [
    "## Possible Topic 1:\n",
    "\n",
    "### Disease Identification via Medical Imaging (X-ray, CT, PET, MRI)\n",
    "\n",
    "\n",
    "<p>\n",
    "\n",
    "### Things to research about first\n",
    "\n",
    "<ol>\n",
    "    <li>Attain a background on medical knowledge</li>\n",
    "    <li>Technical Aspects</li>\n",
    "    <li>Methodology</li>\n",
    "    <li>Domain Challenged</li>\n",
    "    <li>Who can we collaborate with?</li>\n",
    "    <li>Potential topics</li>\n",
    "</ol>\n",
    "\n",
    "</p>\n",
    "\n"
   ]
  },
  {
   "cell_type": "markdown",
   "metadata": {},
   "source": [
    "### Medical knowledge and Data\n",
    "\n",
    "<p>\n",
    "    For now, I think it is best to focus on either breast or lung cancer as there is the most available imaging scans there is. So first we have to know the basics such as the types, stages, grades and common symptoms/diagnostic criteria. We should also focus on the main medical imaging modalities which for breast cancer focuses on Mammography, ultrasound, MRI and Histopathology\n",
    "</p>\n",
    "\n",
    "### Technical Aspects\n",
    "\n",
    "<p>\n",
    "Regarding the technical aspects, the data for this is abundant in [Cancer Imaging Archive](https://www.cancerimagingarchive.net/collection/breast-cancer-screening-dbt/).\n",
    "</p>"
   ]
  },
  {
   "cell_type": "markdown",
   "metadata": {},
   "source": []
  }
 ],
 "metadata": {
  "language_info": {
   "name": "python"
  }
 },
 "nbformat": 4,
 "nbformat_minor": 2
}
